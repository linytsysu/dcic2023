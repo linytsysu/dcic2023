{
 "cells": [
  {
   "cell_type": "code",
   "execution_count": 1,
   "id": "9500975c",
   "metadata": {},
   "outputs": [],
   "source": [
    "import os\n",
    "import pickle\n",
    "import numpy as np\n",
    "import pandas as pd"
   ]
  },
  {
   "cell_type": "code",
   "execution_count": 2,
   "id": "ff7de379",
   "metadata": {},
   "outputs": [],
   "source": [
    "from tsfresh.feature_extraction.feature_calculators import longest_strike_above_mean, mean_abs_change, \\\n",
    "    mean_second_derivative_central, sample_entropy, benford_correlation, count_above_mean,\\\n",
    "    percentage_of_reoccurring_datapoints_to_all_datapoints"
   ]
  },
  {
   "cell_type": "code",
   "execution_count": 3,
   "id": "70cd108b",
   "metadata": {},
   "outputs": [],
   "source": [
    "account_static = pd.read_csv('./data/账户静态信息.csv')"
   ]
  },
  {
   "cell_type": "code",
   "execution_count": 4,
   "id": "bb1fe25e",
   "metadata": {},
   "outputs": [],
   "source": [
    "account_trade = pd.read_csv('./data/账户交易信息.csv')"
   ]
  },
  {
   "cell_type": "code",
   "execution_count": 5,
   "id": "b6c52ac9",
   "metadata": {},
   "outputs": [],
   "source": [
    "y_train = pd.read_csv('./data/训练集标签.csv')"
   ]
  },
  {
   "cell_type": "code",
   "execution_count": 6,
   "id": "500d7f6e",
   "metadata": {},
   "outputs": [],
   "source": [
    "y_test = pd.read_csv('./data/test_dataset.csv')"
   ]
  },
  {
   "cell_type": "code",
   "execution_count": 7,
   "id": "2fd159c7",
   "metadata": {},
   "outputs": [
    {
     "name": "stderr",
     "output_type": "stream",
     "text": [
      "/Users/yitinglin/Projects/dcic2023/env/lib/python3.7/site-packages/ipykernel_launcher.py:11: FutureWarning: Series.dt.weekofyear and Series.dt.week have been deprecated.  Please use Series.dt.isocalendar().week instead.\n",
      "  # This is added back by InteractiveShellApp.init_path()\n"
     ]
    },
    {
     "name": "stdout",
     "output_type": "stream",
     "text": [
      "['jyrq_month', 'jyrq_day', 'jyrq_weekofyear', 'jyrq_dayofyear', 'jyrq_dayofweek', 'jyrq_is_wknd', 'jyrq_is_month_start', 'jyrq_is_month_end', 'jyrq_hour', 'jyrq_minu', 'jyrq_date']\n"
     ]
    }
   ],
   "source": [
    "def get_time_feature(df, col):\n",
    "    \n",
    "    df_copy = df.copy()\n",
    "    prefix = col + \"_\"\n",
    "    df_copy['new_'+col] = df_copy[col].astype(str)\n",
    "    \n",
    "    col = 'new_'+col\n",
    "    df_copy[col] = pd.to_datetime(df_copy[col], format='%Y-%m-%d')\n",
    "    df_copy[prefix + 'month'] = df_copy[col].dt.month\n",
    "    df_copy[prefix + 'day'] = df_copy[col].dt.day\n",
    "    df_copy[prefix + 'weekofyear'] = df_copy[col].dt.weekofyear\n",
    "    df_copy[prefix + 'dayofyear'] = df_copy[col].dt.dayofyear\n",
    "    df_copy[prefix + 'dayofweek'] = df_copy[col].dt.dayofweek\n",
    "    df_copy[prefix + 'is_wknd'] = df_copy[col].dt.dayofweek // 6\n",
    "    df_copy[prefix + 'is_month_start'] = df_copy[col].dt.is_month_start.astype(int)\n",
    "    df_copy[prefix + 'is_month_end'] = df_copy[col].dt.is_month_end.astype(int)\n",
    "    del df_copy[col]\n",
    "    \n",
    "    df_copy[prefix + 'hour'] = df_copy['jysj'].apply(lambda x:int(x.split(':')[0]))\n",
    "    df_copy[prefix + 'minu'] = df_copy['jysj'].apply(lambda x:int(x.split(':')[1]))\n",
    "    df_copy[prefix + 'date'] = df_copy['jysj'].apply(lambda x:int(x.split(':')[0])*60 + int(x.split(':')[1]))\n",
    "    \n",
    "    return df_copy   \n",
    "\n",
    "account_trade = get_time_feature(account_trade, \"jyrq\")\n",
    "time_cols = [f for f in account_trade.columns if 'jyrq_' in f]\n",
    "print(time_cols)\n"
   ]
  },
  {
   "cell_type": "code",
   "execution_count": 8,
   "id": "6cf45bc3",
   "metadata": {},
   "outputs": [],
   "source": [
    "def get_base_feat(df1_, df2_):\n",
    "    df1 = df1_.copy() # 构建特征数据 \n",
    "    df2 = df2_.copy()\n",
    "\n",
    "    agg_func = {\n",
    "        'dfzh': ['nunique','count'],\n",
    "        'dfhh': ['nunique'],\n",
    "        'jyqd': ['nunique'],\n",
    "        'zydh': ['nunique'],\n",
    "        'jyje': ['sum','mean','median','max','min','std',np.ptp,\n",
    "                longest_strike_above_mean, mean_abs_change, mean_second_derivative_central,\n",
    "                 sample_entropy, benford_correlation, count_above_mean,\n",
    "                 percentage_of_reoccurring_datapoints_to_all_datapoints],\n",
    "#         'jyje': ['sum','mean','max','min','std',np.ptp],\n",
    "        'zhye': ['sum','mean', 'median', 'max','min','std',np.ptp],\n",
    "        'dfmccd': ['mean', 'median', 'max','min','std',np.ptp],\n",
    "    }\n",
    "    \n",
    "    for col in time_cols:\n",
    "        agg_func[col] = ['mean','min','max',np.ptp]\n",
    "    \n",
    "    agg_df = df1[df1['jdbj']==0].groupby(['zhdh']).agg(agg_func).reset_index()\n",
    "    agg_df.columns = ['zhdh'] + ['zhdh_jdbj0_' + '_'.join(f).strip()\n",
    "                                 for f in agg_df.columns.values if f[0] not in ['zhdh']]\n",
    "    df2 = df2.merge(agg_df, on=['zhdh'], how='left')\n",
    "    \n",
    "    agg_df = df1[df1['jdbj']==1].groupby(['zhdh']).agg(agg_func).reset_index()\n",
    "    agg_df.columns = ['zhdh'] + ['zhdh_jdbj1_' + '_'.join(f).strip()\n",
    "                                 for f in agg_df.columns.values if f[0] not in ['zhdh']]\n",
    "    df2 = df2.merge(agg_df, on=['zhdh'], how='left')\n",
    "    \n",
    "    return df2\n",
    "\n",
    "if os.path.exists('train_label.pkl'):\n",
    "    with open('train_label.pkl', 'rb') as file:\n",
    "        train_label = pickle.load(file)\n",
    "    with open('test_label.pkl', 'rb') as file:\n",
    "        test_label = pickle.load(file)\n",
    "else:\n",
    "    train_label = get_base_feat(account_trade, y_train)\n",
    "    test_label = get_base_feat(account_trade, y_test)\n",
    "    with open('train_label.pkl', 'wb') as file:\n",
    "        pickle.dump(train_label, file)\n",
    "    with open('test_label.pkl', 'wb') as file:\n",
    "        pickle.dump(test_label, file)"
   ]
  },
  {
   "cell_type": "code",
   "execution_count": 9,
   "id": "5c1f3244",
   "metadata": {},
   "outputs": [],
   "source": [
    "train_label = train_label.replace([np.inf, -np.inf], np.nan)\n",
    "test_label = test_label.replace([np.inf, -np.inf], np.nan)"
   ]
  },
  {
   "cell_type": "code",
   "execution_count": 10,
   "id": "34d8a38b",
   "metadata": {},
   "outputs": [],
   "source": [
    "fea = pd.concat([train_label, test_label])"
   ]
  },
  {
   "cell_type": "code",
   "execution_count": 11,
   "id": "4ba95d3f",
   "metadata": {},
   "outputs": [],
   "source": [
    "account_trade['jyje_is_int'] = (account_trade['jyje'] == account_trade['jyje'].astype(int)) + 0\n",
    "tmp = account_trade.groupby('zhdh')['jyje_is_int'].sum() / account_trade.groupby('zhdh').size()\n",
    "tmp = tmp.reset_index().rename(columns={0: 'jyje_int_pct'})\n",
    "fea = fea.merge(tmp, how='left', on='zhdh')"
   ]
  },
  {
   "cell_type": "code",
   "execution_count": 12,
   "id": "853838d2",
   "metadata": {},
   "outputs": [],
   "source": [
    "account_trade['dt'] = account_trade['jyrq'] + ' ' + account_trade['jysj']\n",
    "account_trade['dt'] = pd.to_datetime(account_trade['dt'])"
   ]
  },
  {
   "cell_type": "code",
   "execution_count": 13,
   "id": "0e1a7a44",
   "metadata": {},
   "outputs": [
    {
     "name": "stderr",
     "output_type": "stream",
     "text": [
      "/Users/yitinglin/Projects/dcic2023/env/lib/python3.7/site-packages/ipykernel_launcher.py:3: FutureWarning: Series.dt.weekofyear and Series.dt.week have been deprecated.  Please use Series.dt.isocalendar().week instead.\n",
      "  This is separate from the ipykernel package so we can avoid doing imports until\n"
     ]
    }
   ],
   "source": [
    "account_trade['month'] = account_trade['dt'].dt.month\n",
    "account_trade['day'] = account_trade['dt'].dt.day\n",
    "account_trade['weekofyear'] = account_trade['dt'].dt.weekofyear\n",
    "account_trade['dayofweek'] = account_trade['dt'].dt.dayofweek\n",
    "\n",
    "account_trade['is_wknd'] = account_trade['dt'].dt.dayofweek // 6\n",
    "account_trade['is_month_start'] = account_trade['dt'].dt.is_month_start.astype(int)\n",
    "account_trade['is_month_end'] = account_trade['dt'].dt.is_month_end.astype(int)\n",
    "\n",
    "account_trade['hour'] = account_trade['jysj'].apply(lambda x:int(x.split(':')[0]))\n",
    "account_trade['minu'] = account_trade['jysj'].apply(lambda x:int(x.split(':')[1]))"
   ]
  },
  {
   "cell_type": "code",
   "execution_count": 14,
   "id": "b14e023a",
   "metadata": {},
   "outputs": [],
   "source": [
    "account_trade['jyje_label'] = pd.qcut(account_trade['jyje'], 10, labels=range(10))"
   ]
  },
  {
   "cell_type": "code",
   "execution_count": 15,
   "id": "bcbcb431",
   "metadata": {},
   "outputs": [],
   "source": [
    "cat_cols = ['dfzh', 'dfhh', 'jyqd', 'zydh', 'jyje_label',\n",
    "            'month', 'day', 'weekofyear', 'dayofweek', 'is_wknd',\n",
    "            'is_month_start', 'is_month_end', 'hour', 'minu']"
   ]
  },
  {
   "cell_type": "code",
   "execution_count": 16,
   "id": "5166f94e",
   "metadata": {},
   "outputs": [],
   "source": [
    "for col in cat_cols:\n",
    "    tmp = account_trade.groupby(['zhdh', col]).size().reset_index().groupby('zhdh')\\\n",
    "        .apply(lambda x: x.sort_values(by=0).iloc[-1][col])\\\n",
    "        .reset_index().rename(columns={0: f'most_{col}'})\n",
    "    fea = fea.merge(tmp, how='left', on='zhdh')\n",
    "    \n",
    "    tmp = account_trade[account_trade['jdbj'] == 0].groupby(['zhdh', col]).size().reset_index().groupby('zhdh')\\\n",
    "        .apply(lambda x: x.sort_values(by=0).iloc[-1][col])\\\n",
    "        .reset_index().rename(columns={0: f'jdbj0_most_{col}'})\n",
    "    fea = fea.merge(tmp, how='left', on='zhdh')\n",
    "    \n",
    "    tmp = account_trade[account_trade['jdbj'] == 1].groupby(['zhdh', col]).size().reset_index().groupby('zhdh')\\\n",
    "        .apply(lambda x: x.sort_values(by=0).iloc[-1][col])\\\n",
    "        .reset_index().rename(columns={0: f'jdbj1_most_{col}'})\n",
    "    fea = fea.merge(tmp, how='left', on='zhdh')"
   ]
  },
  {
   "cell_type": "code",
   "execution_count": 17,
   "id": "379b9164",
   "metadata": {},
   "outputs": [],
   "source": [
    "# for col in ['dfhh', 'jyqd', 'zydh']:\n",
    "#     tmp = account_trade.groupby(['zhdh', col]).size().reset_index().groupby('zhdh')\\\n",
    "#         .apply(lambda x: x.sort_values(by=0).iloc[0][col])\\\n",
    "#         .reset_index().rename(columns={0: f'most_{col}'})\n",
    "#     fea = fea.merge(tmp, how='left', on='zhdh')"
   ]
  },
  {
   "cell_type": "code",
   "execution_count": 18,
   "id": "5195f6b5",
   "metadata": {},
   "outputs": [],
   "source": [
    "for col in cat_cols:\n",
    "    tmp = account_trade.groupby(['zhdh', col])['jyje'].sum().reset_index().groupby('zhdh')\\\n",
    "            .apply(lambda x: x.sort_values(by='jyje').iloc[-1][col])\\\n",
    "            .reset_index().rename(columns={0: f'most_jyje_{col}'})\n",
    "    fea = fea.merge(tmp, how='left', on='zhdh')\n",
    "    \n",
    "    tmp = account_trade[account_trade['jdbj'] == 0].groupby(['zhdh', col])['jyje'].sum()\\\n",
    "            .reset_index().groupby('zhdh')\\\n",
    "            .apply(lambda x: x.sort_values(by='jyje').iloc[-1][col])\\\n",
    "            .reset_index().rename(columns={0: f'jdbj0_most_jyje_{col}'})\n",
    "    fea = fea.merge(tmp, how='left', on='zhdh')\n",
    "    \n",
    "    tmp = account_trade[account_trade['jdbj'] == 1].groupby(['zhdh', col])['jyje'].sum()\\\n",
    "            .reset_index().groupby('zhdh')\\\n",
    "            .apply(lambda x: x.sort_values(by='jyje').iloc[-1][col])\\\n",
    "            .reset_index().rename(columns={0: f'jdbj1_most_jyje_{col}'})\n",
    "    fea = fea.merge(tmp, how='left', on='zhdh')"
   ]
  },
  {
   "cell_type": "code",
   "execution_count": 19,
   "id": "57a09668",
   "metadata": {},
   "outputs": [],
   "source": [
    "for c in cat_cols:\n",
    "    tmp = (account_trade.groupby([c]).size() / account_trade.shape[0])\\\n",
    "        .reset_index().rename(columns={0: f'{c}_ratio'})\n",
    "    account_trade = account_trade.merge(tmp, how='left', on=c)"
   ]
  },
  {
   "cell_type": "code",
   "execution_count": 20,
   "id": "382b8907",
   "metadata": {},
   "outputs": [],
   "source": [
    "agg_func = {}\n",
    "for c in cat_cols:\n",
    "    agg_func[f'{c}_ratio'] = ['sum','mean','max','min','std']\n",
    "tmp = account_trade.groupby('zhdh').agg(agg_func)\n",
    "tmp.columns = [f'{c[0]}_{c[1]}' for c in tmp.columns]\n",
    "tmp = tmp.reset_index()\n",
    "fea = fea.merge(tmp, how='left', on='zhdh')"
   ]
  },
  {
   "cell_type": "code",
   "execution_count": 21,
   "id": "a1e5db75",
   "metadata": {},
   "outputs": [],
   "source": [
    "for col in ['jyqd']:\n",
    "    tmp = account_trade.merge(y_train, how='left', on='zhdh').groupby(['black_flag', col])\\\n",
    "        .size().reset_index().rename({0: f'flag_{col}_cnt'},axis=1)\n",
    "    tmp2 = account_trade.merge(y_train, how='left', on='zhdh').groupby('black_flag').size()\\\n",
    "        .reset_index().rename({0:'flag_cnt'},axis=1)\n",
    "    tmp = tmp.merge(tmp2, how='left', on='black_flag')\n",
    "    tmp[f'p({col}|flag)'] = tmp[f'flag_{col}_cnt'] / tmp['flag_cnt']\n",
    "    for i in range(2):\n",
    "        tmp3 = account_trade.merge(tmp[tmp['black_flag'] == i][[col, f'p({col}|flag)']], how='left', on=col)\\\n",
    "            .groupby('zhdh').agg({f'p({col}|flag)': ['mean', 'sum', 'std', 'max']})\n",
    "        tmp3.columns = [f'{c[0]}_{c[1]}_lag={i}' for c in tmp3.columns]\n",
    "        tmp3 = tmp3.reset_index()\n",
    "        fea = fea.merge(tmp3, how='left', on='zhdh')"
   ]
  },
  {
   "cell_type": "code",
   "execution_count": 22,
   "id": "8fbb19be",
   "metadata": {},
   "outputs": [],
   "source": [
    "tmp = account_trade.groupby('zhdh').apply(lambda x: (x['dt'].max() - x['dt'].min()).days)\\\n",
    "    .reset_index().rename(columns={0: 'ndays'})\n",
    "tmp['trade_time_per_day'] = account_trade.groupby('zhdh').size().values / (tmp['ndays'].values+1)\n",
    "fea = fea.merge(tmp, how='left', on='zhdh')"
   ]
  },
  {
   "cell_type": "code",
   "execution_count": 23,
   "id": "1d569daa",
   "metadata": {},
   "outputs": [],
   "source": [
    "tmp = account_trade.groupby(['zhdh', 'jyje_label']).size().reset_index()\\\n",
    "    .rename(columns={0: 'cnt'}).pivot(index='zhdh', columns=['jyje_label'], values=['cnt'])\n",
    "tmp.columns = [f'jyje_label_{i}' for i in range(10)]\n",
    "tmp = (tmp.T /  account_trade.groupby(['zhdh']).size()).T\n",
    "fea = fea.merge(tmp, how='left', on='zhdh')"
   ]
  },
  {
   "cell_type": "code",
   "execution_count": 24,
   "id": "32004d08",
   "metadata": {},
   "outputs": [],
   "source": [
    "tmp = account_trade.groupby('zhdh')['dt'].min().reset_index().merge(account_static, how='left')\n",
    "tmp['kh2jy_days'] = (tmp['dt'] - pd.to_datetime(tmp['khrq'])).dt.days\n",
    "fea = fea.merge(tmp[['zhdh', 'kh2jy_days']], how='left', on='zhdh')"
   ]
  },
  {
   "cell_type": "code",
   "execution_count": 25,
   "id": "497c45fb",
   "metadata": {},
   "outputs": [],
   "source": [
    "tmp = account_trade.sort_values(by='dt').groupby('zhdh').tail(20).groupby('zhdh')\\\n",
    "    .apply(lambda x: (x['dt'].max() - x['dt'].min()).seconds / 3600).reset_index()\\\n",
    "    .rename(columns={0: 'last20trade_hours'})\n",
    "fea = fea.merge(tmp, how='left', on='zhdh')"
   ]
  },
  {
   "cell_type": "code",
   "execution_count": 26,
   "id": "5d2c577c",
   "metadata": {},
   "outputs": [],
   "source": [
    "tmp = account_trade.groupby('zhdh').apply(lambda x: x[x['jyrq'] == x['jyrq'].min()].shape[0])\\\n",
    "    .reset_index().rename(columns={0: 'last_day_trade_cnt'})\n",
    "fea = fea.merge(tmp, how='left', on='zhdh')"
   ]
  },
  {
   "cell_type": "code",
   "execution_count": 27,
   "id": "0b2a4bfd",
   "metadata": {},
   "outputs": [],
   "source": [
    "tmp = account_trade.groupby(['zhdh', 'jdbj'])['jyje'].sum().reset_index()\\\n",
    "    .pivot(index='zhdh', columns=['jdbj'], values=['jyje'])\n",
    "tmp.columns = ['jdbj_0', 'jdbj_1']\n",
    "tmp = tmp.reset_index()\n",
    "tmp['in_out_diff'] = (tmp['jdbj_0'] - tmp['jdbj_1'])\n",
    "tmp['in_out_ratio'] = (tmp['jdbj_0'] / tmp['jdbj_1'])\n",
    "fea = fea.merge(tmp, how='left', on='zhdh')"
   ]
  },
  {
   "cell_type": "code",
   "execution_count": 28,
   "id": "02f44a27",
   "metadata": {},
   "outputs": [],
   "source": [
    "tmp = account_trade.groupby(['zhdh', 'jyqd'])['jyje'].sum().reset_index()\\\n",
    "    .pivot(index='zhdh', columns=['jyqd'], values=['jyje'])\n",
    "jyqd_cols = [f'{c[1]}_sum' for c in tmp.columns]\n",
    "tmp.columns = jyqd_cols\n",
    "tmp = tmp.reset_index()\n",
    "tmp = tmp.merge(account_trade.groupby(['zhdh'])['jyje'].sum().reset_index(), how='left', on='zhdh')\n",
    "for col in jyqd_cols:\n",
    "    tmp[col.split('_')[0]+'_ratio'] = tmp[col] / tmp['jyje']\n",
    "tmp = tmp.drop(columns=['jyje'])\n",
    "fea = fea.merge(tmp, how='left', on='zhdh')"
   ]
  },
  {
   "cell_type": "code",
   "execution_count": 29,
   "id": "c42f4274",
   "metadata": {},
   "outputs": [],
   "source": [
    "# tmp = account_trade.groupby(['zhdh', 'zydh'])['jyje'].sum().reset_index()\\\n",
    "#     .pivot(index='zhdh', columns=['zydh'], values=['jyje'])\n",
    "# zydh_cols = [f'{c[1]}_sum' for c in tmp.columns]\n",
    "# tmp.columns = zydh_cols\n",
    "# tmp = tmp.reset_index()\n",
    "# tmp = tmp.merge(account_trade.groupby(['zhdh'])['jyje'].sum().reset_index(), how='left', on='zhdh')\n",
    "# for col in zydh_cols:\n",
    "#     tmp[col.split('_')[0]+'_ratio'] = tmp[col] / tmp['jyje']\n",
    "# tmp = tmp.drop(columns=['jyje'])\n",
    "# fea = fea.merge(tmp, how='left', on='zhdh')"
   ]
  },
  {
   "cell_type": "code",
   "execution_count": 30,
   "id": "226592ef",
   "metadata": {},
   "outputs": [],
   "source": [
    "# tmp = account_trade.merge(account_static[['zhdh', 'khjgdh']], how='left', on='zhdh').groupby('zhdh')\\\n",
    "#     .apply(lambda x: x[x['jyqd'] == x['khjgdh']].shape[0] / x.shape[0])\n",
    "# tmp = tmp.reset_index().rename(columns={0: 'same_bank_ratio'})\n",
    "# fea = fea.merge(tmp, how='left', on='zhdh')"
   ]
  },
  {
   "cell_type": "code",
   "execution_count": 31,
   "id": "469552dd",
   "metadata": {},
   "outputs": [],
   "source": [
    "with open('w2v_fea.pkl', 'rb') as file:\n",
    "    w2v_fea = pickle.load(file)\n",
    "fea = fea.merge(w2v_fea, how='left', on='zhdh')\n",
    "\n",
    "with open('tfidf_fea.pkl', 'rb') as file:\n",
    "    tfidf_fea = pickle.load(file)\n",
    "fea = fea.merge(tfidf_fea, how='left', on='zhdh')"
   ]
  },
  {
   "cell_type": "code",
   "execution_count": 32,
   "id": "f55fa49d",
   "metadata": {},
   "outputs": [],
   "source": [
    "with open('w2v_fea_zydh.pkl', 'rb') as file:\n",
    "    w2v_fea = pickle.load(file)\n",
    "fea = fea.merge(w2v_fea, how='left', on='zhdh')\n",
    "\n",
    "with open('tfidf_fea_zydh.pkl', 'rb') as file:\n",
    "    tfidf_fea = pickle.load(file)\n",
    "fea = fea.merge(tfidf_fea, how='left', on='zhdh')"
   ]
  },
  {
   "cell_type": "code",
   "execution_count": 33,
   "id": "bef13053",
   "metadata": {},
   "outputs": [],
   "source": [
    "# with open('w2v_fea_dfzh.pkl', 'rb') as file:\n",
    "#     w2v_fea = pickle.load(file)\n",
    "# fea = fea.merge(w2v_fea, how='left', on='zhdh')\n",
    "\n",
    "# with open('tfidf_fea_dfzh.pkl', 'rb') as file:\n",
    "#     tfidf_fea = pickle.load(file)\n",
    "# fea = fea.merge(tfidf_fea, how='left', on='zhdh')"
   ]
  },
  {
   "cell_type": "code",
   "execution_count": 34,
   "id": "c1d35dca",
   "metadata": {},
   "outputs": [],
   "source": [
    "account_static['khrq']  = pd.to_datetime(account_static['khrq'], format='%Y-%m-%d')\n",
    "account_static['year']  = account_static['khrq'].dt.year\n",
    "account_static['month'] = account_static['khrq'].dt.month\n",
    "account_static['day']   = account_static['khrq'].dt.day"
   ]
  },
  {
   "cell_type": "code",
   "execution_count": 35,
   "id": "cfde1cf6",
   "metadata": {},
   "outputs": [],
   "source": [
    "df = account_static.merge(fea, how='left', on='zhdh')"
   ]
  },
  {
   "cell_type": "code",
   "execution_count": 36,
   "id": "bbc65dc0",
   "metadata": {},
   "outputs": [],
   "source": [
    "def label_encode(series):\n",
    "    unique = list(series.unique())\n",
    "    return series.map(dict(zip(\n",
    "        unique, range(series.nunique())\n",
    "    )))\n",
    "\n",
    "for col in ['khrq', 'khjgdh'] + [f'most_{c}' for c in cat_cols] + [f'most_jyje_{c}' for c in cat_cols] +\\\n",
    "    [f'jdbj0_most_{c}' for c in cat_cols] + [f'jdbj1_most_{c}' for c in cat_cols] +\\\n",
    "    [f'jdbj0_most_jyje_{c}' for c in cat_cols] + [f'jdbj1_most_jyje_{c}' for c in cat_cols]:\n",
    "    df[col] = label_encode(df[col])"
   ]
  },
  {
   "cell_type": "code",
   "execution_count": 37,
   "id": "0856f61c",
   "metadata": {},
   "outputs": [],
   "source": [
    "train = df[df['zhdh'].isin(y_train['zhdh'].values)]\n",
    "test_ids = pd.read_csv('./data/test_dataset.csv')['zhdh'].values\n",
    "test = df[df['zhdh'].isin(test_ids)]"
   ]
  },
  {
   "cell_type": "code",
   "execution_count": 38,
   "id": "30c61aff",
   "metadata": {},
   "outputs": [],
   "source": [
    "target = 'black_flag'\n",
    "features = [c for c in train.columns if c not in [target, 'zhdh',]]"
   ]
  },
  {
   "cell_type": "code",
   "execution_count": 39,
   "id": "ba9529f9",
   "metadata": {},
   "outputs": [],
   "source": [
    "from sklearn.model_selection import KFold, StratifiedKFold\n",
    "from sklearn.utils.class_weight import compute_class_weight\n",
    "from catboost import CatBoostClassifier"
   ]
  },
  {
   "cell_type": "code",
   "execution_count": 40,
   "id": "ddd11770",
   "metadata": {},
   "outputs": [],
   "source": [
    "import xgboost as xgb"
   ]
  },
  {
   "cell_type": "code",
   "execution_count": 41,
   "id": "ed96bb5d",
   "metadata": {},
   "outputs": [
    {
     "name": "stdout",
     "output_type": "stream",
     "text": [
      "[0]\ttrain-auc:0.92013\teval-auc:0.91974\n",
      "[581]\ttrain-auc:0.99996\teval-auc:0.96242\n",
      "[0]\ttrain-auc:0.92208\teval-auc:0.88942\n"
     ]
    },
    {
     "name": "stderr",
     "output_type": "stream",
     "text": [
      "/Users/yitinglin/Projects/dcic2023/env/lib/python3.7/site-packages/xgboost/core.py:94: UserWarning: ntree_limit is deprecated, use `iteration_range` or model slicing instead.\n",
      "  UserWarning\n"
     ]
    },
    {
     "name": "stdout",
     "output_type": "stream",
     "text": [
      "[867]\ttrain-auc:0.99999\teval-auc:0.97076\n",
      "[0]\ttrain-auc:0.92532\teval-auc:0.90362\n",
      "[652]\ttrain-auc:0.99998\teval-auc:0.97332\n",
      "[0]\ttrain-auc:0.91133\teval-auc:0.88103\n",
      "[627]\ttrain-auc:0.99998\teval-auc:0.97005\n",
      "[0]\ttrain-auc:0.92291\teval-auc:0.90040\n",
      "[795]\ttrain-auc:0.99999\teval-auc:0.96387\n"
     ]
    }
   ],
   "source": [
    "FOLDS = 5\n",
    "folds = KFold(n_splits=FOLDS, shuffle=True, random_state=2023)\n",
    "\n",
    "oof_pred = np.zeros((len(train),))\n",
    "y_pred = np.zeros((len(test),))\n",
    "\n",
    "for fold, (tr_ind, val_ind) in enumerate(folds.split(train)):\n",
    "    \n",
    "    x_train, x_val = train.iloc[tr_ind][features], train.iloc[val_ind][features]\n",
    "    y_train, y_val = train.iloc[tr_ind][target], train.iloc[val_ind][target]\n",
    "    \n",
    "    train_matrix = xgb.DMatrix(x_train , label=y_train)\n",
    "    valid_matrix = xgb.DMatrix(x_val , label=y_val)\n",
    "    test_matrix = xgb.DMatrix(test[features])\n",
    "            \n",
    "    params = {'booster': 'gbtree',\n",
    "              'objective': 'binary:logistic',\n",
    "              'eval_metric': 'auc',\n",
    "              'gamma': 1,\n",
    "              'min_child_weight': 1.5,\n",
    "              'max_depth': 5,\n",
    "              'lambda': 10,\n",
    "              'subsample': 0.7,\n",
    "              'colsample_bytree': 0.7,\n",
    "              'colsample_bylevel': 0.7,\n",
    "              'eta': 0.05,\n",
    "              'tree_method': 'exact',\n",
    "              'seed': 2023,\n",
    "              'nthread': 8\n",
    "              }\n",
    "\n",
    "    watchlist = [(train_matrix, 'train'),(valid_matrix, 'eval')]\n",
    "\n",
    "    model = xgb.train(params, train_matrix, num_boost_round=10000, evals=watchlist,\n",
    "                      verbose_eval=1000, early_stopping_rounds=500)\n",
    "    val_pred  = model.predict(valid_matrix, ntree_limit=model.best_ntree_limit)\n",
    "    test_pred = model.predict(test_matrix , ntree_limit=model.best_ntree_limit)\n",
    "    \n",
    "    oof_pred[val_ind] = val_pred\n",
    "    y_pred += test_pred / FOLDS"
   ]
  },
  {
   "cell_type": "code",
   "execution_count": 42,
   "id": "6fc0a1cc",
   "metadata": {},
   "outputs": [
    {
     "data": {
      "text/plain": [
       "0.8651488616462347"
      ]
     },
     "execution_count": 42,
     "metadata": {},
     "output_type": "execute_result"
    }
   ],
   "source": [
    "from sklearn.metrics import f1_score\n",
    "f1_score(train[target].values, (oof_pred > 0.5) + 0)"
   ]
  },
  {
   "cell_type": "code",
   "execution_count": 43,
   "id": "acfab938",
   "metadata": {},
   "outputs": [
    {
     "name": "stdout",
     "output_type": "stream",
     "text": [
      "0.40, 0.9158772262220538\n",
      "0.41, 0.9158772262220538\n",
      "0.42, 0.9169163444329682\n",
      "0.43, 0.9144381773050118\n",
      "0.44, 0.9154788011695907\n",
      "0.45, 0.9154788011695907\n",
      "0.46, 0.9142346634901728\n",
      "0.47, 0.9140295222620551\n",
      "0.48, 0.9140295222620551\n",
      "0.49, 0.9127786873957553\n",
      "0.50, 0.9115246768592027\n",
      "0.51, 0.9134041687233176\n",
      "0.52, 0.9134041687233176\n",
      "0.53, 0.9155072219141087\n",
      "0.54, 0.9152993866940751\n",
      "0.55, 0.9112698913056168\n",
      "0.56, 0.9123277849809702\n",
      "0.57, 0.9110473009878431\n",
      "0.58, 0.9058912102390363\n",
      "0.59, 0.9058912102390363\n",
      "0.42, 0.9169163444329682\n"
     ]
    }
   ],
   "source": [
    "oof = oof_pred\n",
    "scores = []; thresholds = []\n",
    "best_score = 0; best_threshold = 0\n",
    "\n",
    "for threshold in np.arange(0.4,0.6,0.01):\n",
    "    preds = (oof.reshape((-1))>threshold).astype('int')\n",
    "    m = f1_score(train['black_flag'].values.reshape((-1)), preds, average='macro')   \n",
    "    scores.append(m)\n",
    "    thresholds.append(threshold)\n",
    "    if m>best_score:\n",
    "        best_score = m\n",
    "        best_threshold = threshold\n",
    "    print(f'{threshold:.02f}, {m}')\n",
    "print(f'{best_threshold:.02f}, {best_score}')"
   ]
  },
  {
   "cell_type": "code",
   "execution_count": 44,
   "id": "a22b17b3",
   "metadata": {},
   "outputs": [],
   "source": [
    "test_result = test[['zhdh', 'black_flag']].copy()\n",
    "test_result['black_flag'] = y_pred\n",
    "test_result['black_flag'] = test_result['black_flag'].apply(lambda x: (x > best_threshold)+0)"
   ]
  },
  {
   "cell_type": "code",
   "execution_count": 45,
   "id": "dadcc768",
   "metadata": {},
   "outputs": [],
   "source": [
    "result = pd.read_csv('./data/test_dataset.csv')\n",
    "result = result.merge(test_result, how='left', on='zhdh')\n",
    "result.to_csv('result.csv', index=False)"
   ]
  },
  {
   "cell_type": "code",
   "execution_count": null,
   "id": "5b9c782d",
   "metadata": {},
   "outputs": [],
   "source": []
  },
  {
   "cell_type": "code",
   "execution_count": null,
   "id": "6c9c420c",
   "metadata": {},
   "outputs": [],
   "source": []
  },
  {
   "cell_type": "code",
   "execution_count": 50,
   "id": "29c0c59f",
   "metadata": {},
   "outputs": [
    {
     "name": "stderr",
     "output_type": "stream",
     "text": [
      "/Users/yitinglin/Projects/dcic2023/env/lib/python3.7/site-packages/ipykernel_launcher.py:2: SettingWithCopyWarning: \n",
      "A value is trying to be set on a copy of a slice from a DataFrame.\n",
      "Try using .loc[row_indexer,col_indexer] = value instead\n",
      "\n",
      "See the caveats in the documentation: https://pandas.pydata.org/pandas-docs/stable/user_guide/indexing.html#returning-a-view-versus-a-copy\n",
      "  \n",
      "/Users/yitinglin/Projects/dcic2023/env/lib/python3.7/site-packages/ipykernel_launcher.py:3: SettingWithCopyWarning: \n",
      "A value is trying to be set on a copy of a slice from a DataFrame.\n",
      "Try using .loc[row_indexer,col_indexer] = value instead\n",
      "\n",
      "See the caveats in the documentation: https://pandas.pydata.org/pandas-docs/stable/user_guide/indexing.html#returning-a-view-versus-a-copy\n",
      "  This is separate from the ipykernel package so we can avoid doing imports until\n",
      "/Users/yitinglin/Projects/dcic2023/env/lib/python3.7/site-packages/ipykernel_launcher.py:6: SettingWithCopyWarning: \n",
      "A value is trying to be set on a copy of a slice from a DataFrame.\n",
      "Try using .loc[row_indexer,col_indexer] = value instead\n",
      "\n",
      "See the caveats in the documentation: https://pandas.pydata.org/pandas-docs/stable/user_guide/indexing.html#returning-a-view-versus-a-copy\n",
      "  \n",
      "/Users/yitinglin/Projects/dcic2023/env/lib/python3.7/site-packages/ipykernel_launcher.py:7: SettingWithCopyWarning: \n",
      "A value is trying to be set on a copy of a slice from a DataFrame.\n",
      "Try using .loc[row_indexer,col_indexer] = value instead\n",
      "\n",
      "See the caveats in the documentation: https://pandas.pydata.org/pandas-docs/stable/user_guide/indexing.html#returning-a-view-versus-a-copy\n",
      "  import sys\n",
      "/Users/yitinglin/Projects/dcic2023/env/lib/python3.7/site-packages/ipykernel_launcher.py:10: SettingWithCopyWarning: \n",
      "A value is trying to be set on a copy of a slice from a DataFrame.\n",
      "Try using .loc[row_indexer,col_indexer] = value instead\n",
      "\n",
      "See the caveats in the documentation: https://pandas.pydata.org/pandas-docs/stable/user_guide/indexing.html#returning-a-view-versus-a-copy\n",
      "  # Remove the CWD from sys.path while we load stuff.\n",
      "/Users/yitinglin/Projects/dcic2023/env/lib/python3.7/site-packages/ipykernel_launcher.py:11: SettingWithCopyWarning: \n",
      "A value is trying to be set on a copy of a slice from a DataFrame.\n",
      "Try using .loc[row_indexer,col_indexer] = value instead\n",
      "\n",
      "See the caveats in the documentation: https://pandas.pydata.org/pandas-docs/stable/user_guide/indexing.html#returning-a-view-versus-a-copy\n",
      "  # This is added back by InteractiveShellApp.init_path()\n",
      "/Users/yitinglin/Projects/dcic2023/env/lib/python3.7/site-packages/ipykernel_launcher.py:14: SettingWithCopyWarning: \n",
      "A value is trying to be set on a copy of a slice from a DataFrame.\n",
      "Try using .loc[row_indexer,col_indexer] = value instead\n",
      "\n",
      "See the caveats in the documentation: https://pandas.pydata.org/pandas-docs/stable/user_guide/indexing.html#returning-a-view-versus-a-copy\n",
      "  \n",
      "/Users/yitinglin/Projects/dcic2023/env/lib/python3.7/site-packages/ipykernel_launcher.py:15: SettingWithCopyWarning: \n",
      "A value is trying to be set on a copy of a slice from a DataFrame.\n",
      "Try using .loc[row_indexer,col_indexer] = value instead\n",
      "\n",
      "See the caveats in the documentation: https://pandas.pydata.org/pandas-docs/stable/user_guide/indexing.html#returning-a-view-versus-a-copy\n",
      "  from ipykernel import kernelapp as app\n"
     ]
    }
   ],
   "source": [
    "for c in [f'jdbj0_most_{c}' for c in cat_cols]:\n",
    "    train[c] = train[c].astype(str)\n",
    "    test[c] = test[c].astype(str)\n",
    "\n",
    "for c in [f'jdbj1_most_{c}' for c in cat_cols]:\n",
    "    train[c] = train[c].astype(str)\n",
    "    test[c] = test[c].astype(str)\n",
    "\n",
    "for c in [f'jdbj0_most_jyje_{c}' for c in cat_cols]:\n",
    "    train[c] = train[c].astype(str)\n",
    "    test[c] = test[c].astype(str)\n",
    "    \n",
    "for c in [f'jdbj1_most_jyje_{c}' for c in cat_cols]:\n",
    "    train[c] = train[c].astype(str)\n",
    "    test[c] = test[c].astype(str)"
   ]
  },
  {
   "cell_type": "code",
   "execution_count": 51,
   "id": "4bdeb98c",
   "metadata": {},
   "outputs": [
    {
     "name": "stdout",
     "output_type": "stream",
     "text": [
      "0:\tlearn: 0.6880427\ttest: 0.6879814\tbest: 0.6879814 (0)\ttotal: 68.9ms\tremaining: 11m 28s\n",
      "100:\tlearn: 0.3096384\ttest: 0.3354541\tbest: 0.3354541 (100)\ttotal: 5.89s\tremaining: 9m 37s\n",
      "200:\tlearn: 0.2206138\ttest: 0.2652263\tbest: 0.2652263 (200)\ttotal: 10.6s\tremaining: 8m 37s\n",
      "300:\tlearn: 0.1808502\ttest: 0.2421781\tbest: 0.2421781 (300)\ttotal: 15.4s\tremaining: 8m 17s\n",
      "400:\tlearn: 0.1529521\ttest: 0.2333431\tbest: 0.2333431 (400)\ttotal: 20.4s\tremaining: 8m 7s\n",
      "500:\tlearn: 0.1336148\ttest: 0.2269591\tbest: 0.2269591 (500)\ttotal: 25.3s\tremaining: 8m\n",
      "600:\tlearn: 0.1163591\ttest: 0.2195371\tbest: 0.2195371 (600)\ttotal: 30.3s\tremaining: 7m 53s\n",
      "700:\tlearn: 0.1021003\ttest: 0.2154583\tbest: 0.2154583 (700)\ttotal: 35.2s\tremaining: 7m 47s\n",
      "800:\tlearn: 0.0901286\ttest: 0.2128777\tbest: 0.2128777 (800)\ttotal: 40.2s\tremaining: 7m 41s\n",
      "900:\tlearn: 0.0790381\ttest: 0.2101774\tbest: 0.2101235 (899)\ttotal: 45.1s\tremaining: 7m 35s\n",
      "1000:\tlearn: 0.0690173\ttest: 0.2084473\tbest: 0.2082868 (996)\ttotal: 50s\tremaining: 7m 29s\n",
      "1100:\tlearn: 0.0624402\ttest: 0.2076320\tbest: 0.2074349 (1092)\ttotal: 56.9s\tremaining: 7m 40s\n",
      "1200:\tlearn: 0.0556384\ttest: 0.2066052\tbest: 0.2066052 (1200)\ttotal: 1m 2s\tremaining: 7m 37s\n",
      "1300:\tlearn: 0.0503036\ttest: 0.2061699\tbest: 0.2061233 (1286)\ttotal: 1m 7s\tremaining: 7m 29s\n",
      "1400:\tlearn: 0.0459336\ttest: 0.2067146\tbest: 0.2060625 (1312)\ttotal: 1m 11s\tremaining: 7m 21s\n",
      "Stopped by overfitting detector  (100 iterations wait)\n",
      "\n",
      "bestTest = 0.2060625278\n",
      "bestIteration = 1312\n",
      "\n",
      "Shrink model to first 1313 iterations.\n",
      "0:\tlearn: 0.6839905\ttest: 0.6845269\tbest: 0.6845269 (0)\ttotal: 40.4ms\tremaining: 6m 43s\n",
      "100:\tlearn: 0.3021337\ttest: 0.3441679\tbest: 0.3441679 (100)\ttotal: 4.51s\tremaining: 7m 21s\n",
      "200:\tlearn: 0.2154499\ttest: 0.2769368\tbest: 0.2769368 (200)\ttotal: 9.06s\tremaining: 7m 21s\n",
      "300:\tlearn: 0.1729589\ttest: 0.2535838\tbest: 0.2535838 (300)\ttotal: 13.7s\tremaining: 7m 20s\n",
      "400:\tlearn: 0.1462353\ttest: 0.2401837\tbest: 0.2401109 (398)\ttotal: 18.4s\tremaining: 7m 20s\n",
      "500:\tlearn: 0.1262742\ttest: 0.2317261\tbest: 0.2317261 (500)\ttotal: 23.1s\tremaining: 7m 17s\n",
      "600:\tlearn: 0.1102013\ttest: 0.2261575\tbest: 0.2261575 (600)\ttotal: 27.7s\tremaining: 7m 13s\n",
      "700:\tlearn: 0.0960393\ttest: 0.2227271\tbest: 0.2223948 (675)\ttotal: 32.4s\tremaining: 7m 10s\n",
      "800:\tlearn: 0.0834881\ttest: 0.2206148\tbest: 0.2204791 (799)\ttotal: 37s\tremaining: 7m 5s\n",
      "900:\tlearn: 0.0732752\ttest: 0.2193691\tbest: 0.2190858 (898)\ttotal: 41.6s\tremaining: 7m\n",
      "1000:\tlearn: 0.0641840\ttest: 0.2176406\tbest: 0.2174334 (989)\ttotal: 46.3s\tremaining: 6m 55s\n",
      "Stopped by overfitting detector  (100 iterations wait)\n",
      "\n",
      "bestTest = 0.2174333942\n",
      "bestIteration = 989\n",
      "\n",
      "Shrink model to first 990 iterations.\n",
      "0:\tlearn: 0.6838150\ttest: 0.6846474\tbest: 0.6846474 (0)\ttotal: 27ms\tremaining: 4m 29s\n",
      "100:\tlearn: 0.2870924\ttest: 0.3961652\tbest: 0.3961652 (100)\ttotal: 4.41s\tremaining: 7m 11s\n",
      "200:\tlearn: 0.1944385\ttest: 0.3555231\tbest: 0.3555231 (200)\ttotal: 8.93s\tremaining: 7m 15s\n",
      "300:\tlearn: 0.1522262\ttest: 0.3490134\tbest: 0.3487038 (288)\ttotal: 13.5s\tremaining: 7m 14s\n",
      "400:\tlearn: 0.1254864\ttest: 0.3505008\tbest: 0.3475514 (317)\ttotal: 18s\tremaining: 7m 11s\n",
      "Stopped by overfitting detector  (100 iterations wait)\n",
      "\n",
      "bestTest = 0.3475514426\n",
      "bestIteration = 317\n",
      "\n",
      "Shrink model to first 318 iterations.\n",
      "0:\tlearn: 0.6852814\ttest: 0.6846040\tbest: 0.6846040 (0)\ttotal: 41.3ms\tremaining: 6m 52s\n",
      "100:\tlearn: 0.3153274\ttest: 0.3282110\tbest: 0.3282110 (100)\ttotal: 4.44s\tremaining: 7m 14s\n",
      "200:\tlearn: 0.2218468\ttest: 0.2575259\tbest: 0.2575259 (200)\ttotal: 8.93s\tremaining: 7m 15s\n",
      "300:\tlearn: 0.1784975\ttest: 0.2336520\tbest: 0.2336520 (300)\ttotal: 13.6s\tremaining: 7m 18s\n",
      "400:\tlearn: 0.1507528\ttest: 0.2234930\tbest: 0.2234930 (400)\ttotal: 18.3s\tremaining: 7m 18s\n",
      "500:\tlearn: 0.1303351\ttest: 0.2150353\tbest: 0.2150353 (500)\ttotal: 22.9s\tremaining: 7m 14s\n",
      "600:\tlearn: 0.1142936\ttest: 0.2103224\tbest: 0.2102172 (598)\ttotal: 27.6s\tremaining: 7m 11s\n",
      "700:\tlearn: 0.0992845\ttest: 0.2072864\tbest: 0.2070286 (694)\ttotal: 34.2s\tremaining: 7m 34s\n",
      "800:\tlearn: 0.0859905\ttest: 0.2047378\tbest: 0.2046810 (796)\ttotal: 39.6s\tremaining: 7m 34s\n",
      "900:\tlearn: 0.0750255\ttest: 0.2030173\tbest: 0.2025048 (894)\ttotal: 44.3s\tremaining: 7m 27s\n",
      "1000:\tlearn: 0.0655432\ttest: 0.2014917\tbest: 0.2014326 (999)\ttotal: 49s\tremaining: 7m 20s\n",
      "1100:\tlearn: 0.0583780\ttest: 0.2012994\tbest: 0.2010214 (1019)\ttotal: 53.6s\tremaining: 7m 13s\n",
      "Stopped by overfitting detector  (100 iterations wait)\n",
      "\n",
      "bestTest = 0.2010214452\n",
      "bestIteration = 1019\n",
      "\n",
      "Shrink model to first 1020 iterations.\n",
      "0:\tlearn: 0.6878661\ttest: 0.6885434\tbest: 0.6885434 (0)\ttotal: 7.48ms\tremaining: 1m 14s\n",
      "100:\tlearn: 0.3080655\ttest: 0.3335351\tbest: 0.3335351 (100)\ttotal: 4.52s\tremaining: 7m 22s\n",
      "200:\tlearn: 0.2164501\ttest: 0.2621725\tbest: 0.2621725 (200)\ttotal: 9.01s\tremaining: 7m 19s\n",
      "300:\tlearn: 0.1757882\ttest: 0.2380786\tbest: 0.2380786 (300)\ttotal: 14s\tremaining: 7m 31s\n",
      "400:\tlearn: 0.1495271\ttest: 0.2223933\tbest: 0.2223933 (400)\ttotal: 18.4s\tremaining: 7m 20s\n",
      "500:\tlearn: 0.1303410\ttest: 0.2140864\tbest: 0.2140748 (499)\ttotal: 22.8s\tremaining: 7m 12s\n",
      "600:\tlearn: 0.1140958\ttest: 0.2077222\tbest: 0.2077222 (600)\ttotal: 27.4s\tremaining: 7m 8s\n",
      "700:\tlearn: 0.0998389\ttest: 0.2039995\tbest: 0.2039995 (700)\ttotal: 31.9s\tremaining: 7m 2s\n",
      "800:\tlearn: 0.0879524\ttest: 0.2005705\tbest: 0.2005705 (800)\ttotal: 36.4s\tremaining: 6m 57s\n",
      "900:\tlearn: 0.0776232\ttest: 0.1993733\tbest: 0.1988788 (884)\ttotal: 40.8s\tremaining: 6m 52s\n",
      "1000:\tlearn: 0.0681386\ttest: 0.1980285\tbest: 0.1980285 (1000)\ttotal: 45.2s\tremaining: 6m 46s\n",
      "1100:\tlearn: 0.0609179\ttest: 0.1972500\tbest: 0.1972164 (1093)\ttotal: 49.5s\tremaining: 6m 40s\n",
      "Stopped by overfitting detector  (100 iterations wait)\n",
      "\n",
      "bestTest = 0.1972164409\n",
      "bestIteration = 1093\n",
      "\n",
      "Shrink model to first 1094 iterations.\n"
     ]
    }
   ],
   "source": [
    "FOLDS = 5\n",
    "folds = StratifiedKFold(n_splits=FOLDS, shuffle=True, random_state=2023)\n",
    "\n",
    "oof_pred = np.zeros((len(train),))\n",
    "y_pred = np.zeros((len(test),))\n",
    "\n",
    "for fold, (tr_ind, val_ind) in enumerate(folds.split(train, train[target])):\n",
    "    x_train, x_val = train.iloc[tr_ind][features], train.iloc[val_ind][features]\n",
    "    y_train, y_val = train.iloc[tr_ind][target], train.iloc[val_ind][target]\n",
    "    \n",
    "    classes = np.unique(y_train)\n",
    "    weights = compute_class_weight(class_weight='balanced', classes=classes, y=y_train)\n",
    "    class_weights = dict(zip(classes, weights))\n",
    "    \n",
    "    params = {\n",
    "        'task_type': 'CPU',\n",
    "        'bootstrap_type': 'Bayesian',\n",
    "        'boosting_type': 'Plain',\n",
    "        'learning_rate': 0.01,\n",
    "        'eval_metric': 'Logloss',\n",
    "        'loss_function': 'Logloss',\n",
    "        'iterations': 10000,\n",
    "        'random_state': 42,\n",
    "        'depth': 6,\n",
    "        'leaf_estimation_iterations': 8,\n",
    "        'reg_lambda': 5,\n",
    "        'early_stopping_rounds': 100,\n",
    "        'class_weights': class_weights,\n",
    "        'cat_features': ['khjgdh', 'xb', '年龄'] + [f'most_{c}' for c in cat_cols] + \\\n",
    "                        [f'most_jyje_{c}' for c in cat_cols] +\\\n",
    "                        [f'jdbj0_most_{c}' for c in cat_cols] +\\\n",
    "                        [f'jdbj1_most_{c}' for c in cat_cols] +\\\n",
    "                        [f'jdbj0_most_jyje_{c}' for c in cat_cols] +\\\n",
    "                        [f'jdbj1_most_jyje_{c}' for c in cat_cols],\n",
    "    }\n",
    "    model = CatBoostClassifier(**params)\n",
    "    model.fit(x_train,\n",
    "               y_train,\n",
    "               eval_set=(x_val, y_val),\n",
    "               verbose=100)\n",
    "    oof_pred[val_ind] = model.predict_proba(x_val)[:, 1]\n",
    "    y_pred += model.predict_proba(test[features])[:, 1] / FOLDS"
   ]
  },
  {
   "cell_type": "code",
   "execution_count": 52,
   "id": "f28d708e",
   "metadata": {},
   "outputs": [
    {
     "data": {
      "text/plain": [
       "0.8647746243739565"
      ]
     },
     "execution_count": 52,
     "metadata": {},
     "output_type": "execute_result"
    }
   ],
   "source": [
    "from sklearn.metrics import f1_score\n",
    "f1_score(train[target].values, (oof_pred > 0.5) + 0)"
   ]
  },
  {
   "cell_type": "code",
   "execution_count": 53,
   "id": "02172c38",
   "metadata": {},
   "outputs": [
    {
     "name": "stdout",
     "output_type": "stream",
     "text": [
      "0.40, 0.903123891662033\n",
      "0.41, 0.900737289237177\n",
      "0.42, 0.9025041285119738\n",
      "0.43, 0.9013028030003948\n",
      "0.44, 0.9022943446905485\n",
      "0.45, 0.9032878468724241\n",
      "0.46, 0.905280780075188\n",
      "0.47, 0.9062802349609639\n",
      "0.48, 0.9072816980694725\n",
      "0.49, 0.9113078762301413\n",
      "0.50, 0.9098998052463897\n",
      "0.51, 0.9094950999790499\n",
      "0.52, 0.9094950999790499\n",
      "0.53, 0.9088760536206301\n",
      "0.54, 0.9109215950296505\n",
      "0.55, 0.9107155470791835\n",
      "0.56, 0.9094804175970068\n",
      "0.57, 0.9094804175970068\n",
      "0.58, 0.9113300492610837\n",
      "0.59, 0.9100875508247193\n",
      "0.58, 0.9113300492610837\n"
     ]
    }
   ],
   "source": [
    "oof = oof_pred\n",
    "scores = []; thresholds = []\n",
    "best_score = 0; best_threshold = 0\n",
    "\n",
    "for threshold in np.arange(0.4,0.6,0.01):\n",
    "    preds = (oof.reshape((-1))>threshold).astype('int')\n",
    "    m = f1_score(train['black_flag'].values.reshape((-1)), preds, average='macro')   \n",
    "    scores.append(m)\n",
    "    thresholds.append(threshold)\n",
    "    if m>best_score:\n",
    "        best_score = m\n",
    "        best_threshold = threshold\n",
    "    print(f'{threshold:.02f}, {m}')\n",
    "print(f'{best_threshold:.02f}, {best_score}')"
   ]
  },
  {
   "cell_type": "code",
   "execution_count": 60,
   "id": "a5890a87",
   "metadata": {},
   "outputs": [],
   "source": [
    "test_result = test[['zhdh', 'black_flag']].copy()\n",
    "test_result['black_flag'] = y_pred\n",
    "test_result['black_flag'] = test_result['black_flag'].apply(lambda x: (x > 0.50)+0)"
   ]
  },
  {
   "cell_type": "code",
   "execution_count": 61,
   "id": "619140fd",
   "metadata": {},
   "outputs": [],
   "source": [
    "result = pd.read_csv('./data/test_dataset.csv')\n",
    "result = result.merge(test_result, how='left', on='zhdh')\n",
    "result.to_csv('result.csv', index=False)"
   ]
  },
  {
   "cell_type": "code",
   "execution_count": 62,
   "id": "0fa472ad",
   "metadata": {},
   "outputs": [],
   "source": [
    "pd.DataFrame(model.feature_importances_, features).sort_values(by=0, ascending=False).to_csv('fi.csv')"
   ]
  },
  {
   "cell_type": "code",
   "execution_count": null,
   "id": "2164e72b",
   "metadata": {},
   "outputs": [],
   "source": []
  },
  {
   "cell_type": "code",
   "execution_count": null,
   "id": "a86ab757",
   "metadata": {},
   "outputs": [],
   "source": []
  },
  {
   "cell_type": "code",
   "execution_count": null,
   "id": "9a658cd6",
   "metadata": {},
   "outputs": [],
   "source": []
  },
  {
   "cell_type": "code",
   "execution_count": null,
   "id": "7c1f9290",
   "metadata": {},
   "outputs": [],
   "source": []
  },
  {
   "cell_type": "code",
   "execution_count": 82,
   "id": "91e6adff",
   "metadata": {},
   "outputs": [
    {
     "name": "stderr",
     "output_type": "stream",
     "text": [
      "/Users/yitinglin/Projects/dcic2023/env/lib/python3.7/site-packages/ipykernel_launcher.py:1: SettingWithCopyWarning: \n",
      "A value is trying to be set on a copy of a slice from a DataFrame.\n",
      "Try using .loc[row_indexer,col_indexer] = value instead\n",
      "\n",
      "See the caveats in the documentation: https://pandas.pydata.org/pandas-docs/stable/user_guide/indexing.html#returning-a-view-versus-a-copy\n",
      "  \"\"\"Entry point for launching an IPython kernel.\n"
     ]
    }
   ],
   "source": [
    "test['black_flag'] = y_pred"
   ]
  },
  {
   "cell_type": "code",
   "execution_count": 83,
   "id": "3d921c97",
   "metadata": {},
   "outputs": [],
   "source": [
    "new_train = pd.concat([train, test[(test['black_flag'] > 0.98) | (test['black_flag'] < 0.02)].copy()])\n",
    "new_test = test[~((test['black_flag'] > 0.98) | (test['black_flag'] < 0.02))].copy()"
   ]
  },
  {
   "cell_type": "code",
   "execution_count": 84,
   "id": "d189ec87",
   "metadata": {},
   "outputs": [],
   "source": [
    "new_train['black_flag'] = (new_train['black_flag'] > 0) + 0"
   ]
  },
  {
   "cell_type": "code",
   "execution_count": 85,
   "id": "bacff51a",
   "metadata": {},
   "outputs": [
    {
     "name": "stdout",
     "output_type": "stream",
     "text": [
      "0:\tlearn: 0.6878241\ttest: 0.6885613\tbest: 0.6885613 (0)\ttotal: 65.1ms\tremaining: 10m 50s\n",
      "100:\tlearn: 0.4417971\ttest: 0.4807257\tbest: 0.4807257 (100)\ttotal: 4.09s\tremaining: 6m 40s\n",
      "200:\tlearn: 0.3834371\ttest: 0.4518828\tbest: 0.4518828 (200)\ttotal: 7.25s\tremaining: 5m 53s\n",
      "300:\tlearn: 0.3470120\ttest: 0.4400088\tbest: 0.4400088 (300)\ttotal: 9.79s\tremaining: 5m 15s\n",
      "400:\tlearn: 0.3193859\ttest: 0.4321788\tbest: 0.4321496 (399)\ttotal: 12.4s\tremaining: 4m 56s\n",
      "500:\tlearn: 0.2951583\ttest: 0.4267661\tbest: 0.4266982 (499)\ttotal: 15.1s\tremaining: 4m 45s\n",
      "600:\tlearn: 0.2751183\ttest: 0.4230531\tbest: 0.4230531 (600)\ttotal: 17.7s\tremaining: 4m 36s\n",
      "700:\tlearn: 0.2566864\ttest: 0.4197406\tbest: 0.4194264 (687)\ttotal: 20.4s\tremaining: 4m 30s\n",
      "800:\tlearn: 0.2390636\ttest: 0.4190372\tbest: 0.4186072 (792)\ttotal: 23s\tremaining: 4m 24s\n",
      "900:\tlearn: 0.2198738\ttest: 0.4158454\tbest: 0.4158359 (898)\ttotal: 25.7s\tremaining: 4m 20s\n",
      "1000:\tlearn: 0.2019708\ttest: 0.4146883\tbest: 0.4144218 (981)\ttotal: 28.5s\tremaining: 4m 15s\n",
      "1100:\tlearn: 0.1862028\ttest: 0.4132533\tbest: 0.4132533 (1100)\ttotal: 32.1s\tremaining: 4m 19s\n",
      "1200:\tlearn: 0.1720166\ttest: 0.4121987\tbest: 0.4120380 (1197)\ttotal: 36s\tremaining: 4m 23s\n",
      "1300:\tlearn: 0.1600453\ttest: 0.4115940\tbest: 0.4113984 (1292)\ttotal: 38.8s\tremaining: 4m 19s\n",
      "1400:\tlearn: 0.1493998\ttest: 0.4104419\tbest: 0.4102720 (1385)\ttotal: 41.6s\tremaining: 4m 15s\n",
      "1500:\tlearn: 0.1390780\ttest: 0.4100935\tbest: 0.4094912 (1462)\ttotal: 44.3s\tremaining: 4m 11s\n",
      "Stopped by overfitting detector  (100 iterations wait)\n",
      "\n",
      "bestTest = 0.4094911993\n",
      "bestIteration = 1462\n",
      "\n",
      "Shrink model to first 1463 iterations.\n",
      "0:\tlearn: 0.6878510\ttest: 0.6880964\tbest: 0.6880964 (0)\ttotal: 33.6ms\tremaining: 5m 36s\n",
      "100:\tlearn: 0.4562558\ttest: 0.4678763\tbest: 0.4678763 (100)\ttotal: 2.91s\tremaining: 4m 45s\n",
      "200:\tlearn: 0.4025568\ttest: 0.4292101\tbest: 0.4292101 (200)\ttotal: 5.56s\tremaining: 4m 30s\n",
      "300:\tlearn: 0.3648545\ttest: 0.4055199\tbest: 0.4055199 (300)\ttotal: 8.37s\tremaining: 4m 29s\n",
      "400:\tlearn: 0.3371379\ttest: 0.3932192\tbest: 0.3932192 (400)\ttotal: 11.1s\tremaining: 4m 24s\n",
      "500:\tlearn: 0.3130008\ttest: 0.3848391\tbest: 0.3848391 (500)\ttotal: 13.8s\tremaining: 4m 20s\n",
      "600:\tlearn: 0.2917091\ttest: 0.3781218\tbest: 0.3780118 (596)\ttotal: 16.5s\tremaining: 4m 17s\n",
      "700:\tlearn: 0.2724737\ttest: 0.3729880\tbest: 0.3729573 (698)\ttotal: 19.1s\tremaining: 4m 13s\n",
      "800:\tlearn: 0.2540792\ttest: 0.3674610\tbest: 0.3674610 (800)\ttotal: 21.9s\tremaining: 4m 11s\n",
      "900:\tlearn: 0.2352031\ttest: 0.3615741\tbest: 0.3615741 (900)\ttotal: 24.5s\tremaining: 4m 7s\n",
      "1000:\tlearn: 0.2182928\ttest: 0.3580916\tbest: 0.3580441 (998)\ttotal: 27.3s\tremaining: 4m 5s\n",
      "1100:\tlearn: 0.2021690\ttest: 0.3542158\tbest: 0.3541790 (1098)\ttotal: 30s\tremaining: 4m 2s\n",
      "1200:\tlearn: 0.1875132\ttest: 0.3508286\tbest: 0.3507991 (1199)\ttotal: 32.7s\tremaining: 3m 59s\n",
      "1300:\tlearn: 0.1749150\ttest: 0.3495012\tbest: 0.3495012 (1300)\ttotal: 35.4s\tremaining: 3m 56s\n",
      "1400:\tlearn: 0.1633102\ttest: 0.3472557\tbest: 0.3472056 (1398)\ttotal: 38.1s\tremaining: 3m 54s\n",
      "1500:\tlearn: 0.1532974\ttest: 0.3456836\tbest: 0.3455337 (1486)\ttotal: 41s\tremaining: 3m 52s\n",
      "1600:\tlearn: 0.1433884\ttest: 0.3438197\tbest: 0.3438022 (1595)\ttotal: 43.7s\tremaining: 3m 49s\n",
      "1700:\tlearn: 0.1347163\ttest: 0.3420489\tbest: 0.3420489 (1700)\ttotal: 46.5s\tremaining: 3m 46s\n",
      "1800:\tlearn: 0.1274306\ttest: 0.3412817\tbest: 0.3412817 (1800)\ttotal: 49.2s\tremaining: 3m 43s\n",
      "1900:\tlearn: 0.1199431\ttest: 0.3403060\tbest: 0.3402246 (1898)\ttotal: 51.9s\tremaining: 3m 40s\n",
      "2000:\tlearn: 0.1126526\ttest: 0.3392303\tbest: 0.3392245 (1998)\ttotal: 54.6s\tremaining: 3m 38s\n",
      "2100:\tlearn: 0.1062528\ttest: 0.3388179\tbest: 0.3387505 (2093)\ttotal: 57.3s\tremaining: 3m 35s\n",
      "2200:\tlearn: 0.1005070\ttest: 0.3382279\tbest: 0.3382224 (2184)\ttotal: 1m\tremaining: 3m 32s\n",
      "2300:\tlearn: 0.0954009\ttest: 0.3378889\tbest: 0.3377079 (2285)\ttotal: 1m 2s\tremaining: 3m 30s\n",
      "2400:\tlearn: 0.0902345\ttest: 0.3375067\tbest: 0.3374792 (2399)\ttotal: 1m 5s\tremaining: 3m 27s\n",
      "2500:\tlearn: 0.0857968\ttest: 0.3370841\tbest: 0.3368314 (2433)\ttotal: 1m 8s\tremaining: 3m 24s\n",
      "Stopped by overfitting detector  (100 iterations wait)\n",
      "\n",
      "bestTest = 0.3368313849\n",
      "bestIteration = 2433\n",
      "\n",
      "Shrink model to first 2434 iterations.\n",
      "0:\tlearn: 0.6868770\ttest: 0.6874104\tbest: 0.6874104 (0)\ttotal: 33.7ms\tremaining: 5m 37s\n",
      "100:\tlearn: 0.4521124\ttest: 0.4768657\tbest: 0.4768657 (100)\ttotal: 2.77s\tremaining: 4m 32s\n",
      "200:\tlearn: 0.3935837\ttest: 0.4382136\tbest: 0.4382136 (200)\ttotal: 5.54s\tremaining: 4m 29s\n",
      "300:\tlearn: 0.3571420\ttest: 0.4208292\tbest: 0.4208292 (300)\ttotal: 8.14s\tremaining: 4m 22s\n",
      "400:\tlearn: 0.3301353\ttest: 0.4097750\tbest: 0.4097750 (400)\ttotal: 10.9s\tremaining: 4m 20s\n",
      "500:\tlearn: 0.3070013\ttest: 0.4024543\tbest: 0.4024543 (500)\ttotal: 13.5s\tremaining: 4m 16s\n",
      "600:\tlearn: 0.2867696\ttest: 0.3967665\tbest: 0.3967665 (600)\ttotal: 16.1s\tremaining: 4m 12s\n",
      "700:\tlearn: 0.2678420\ttest: 0.3911170\tbest: 0.3911170 (700)\ttotal: 18.9s\tremaining: 4m 11s\n",
      "800:\tlearn: 0.2516000\ttest: 0.3883917\tbest: 0.3883917 (800)\ttotal: 21.7s\tremaining: 4m 8s\n",
      "900:\tlearn: 0.2342311\ttest: 0.3842904\tbest: 0.3842123 (894)\ttotal: 24.3s\tremaining: 4m 5s\n",
      "1000:\tlearn: 0.2176451\ttest: 0.3793329\tbest: 0.3793329 (1000)\ttotal: 27s\tremaining: 4m 2s\n",
      "1100:\tlearn: 0.2022489\ttest: 0.3761682\tbest: 0.3761471 (1093)\ttotal: 29.8s\tremaining: 4m\n",
      "1200:\tlearn: 0.1879477\ttest: 0.3741712\tbest: 0.3740785 (1196)\ttotal: 32.5s\tremaining: 3m 58s\n",
      "1300:\tlearn: 0.1755705\ttest: 0.3727647\tbest: 0.3727647 (1300)\ttotal: 36.4s\tremaining: 4m 3s\n",
      "1400:\tlearn: 0.1637147\ttest: 0.3717730\tbest: 0.3717730 (1400)\ttotal: 40.5s\tremaining: 4m 8s\n",
      "1500:\tlearn: 0.1538490\ttest: 0.3700102\tbest: 0.3700102 (1500)\ttotal: 43.5s\tremaining: 4m 6s\n",
      "1600:\tlearn: 0.1446505\ttest: 0.3679389\tbest: 0.3679389 (1600)\ttotal: 46.3s\tremaining: 4m 2s\n",
      "1700:\tlearn: 0.1355171\ttest: 0.3673272\tbest: 0.3671269 (1693)\ttotal: 49s\tremaining: 3m 59s\n",
      "1800:\tlearn: 0.1276366\ttest: 0.3664148\tbest: 0.3661789 (1758)\ttotal: 51.7s\tremaining: 3m 55s\n",
      "1900:\tlearn: 0.1209115\ttest: 0.3656655\tbest: 0.3656362 (1891)\ttotal: 54.4s\tremaining: 3m 51s\n",
      "2000:\tlearn: 0.1144456\ttest: 0.3650347\tbest: 0.3649753 (1934)\ttotal: 57.1s\tremaining: 3m 48s\n",
      "2100:\tlearn: 0.1084775\ttest: 0.3640709\tbest: 0.3640709 (2100)\ttotal: 59.9s\tremaining: 3m 45s\n",
      "2200:\tlearn: 0.1025640\ttest: 0.3638786\tbest: 0.3638619 (2194)\ttotal: 1m 2s\tremaining: 3m 41s\n",
      "2300:\tlearn: 0.0970657\ttest: 0.3633406\tbest: 0.3632990 (2298)\ttotal: 1m 5s\tremaining: 3m 38s\n",
      "2400:\tlearn: 0.0921517\ttest: 0.3633158\tbest: 0.3629382 (2354)\ttotal: 1m 8s\tremaining: 3m 35s\n",
      "Stopped by overfitting detector  (100 iterations wait)\n",
      "\n",
      "bestTest = 0.3629382066\n",
      "bestIteration = 2354\n",
      "\n",
      "Shrink model to first 2355 iterations.\n",
      "0:\tlearn: 0.6874983\ttest: 0.6872444\tbest: 0.6872444 (0)\ttotal: 33ms\tremaining: 5m 30s\n",
      "100:\tlearn: 0.4501014\ttest: 0.4677682\tbest: 0.4677682 (100)\ttotal: 2.76s\tremaining: 4m 30s\n",
      "200:\tlearn: 0.3879871\ttest: 0.4302892\tbest: 0.4302892 (200)\ttotal: 5.58s\tremaining: 4m 31s\n",
      "300:\tlearn: 0.3512364\ttest: 0.4156987\tbest: 0.4156987 (300)\ttotal: 8.33s\tremaining: 4m 28s\n",
      "400:\tlearn: 0.3228897\ttest: 0.4064090\tbest: 0.4063496 (391)\ttotal: 11.1s\tremaining: 4m 26s\n",
      "500:\tlearn: 0.2995939\ttest: 0.3993504\tbest: 0.3993504 (500)\ttotal: 13.8s\tremaining: 4m 22s\n",
      "600:\tlearn: 0.2807839\ttest: 0.3963714\tbest: 0.3963714 (600)\ttotal: 16.6s\tremaining: 4m 19s\n",
      "700:\tlearn: 0.2635685\ttest: 0.3926082\tbest: 0.3926082 (700)\ttotal: 19.4s\tremaining: 4m 17s\n",
      "800:\tlearn: 0.2453530\ttest: 0.3884400\tbest: 0.3884400 (800)\ttotal: 22.1s\tremaining: 4m 14s\n",
      "900:\tlearn: 0.2274824\ttest: 0.3853056\tbest: 0.3853019 (897)\ttotal: 24.9s\tremaining: 4m 11s\n",
      "1000:\tlearn: 0.2116380\ttest: 0.3826885\tbest: 0.3826885 (1000)\ttotal: 27.8s\tremaining: 4m 9s\n",
      "1100:\tlearn: 0.1962286\ttest: 0.3817320\tbest: 0.3816143 (1098)\ttotal: 30.6s\tremaining: 4m 7s\n",
      "1200:\tlearn: 0.1828968\ttest: 0.3814005\tbest: 0.3810865 (1146)\ttotal: 33.3s\tremaining: 4m 4s\n",
      "1300:\tlearn: 0.1707276\ttest: 0.3800770\tbest: 0.3800770 (1300)\ttotal: 36s\tremaining: 4m\n",
      "1400:\tlearn: 0.1592005\ttest: 0.3785469\tbest: 0.3781692 (1376)\ttotal: 38.8s\tremaining: 3m 58s\n",
      "1500:\tlearn: 0.1493319\ttest: 0.3778158\tbest: 0.3777871 (1445)\ttotal: 41.6s\tremaining: 3m 55s\n",
      "1600:\tlearn: 0.1402750\ttest: 0.3769675\tbest: 0.3769675 (1600)\ttotal: 44.3s\tremaining: 3m 52s\n",
      "1700:\tlearn: 0.1321305\ttest: 0.3766845\tbest: 0.3764534 (1616)\ttotal: 47.1s\tremaining: 3m 49s\n"
     ]
    },
    {
     "name": "stdout",
     "output_type": "stream",
     "text": [
      "Stopped by overfitting detector  (100 iterations wait)\n",
      "\n",
      "bestTest = 0.3764534016\n",
      "bestIteration = 1616\n",
      "\n",
      "Shrink model to first 1617 iterations.\n",
      "0:\tlearn: 0.6883180\ttest: 0.6885580\tbest: 0.6885580 (0)\ttotal: 39.3ms\tremaining: 6m 33s\n",
      "100:\tlearn: 0.4491532\ttest: 0.4859101\tbest: 0.4859101 (100)\ttotal: 2.78s\tremaining: 4m 32s\n",
      "200:\tlearn: 0.3884458\ttest: 0.4518818\tbest: 0.4518818 (200)\ttotal: 5.54s\tremaining: 4m 30s\n",
      "300:\tlearn: 0.3556593\ttest: 0.4401891\tbest: 0.4401619 (299)\ttotal: 8.28s\tremaining: 4m 26s\n",
      "400:\tlearn: 0.3293234\ttest: 0.4315159\tbest: 0.4315159 (400)\ttotal: 11s\tremaining: 4m 23s\n",
      "500:\tlearn: 0.3064125\ttest: 0.4239739\tbest: 0.4239443 (499)\ttotal: 13.8s\tremaining: 4m 20s\n",
      "600:\tlearn: 0.2852920\ttest: 0.4163919\tbest: 0.4163919 (600)\ttotal: 16.5s\tremaining: 4m 18s\n",
      "700:\tlearn: 0.2668955\ttest: 0.4128495\tbest: 0.4127409 (694)\ttotal: 19.3s\tremaining: 4m 16s\n",
      "800:\tlearn: 0.2485649\ttest: 0.4072890\tbest: 0.4072146 (799)\ttotal: 22.2s\tremaining: 4m 14s\n",
      "900:\tlearn: 0.2297202\ttest: 0.4023747\tbest: 0.4023747 (900)\ttotal: 24.9s\tremaining: 4m 11s\n",
      "1000:\tlearn: 0.2123324\ttest: 0.3973657\tbest: 0.3973657 (1000)\ttotal: 27.6s\tremaining: 4m 8s\n",
      "1100:\tlearn: 0.1960368\ttest: 0.3934496\tbest: 0.3933835 (1090)\ttotal: 30.4s\tremaining: 4m 5s\n",
      "1200:\tlearn: 0.1831288\ttest: 0.3917758\tbest: 0.3917423 (1198)\ttotal: 33.1s\tremaining: 4m 2s\n",
      "1300:\tlearn: 0.1707805\ttest: 0.3896502\tbest: 0.3895717 (1295)\ttotal: 36.1s\tremaining: 4m 1s\n",
      "1400:\tlearn: 0.1597162\ttest: 0.3873033\tbest: 0.3870697 (1387)\ttotal: 40.5s\tremaining: 4m 8s\n",
      "1500:\tlearn: 0.1496972\ttest: 0.3858116\tbest: 0.3857066 (1497)\ttotal: 44.2s\tremaining: 4m 10s\n",
      "1600:\tlearn: 0.1412810\ttest: 0.3848735\tbest: 0.3847709 (1598)\ttotal: 47.1s\tremaining: 4m 7s\n",
      "1700:\tlearn: 0.1334754\ttest: 0.3835516\tbest: 0.3834828 (1699)\ttotal: 50.1s\tremaining: 4m 4s\n",
      "1800:\tlearn: 0.1259841\ttest: 0.3836048\tbest: 0.3830762 (1717)\ttotal: 53s\tremaining: 4m 1s\n",
      "Stopped by overfitting detector  (100 iterations wait)\n",
      "\n",
      "bestTest = 0.3830761707\n",
      "bestIteration = 1717\n",
      "\n",
      "Shrink model to first 1718 iterations.\n"
     ]
    }
   ],
   "source": [
    "FOLDS = 5\n",
    "folds = StratifiedKFold(n_splits=FOLDS, shuffle=True, random_state=2023)\n",
    "\n",
    "oof_pred = np.zeros((len(new_train),))\n",
    "y_pred = np.zeros((len(new_test),))\n",
    "\n",
    "for fold, (tr_ind, val_ind) in enumerate(folds.split(new_train, new_train[target])):\n",
    "    x_train, x_val = new_train.iloc[tr_ind][features], new_train.iloc[val_ind][features]\n",
    "    y_train, y_val = new_train.iloc[tr_ind][target], new_train.iloc[val_ind][target]\n",
    "    \n",
    "    classes = np.unique(y_train)\n",
    "    weights = compute_class_weight(class_weight='balanced', classes=classes, y=y_train)\n",
    "    class_weights = dict(zip(classes, weights))\n",
    "    \n",
    "    params = {\n",
    "        'task_type': 'CPU',\n",
    "        'bootstrap_type': 'Bayesian',\n",
    "        'boosting_type': 'Plain',\n",
    "        'learning_rate': 0.01,\n",
    "        'eval_metric': 'Logloss',\n",
    "        'loss_function': 'Logloss',\n",
    "        'iterations': 10000,\n",
    "        'random_state': 42,\n",
    "        'depth': 6,\n",
    "        'leaf_estimation_iterations': 8,\n",
    "        'reg_lambda': 5,\n",
    "        'early_stopping_rounds': 100,\n",
    "        'class_weights': class_weights,\n",
    "        'cat_features': ['khjgdh', 'xb', '年龄'] + [f'most_{c}' for c in cat_cols] + \\\n",
    "                        [f'most_jyje_{c}' for c in cat_cols],\n",
    "    }\n",
    "    model = CatBoostClassifier(**params)\n",
    "    model.fit(x_train,\n",
    "               y_train,\n",
    "               eval_set=(x_val, y_val),\n",
    "               verbose=100)\n",
    "    oof_pred[val_ind] = model.predict_proba(x_val)[:, 1]\n",
    "    y_pred += model.predict_proba(new_test[features])[:, 1] / FOLDS"
   ]
  },
  {
   "cell_type": "code",
   "execution_count": 87,
   "id": "6c3273c9",
   "metadata": {},
   "outputs": [
    {
     "data": {
      "text/plain": [
       "0.823696682464455"
      ]
     },
     "execution_count": 87,
     "metadata": {},
     "output_type": "execute_result"
    }
   ],
   "source": [
    "from sklearn.metrics import f1_score\n",
    "f1_score(new_train[target].values, (oof_pred > 0.5) + 0)"
   ]
  },
  {
   "cell_type": "code",
   "execution_count": 88,
   "id": "d937703e",
   "metadata": {},
   "outputs": [],
   "source": [
    "new_test_result = new_test[['zhdh', 'black_flag']].copy()\n",
    "new_test_result['black_flag'] = y_pred\n",
    "new_test_result['black_flag'] = new_test_result['black_flag'].apply(lambda x: (x > 0.52)+0)"
   ]
  },
  {
   "cell_type": "code",
   "execution_count": 89,
   "id": "715fc588",
   "metadata": {},
   "outputs": [
    {
     "data": {
      "text/html": [
       "<div>\n",
       "<style scoped>\n",
       "    .dataframe tbody tr th:only-of-type {\n",
       "        vertical-align: middle;\n",
       "    }\n",
       "\n",
       "    .dataframe tbody tr th {\n",
       "        vertical-align: top;\n",
       "    }\n",
       "\n",
       "    .dataframe thead th {\n",
       "        text-align: right;\n",
       "    }\n",
       "</style>\n",
       "<table border=\"1\" class=\"dataframe\">\n",
       "  <thead>\n",
       "    <tr style=\"text-align: right;\">\n",
       "      <th></th>\n",
       "      <th>zhdh</th>\n",
       "      <th>black_flag</th>\n",
       "    </tr>\n",
       "  </thead>\n",
       "  <tbody>\n",
       "    <tr>\n",
       "      <th>0</th>\n",
       "      <td>DDF394282B1E1508</td>\n",
       "      <td>0</td>\n",
       "    </tr>\n",
       "    <tr>\n",
       "      <th>2</th>\n",
       "      <td>41E4A8AECE47E5F3</td>\n",
       "      <td>0</td>\n",
       "    </tr>\n",
       "    <tr>\n",
       "      <th>4</th>\n",
       "      <td>6FBFEB03252FDB9F</td>\n",
       "      <td>0</td>\n",
       "    </tr>\n",
       "    <tr>\n",
       "      <th>5</th>\n",
       "      <td>4DEA40CF785FA423</td>\n",
       "      <td>0</td>\n",
       "    </tr>\n",
       "    <tr>\n",
       "      <th>6</th>\n",
       "      <td>8712DEE79BAE5383</td>\n",
       "      <td>1</td>\n",
       "    </tr>\n",
       "    <tr>\n",
       "      <th>...</th>\n",
       "      <td>...</td>\n",
       "      <td>...</td>\n",
       "    </tr>\n",
       "    <tr>\n",
       "      <th>5995</th>\n",
       "      <td>0228778D98151DEF</td>\n",
       "      <td>0</td>\n",
       "    </tr>\n",
       "    <tr>\n",
       "      <th>5996</th>\n",
       "      <td>FF83E6CFE3916793</td>\n",
       "      <td>0</td>\n",
       "    </tr>\n",
       "    <tr>\n",
       "      <th>5997</th>\n",
       "      <td>2947A98F10140EE0</td>\n",
       "      <td>0</td>\n",
       "    </tr>\n",
       "    <tr>\n",
       "      <th>5998</th>\n",
       "      <td>6EF9CDFEB8C86119</td>\n",
       "      <td>0</td>\n",
       "    </tr>\n",
       "    <tr>\n",
       "      <th>5999</th>\n",
       "      <td>FAB9093EDF12B07F</td>\n",
       "      <td>0</td>\n",
       "    </tr>\n",
       "  </tbody>\n",
       "</table>\n",
       "<p>3958 rows × 2 columns</p>\n",
       "</div>"
      ],
      "text/plain": [
       "                  zhdh  black_flag\n",
       "0     DDF394282B1E1508           0\n",
       "2     41E4A8AECE47E5F3           0\n",
       "4     6FBFEB03252FDB9F           0\n",
       "5     4DEA40CF785FA423           0\n",
       "6     8712DEE79BAE5383           1\n",
       "...                ...         ...\n",
       "5995  0228778D98151DEF           0\n",
       "5996  FF83E6CFE3916793           0\n",
       "5997  2947A98F10140EE0           0\n",
       "5998  6EF9CDFEB8C86119           0\n",
       "5999  FAB9093EDF12B07F           0\n",
       "\n",
       "[3958 rows x 2 columns]"
      ]
     },
     "execution_count": 89,
     "metadata": {},
     "output_type": "execute_result"
    }
   ],
   "source": [
    "new_test_result"
   ]
  },
  {
   "cell_type": "code",
   "execution_count": 94,
   "id": "c4d65676",
   "metadata": {},
   "outputs": [],
   "source": [
    "old_test_result = test[(test['black_flag'] > 0.98) | (test['black_flag'] < 0.02)][['zhdh', 'black_flag']].copy()"
   ]
  },
  {
   "cell_type": "code",
   "execution_count": 95,
   "id": "2caa20db",
   "metadata": {},
   "outputs": [],
   "source": [
    "old_test_result['black_flag'] = old_test_result['black_flag'].apply(lambda x: (x > 0.52)+0)"
   ]
  },
  {
   "cell_type": "code",
   "execution_count": 97,
   "id": "2da48be9",
   "metadata": {},
   "outputs": [],
   "source": [
    "new_test_result = pd.concat([new_test_result, old_test_result])\n",
    "result = pd.read_csv('./data/test_dataset.csv')\n",
    "result = result.merge(new_test_result, how='left', on='zhdh')\n",
    "result.to_csv('result.csv', index=False)"
   ]
  },
  {
   "cell_type": "code",
   "execution_count": 98,
   "id": "de990cc2",
   "metadata": {},
   "outputs": [
    {
     "data": {
      "text/html": [
       "<div>\n",
       "<style scoped>\n",
       "    .dataframe tbody tr th:only-of-type {\n",
       "        vertical-align: middle;\n",
       "    }\n",
       "\n",
       "    .dataframe tbody tr th {\n",
       "        vertical-align: top;\n",
       "    }\n",
       "\n",
       "    .dataframe thead th {\n",
       "        text-align: right;\n",
       "    }\n",
       "</style>\n",
       "<table border=\"1\" class=\"dataframe\">\n",
       "  <thead>\n",
       "    <tr style=\"text-align: right;\">\n",
       "      <th></th>\n",
       "      <th>zhdh</th>\n",
       "      <th>black_flag</th>\n",
       "    </tr>\n",
       "  </thead>\n",
       "  <tbody>\n",
       "    <tr>\n",
       "      <th>0</th>\n",
       "      <td>B6751CD225DD4886</td>\n",
       "      <td>0</td>\n",
       "    </tr>\n",
       "    <tr>\n",
       "      <th>1</th>\n",
       "      <td>8265CA869E4AFF16</td>\n",
       "      <td>0</td>\n",
       "    </tr>\n",
       "    <tr>\n",
       "      <th>2</th>\n",
       "      <td>06DD2A17463919FC</td>\n",
       "      <td>0</td>\n",
       "    </tr>\n",
       "    <tr>\n",
       "      <th>3</th>\n",
       "      <td>F36469EA4C5BD7FC</td>\n",
       "      <td>0</td>\n",
       "    </tr>\n",
       "    <tr>\n",
       "      <th>4</th>\n",
       "      <td>A18F7ACD7A3853D1</td>\n",
       "      <td>0</td>\n",
       "    </tr>\n",
       "    <tr>\n",
       "      <th>...</th>\n",
       "      <td>...</td>\n",
       "      <td>...</td>\n",
       "    </tr>\n",
       "    <tr>\n",
       "      <th>4795</th>\n",
       "      <td>5E1C4461BC135745</td>\n",
       "      <td>0</td>\n",
       "    </tr>\n",
       "    <tr>\n",
       "      <th>4796</th>\n",
       "      <td>0507C0E6649E637C</td>\n",
       "      <td>0</td>\n",
       "    </tr>\n",
       "    <tr>\n",
       "      <th>4797</th>\n",
       "      <td>2CB5C631D0BE5241</td>\n",
       "      <td>0</td>\n",
       "    </tr>\n",
       "    <tr>\n",
       "      <th>4798</th>\n",
       "      <td>193FE069CEA9AD06</td>\n",
       "      <td>0</td>\n",
       "    </tr>\n",
       "    <tr>\n",
       "      <th>4799</th>\n",
       "      <td>0241065EA111174C</td>\n",
       "      <td>0</td>\n",
       "    </tr>\n",
       "  </tbody>\n",
       "</table>\n",
       "<p>4800 rows × 2 columns</p>\n",
       "</div>"
      ],
      "text/plain": [
       "                  zhdh  black_flag\n",
       "0     B6751CD225DD4886           0\n",
       "1     8265CA869E4AFF16           0\n",
       "2     06DD2A17463919FC           0\n",
       "3     F36469EA4C5BD7FC           0\n",
       "4     A18F7ACD7A3853D1           0\n",
       "...                ...         ...\n",
       "4795  5E1C4461BC135745           0\n",
       "4796  0507C0E6649E637C           0\n",
       "4797  2CB5C631D0BE5241           0\n",
       "4798  193FE069CEA9AD06           0\n",
       "4799  0241065EA111174C           0\n",
       "\n",
       "[4800 rows x 2 columns]"
      ]
     },
     "execution_count": 98,
     "metadata": {},
     "output_type": "execute_result"
    }
   ],
   "source": [
    "result"
   ]
  },
  {
   "cell_type": "code",
   "execution_count": null,
   "id": "98d38f52",
   "metadata": {},
   "outputs": [],
   "source": []
  },
  {
   "cell_type": "code",
   "execution_count": null,
   "id": "030d7736",
   "metadata": {},
   "outputs": [],
   "source": []
  },
  {
   "cell_type": "code",
   "execution_count": 52,
   "id": "51bd46b9",
   "metadata": {},
   "outputs": [],
   "source": [
    "import lightgbm as lgb\n",
    "from lightgbm import early_stopping\n",
    "from lightgbm import log_evaluation"
   ]
  },
  {
   "cell_type": "code",
   "execution_count": 60,
   "id": "dd91c29d",
   "metadata": {},
   "outputs": [
    {
     "name": "stderr",
     "output_type": "stream",
     "text": [
      "/Users/yitinglin/Projects/dcic2023/env/lib/python3.7/site-packages/lightgbm/basic.py:1487: UserWarning: silent keyword has been found in `params` and will be ignored.\n",
      "Please use silent argument of the Dataset constructor to pass this parameter.\n",
      "  _log_warning(f'{key} keyword has been found in `params` and will be ignored.\\n'\n"
     ]
    },
    {
     "name": "stdout",
     "output_type": "stream",
     "text": [
      "[LightGBM] [Warning] num_threads is set with n_jobs=8, nthread=32 will be ignored. Current value: num_threads=8\n",
      "[LightGBM] [Warning] Unknown parameter: silent\n",
      "Training until validation scores don't improve for 100 rounds\n",
      "[100]\tvalid_0's auc: 0.977778\n",
      "[200]\tvalid_0's auc: 0.976852\n",
      "Early stopping, best iteration is:\n",
      "[144]\tvalid_0's auc: 0.979167\n",
      "[LightGBM] [Warning] num_threads is set with n_jobs=8, nthread=32 will be ignored. Current value: num_threads=8\n",
      "[LightGBM] [Warning] Unknown parameter: silent\n",
      "Training until validation scores don't improve for 100 rounds\n",
      "[100]\tvalid_0's auc: 0.959444\n",
      "[200]\tvalid_0's auc: 0.965\n",
      "[300]\tvalid_0's auc: 0.969444\n",
      "[400]\tvalid_0's auc: 0.973148\n",
      "[500]\tvalid_0's auc: 0.973796\n",
      "[600]\tvalid_0's auc: 0.972315\n",
      "Early stopping, best iteration is:\n",
      "[533]\tvalid_0's auc: 0.974722\n",
      "[LightGBM] [Warning] num_threads is set with n_jobs=8, nthread=32 will be ignored. Current value: num_threads=8\n",
      "[LightGBM] [Warning] Unknown parameter: silent\n",
      "Training until validation scores don't improve for 100 rounds\n",
      "[100]\tvalid_0's auc: 0.905741\n",
      "[200]\tvalid_0's auc: 0.921667\n",
      "[300]\tvalid_0's auc: 0.923889\n",
      "Early stopping, best iteration is:\n",
      "[282]\tvalid_0's auc: 0.925278\n",
      "[LightGBM] [Warning] num_threads is set with n_jobs=8, nthread=32 will be ignored. Current value: num_threads=8\n",
      "[LightGBM] [Warning] Unknown parameter: silent\n",
      "Training until validation scores don't improve for 100 rounds\n",
      "[100]\tvalid_0's auc: 0.968519\n",
      "Early stopping, best iteration is:\n",
      "[80]\tvalid_0's auc: 0.97037\n",
      "[LightGBM] [Warning] num_threads is set with n_jobs=8, nthread=32 will be ignored. Current value: num_threads=8\n",
      "[LightGBM] [Warning] Unknown parameter: silent\n",
      "Training until validation scores don't improve for 100 rounds\n",
      "[100]\tvalid_0's auc: 0.964259\n",
      "[200]\tvalid_0's auc: 0.967315\n",
      "[300]\tvalid_0's auc: 0.967963\n",
      "Early stopping, best iteration is:\n",
      "[224]\tvalid_0's auc: 0.968796\n"
     ]
    }
   ],
   "source": [
    "FOLDS = 5\n",
    "folds = StratifiedKFold(n_splits=FOLDS, shuffle=True, random_state=2023)\n",
    "\n",
    "oof_pred = np.zeros((len(train),))\n",
    "y_pred = np.zeros((len(test),))\n",
    "\n",
    "for fold, (tr_ind, val_ind) in enumerate(folds.split(train, train[target])):\n",
    "    x_train, x_val = train.iloc[tr_ind][features], train.iloc[val_ind][features]\n",
    "    y_train, y_val = train.iloc[tr_ind][target], train.iloc[val_ind][target]\n",
    "    \n",
    "    dtrain = lgb.Dataset(x_train, label=y_train)\n",
    "    dval = lgb.Dataset(x_val, label=y_val)\n",
    "\n",
    "    parameters = {\n",
    "        'boosting_type': 'gbdt',\n",
    "        'objective': 'binary',\n",
    "        'tree_learner':'serial',\n",
    "        'metric': 'auc',\n",
    "        'min_child_weight': 4,\n",
    "        'num_leaves': 64,\n",
    "        'feature_fraction': 0.8,\n",
    "        'bagging_fraction': 0.8,\n",
    "        'bagging_freq': 4,\n",
    "        'learning_rate': 0.02,\n",
    "        'seed': 2023,\n",
    "        'nthread': 32,\n",
    "        'n_jobs':8,\n",
    "        'silent': True,\n",
    "        'verbose': -1,\n",
    "    }\n",
    "\n",
    "    model = lgb.train(\n",
    "        parameters,\n",
    "        dtrain,\n",
    "        num_boost_round=8000,\n",
    "        valid_sets=[dval],\n",
    "        callbacks=[early_stopping(100), log_evaluation(100)],\n",
    "\n",
    "    )\n",
    "    oof_pred[val_ind] = model.predict(x_val)\n",
    "    y_pred += model.predict(test[features]) / FOLDS"
   ]
  },
  {
   "cell_type": "code",
   "execution_count": 61,
   "id": "8254bf4f",
   "metadata": {},
   "outputs": [
    {
     "data": {
      "text/plain": [
       "0.8648648648648648"
      ]
     },
     "execution_count": 61,
     "metadata": {},
     "output_type": "execute_result"
    }
   ],
   "source": [
    "from sklearn.metrics import f1_score\n",
    "f1_score(train[target].values, (oof_pred > 0.5) + 0)"
   ]
  },
  {
   "cell_type": "code",
   "execution_count": 62,
   "id": "2dd5e049",
   "metadata": {},
   "outputs": [
    {
     "name": "stdout",
     "output_type": "stream",
     "text": [
      "0.40, 0.9102985412158333\n",
      "0.41, 0.9123638153608021\n",
      "0.42, 0.9133998533874712\n",
      "0.43, 0.916322068335067\n",
      "0.44, 0.9150739850958669\n",
      "0.45, 0.9161207975418415\n",
      "0.46, 0.9157133908906958\n",
      "0.47, 0.9165623696287026\n",
      "0.48, 0.9150898680694286\n",
      "0.49, 0.9136048941659953\n",
      "0.50, 0.9121072291804\n",
      "0.51, 0.9095351339496823\n",
      "0.52, 0.9082439299830604\n",
      "0.53, 0.9043494433668996\n",
      "0.54, 0.9030442528101401\n",
      "0.55, 0.9041033316199533\n",
      "0.56, 0.9041033316199533\n",
      "0.57, 0.8985800208606975\n",
      "0.58, 0.8969809015369012\n",
      "0.59, 0.8956449770149066\n",
      "0.47, 0.9165623696287026\n"
     ]
    }
   ],
   "source": [
    "oof = oof_pred\n",
    "scores = []; thresholds = []\n",
    "best_score = 0; best_threshold = 0\n",
    "\n",
    "for threshold in np.arange(0.4,0.6,0.01):\n",
    "    preds = (oof.reshape((-1))>threshold).astype('int')\n",
    "    m = f1_score(train['black_flag'].values.reshape((-1)), preds, average='macro')   \n",
    "    scores.append(m)\n",
    "    thresholds.append(threshold)\n",
    "    if m>best_score:\n",
    "        best_score = m\n",
    "        best_threshold = threshold\n",
    "    print(f'{threshold:.02f}, {m}')\n",
    "print(f'{best_threshold:.02f}, {best_score}')"
   ]
  },
  {
   "cell_type": "code",
   "execution_count": 63,
   "id": "9412d9a6",
   "metadata": {},
   "outputs": [],
   "source": [
    "test_result = test[['zhdh', 'black_flag']].copy()\n",
    "test_result['black_flag'] = y_pred\n",
    "test_result['black_flag'] = test_result['black_flag'].apply(lambda x: (x > best_threshold)+0)"
   ]
  },
  {
   "cell_type": "code",
   "execution_count": 64,
   "id": "d66bc180",
   "metadata": {},
   "outputs": [],
   "source": [
    "result = pd.read_csv('./data/test_dataset.csv')\n",
    "result = result.merge(test_result, how='left', on='zhdh')\n",
    "result.to_csv('result.csv', index=False)"
   ]
  },
  {
   "cell_type": "code",
   "execution_count": null,
   "id": "999650bc",
   "metadata": {},
   "outputs": [],
   "source": []
  },
  {
   "cell_type": "code",
   "execution_count": null,
   "id": "f1f28a58",
   "metadata": {},
   "outputs": [],
   "source": []
  },
  {
   "cell_type": "code",
   "execution_count": null,
   "id": "a232e418",
   "metadata": {},
   "outputs": [],
   "source": []
  },
  {
   "cell_type": "code",
   "execution_count": 6,
   "id": "d94d3fee",
   "metadata": {},
   "outputs": [],
   "source": [
    "fea = account_trade.groupby('zhdh').size().reset_index().rename(columns={0: 'trade_cnt'})"
   ]
  },
  {
   "cell_type": "code",
   "execution_count": 7,
   "id": "b1286a72",
   "metadata": {},
   "outputs": [],
   "source": [
    "tmp = account_trade.groupby(['zhdh', 'jdbj']).size().reset_index()\\\n",
    "    .pivot_table(index='zhdh', columns=['jdbj'], values=[0])\n",
    "tmp.columns = ['jdbj_0_cnt', 'jdbj_1_cnt']\n",
    "tmp = tmp.reset_index()"
   ]
  },
  {
   "cell_type": "code",
   "execution_count": 8,
   "id": "7d0c5f6f",
   "metadata": {},
   "outputs": [],
   "source": [
    "fea = fea.merge(tmp, how='left', on='zhdh')\n",
    "fea['jdbj_0_pct'] = fea['jdbj_0_cnt'] / fea['trade_cnt']\n",
    "fea['jdbj_1_pct'] = fea['jdbj_1_cnt'] / fea['trade_cnt']"
   ]
  },
  {
   "cell_type": "code",
   "execution_count": 9,
   "id": "b07afaed",
   "metadata": {},
   "outputs": [],
   "source": [
    "tmp = account_trade.groupby('zhdh')['jyje'].mean().reset_index().rename(columns={'jyje': 'jyje_mean'})\n",
    "fea = fea.merge(tmp, how='left', on='zhdh')\n",
    "\n",
    "tmp = account_trade.groupby('zhdh')['jyje'].std().reset_index().rename(columns={'jyje': 'jyje_std'})\n",
    "fea = fea.merge(tmp, how='left', on='zhdh')"
   ]
  },
  {
   "cell_type": "code",
   "execution_count": 10,
   "id": "335a0cd2",
   "metadata": {},
   "outputs": [],
   "source": [
    "tmp = account_trade.groupby('zhdh')['jyqd'].nunique().reset_index().rename(columns={'jyqd': 'jyqd_nunique'})\n",
    "fea = fea.merge(tmp, how='left', on='zhdh')"
   ]
  },
  {
   "cell_type": "code",
   "execution_count": 11,
   "id": "e8af6e5f",
   "metadata": {},
   "outputs": [],
   "source": [
    "tmp = account_trade.groupby('zhdh')['dfzh'].nunique().reset_index().rename(columns={'dfzh': 'dfzh_nunique'})\n",
    "fea = fea.merge(tmp, how='left', on='zhdh')"
   ]
  },
  {
   "cell_type": "code",
   "execution_count": 12,
   "id": "de7bd009",
   "metadata": {},
   "outputs": [],
   "source": [
    "tmp = account_trade.groupby(['zhdh', 'jdbj'])['jyje'].mean().reset_index()\\\n",
    "    .pivot_table(index='zhdh', columns=['jdbj'], values=['jyje'])\n",
    "tmp.columns = ['jdbj_0_jyje', 'jdbj_1_jyje']\n",
    "tmp = tmp.reset_index()\n",
    "fea = fea.merge(tmp, how='left', on='zhdh')"
   ]
  },
  {
   "cell_type": "code",
   "execution_count": 13,
   "id": "94ae72f5",
   "metadata": {},
   "outputs": [],
   "source": [
    "tmp = account_trade.groupby('zhdh')['dfhh'].nunique().reset_index().rename(columns={'dfhh': 'dfhh_unique_nunique'})\n",
    "fea = fea.merge(tmp, how='left', on='zhdh')"
   ]
  },
  {
   "cell_type": "code",
   "execution_count": 14,
   "id": "d44faa67",
   "metadata": {},
   "outputs": [],
   "source": [
    "tmp = account_trade.groupby('zhdh')['dfmccd'].mean().reset_index().rename(columns={'dfmccd': 'dfmccd_mean'})\n",
    "fea = fea.merge(tmp, how='left', on='zhdh')\n",
    "\n",
    "tmp = account_trade.groupby('zhdh')['dfmccd'].std().reset_index().rename(columns={'dfmccd': 'dfmccd_std'})\n",
    "fea = fea.merge(tmp, how='left', on='zhdh')"
   ]
  },
  {
   "cell_type": "code",
   "execution_count": 15,
   "id": "86f13c10",
   "metadata": {},
   "outputs": [],
   "source": [
    "account_trade['jyrq'] = pd.to_datetime(account_trade['jyrq'])"
   ]
  },
  {
   "cell_type": "code",
   "execution_count": 16,
   "id": "b3dc3c01",
   "metadata": {},
   "outputs": [],
   "source": [
    "account_trade['dayofweek'] = account_trade['jyrq'].dt.dayofweek\n",
    "account_trade['is_wknd'] = account_trade['jyrq'].dt.dayofweek // 6\n",
    "account_trade['is_month_start'] = account_trade['jyrq'].dt.is_month_start.astype(int)\n",
    "account_trade['is_month_end'] = account_trade['jyrq'].dt.is_month_end.astype(int)"
   ]
  },
  {
   "cell_type": "code",
   "execution_count": 17,
   "id": "bf2b0680",
   "metadata": {},
   "outputs": [],
   "source": [
    "for col in ['dayofweek', 'is_wknd', 'is_month_start', 'is_month_end']:\n",
    "    tmp = account_trade.groupby('zhdh')[col].mean().reset_index().rename(columns={col: f'{col}_std'})\n",
    "    fea = fea.merge(tmp, how='left', on='zhdh')"
   ]
  },
  {
   "cell_type": "code",
   "execution_count": 18,
   "id": "9eab976f",
   "metadata": {},
   "outputs": [],
   "source": [
    "account_trade['jy_hour'] = account_trade['jysj'].str[:2].astype(int)\n",
    "tmp = account_trade.groupby('zhdh')['jy_hour'].mean().reset_index().rename(columns={'jy_hour': 'jy_hour_mean'})\n",
    "fea = fea.merge(tmp, how='left', on='zhdh')"
   ]
  },
  {
   "cell_type": "code",
   "execution_count": 19,
   "id": "b8a3d4f5",
   "metadata": {},
   "outputs": [],
   "source": [
    "account_trade['jyje_is_int'] = (account_trade['jyje'] == account_trade['jyje'].astype(int)) + 0\n",
    "tmp = account_trade.groupby('zhdh')['jyje_is_int'].sum() / account_trade.groupby('zhdh').size()\n",
    "tmp = tmp.reset_index().rename(columns={0: 'jyje_int_pct'})\n",
    "fea = fea.merge(tmp, how='left', on='zhdh')"
   ]
  },
  {
   "cell_type": "code",
   "execution_count": 20,
   "id": "6a8e3117",
   "metadata": {},
   "outputs": [],
   "source": [
    "tmp = account_trade.groupby('zhdh')['zydh'].nunique().reset_index().rename(columns={'zydh': 'zydh_nunique'})\n",
    "fea = fea.merge(tmp, how='left', on='zhdh')"
   ]
  },
  {
   "cell_type": "code",
   "execution_count": 21,
   "id": "85294fb4",
   "metadata": {},
   "outputs": [],
   "source": [
    "for col in ['dfhh', 'jyqd', 'zydh']:\n",
    "    tmp = account_trade.groupby(['zhdh', col]).size().reset_index().groupby('zhdh')\\\n",
    "        .apply(lambda x: x.sort_values(by=0).iloc[0][col])\\\n",
    "        .reset_index().rename(columns={0: f'most_{col}'})\n",
    "    fea = fea.merge(tmp, how='left', on='zhdh')"
   ]
  },
  {
   "cell_type": "code",
   "execution_count": 22,
   "id": "c375293d",
   "metadata": {},
   "outputs": [],
   "source": [
    "df = account_static.merge(fea, how='left', on='zhdh')"
   ]
  },
  {
   "cell_type": "code",
   "execution_count": 23,
   "id": "69227c6f",
   "metadata": {},
   "outputs": [],
   "source": [
    "y_train = pd.read_csv('./data/训练集标签.csv')"
   ]
  },
  {
   "cell_type": "code",
   "execution_count": 24,
   "id": "a7ab2526",
   "metadata": {},
   "outputs": [],
   "source": [
    "df = df.merge(y_train, how='left', on='zhdh')"
   ]
  },
  {
   "cell_type": "code",
   "execution_count": 25,
   "id": "585e6954",
   "metadata": {},
   "outputs": [],
   "source": [
    "train = df[df['zhdh'].isin(y_train['zhdh'].values)]"
   ]
  },
  {
   "cell_type": "code",
   "execution_count": 26,
   "id": "52382a7c",
   "metadata": {},
   "outputs": [],
   "source": [
    "test_ids = pd.read_csv('./data/test_dataset.csv')['zhdh'].values"
   ]
  },
  {
   "cell_type": "code",
   "execution_count": 27,
   "id": "7d17aa49",
   "metadata": {},
   "outputs": [],
   "source": [
    "test = df[df['zhdh'].isin(test_ids)]"
   ]
  },
  {
   "cell_type": "code",
   "execution_count": 28,
   "id": "3f0134ab",
   "metadata": {},
   "outputs": [],
   "source": [
    "target = 'black_flag'\n",
    "features = [c for c in train.columns if c not in [target, 'zhdh', 'khrq']]"
   ]
  },
  {
   "cell_type": "code",
   "execution_count": 33,
   "id": "de1aa8e7",
   "metadata": {},
   "outputs": [],
   "source": [
    "from sklearn.model_selection import KFold\n",
    "from sklearn.utils.class_weight import compute_class_weight\n",
    "from catboost import CatBoostClassifier"
   ]
  },
  {
   "cell_type": "code",
   "execution_count": 34,
   "id": "832e3817",
   "metadata": {},
   "outputs": [
    {
     "name": "stdout",
     "output_type": "stream",
     "text": [
      "0:\tlearn: 0.6878285\ttest: 0.6880691\tbest: 0.6880691 (0)\ttotal: 68.7ms\tremaining: 11m 27s\n",
      "100:\tlearn: 0.4164203\ttest: 0.4695984\tbest: 0.4695984 (100)\ttotal: 443ms\tremaining: 43.4s\n",
      "200:\tlearn: 0.3238651\ttest: 0.4059339\tbest: 0.4059339 (200)\ttotal: 811ms\tremaining: 39.5s\n",
      "300:\tlearn: 0.2726680\ttest: 0.3751292\tbest: 0.3751292 (300)\ttotal: 1.25s\tremaining: 40.3s\n",
      "400:\tlearn: 0.2361264\ttest: 0.3582961\tbest: 0.3582961 (400)\ttotal: 1.6s\tremaining: 38.4s\n",
      "500:\tlearn: 0.2070088\ttest: 0.3449625\tbest: 0.3449625 (500)\ttotal: 1.95s\tremaining: 37s\n",
      "600:\tlearn: 0.1836315\ttest: 0.3390327\tbest: 0.3390327 (600)\ttotal: 2.3s\tremaining: 36s\n",
      "700:\tlearn: 0.1630827\ttest: 0.3338649\tbest: 0.3338649 (700)\ttotal: 2.65s\tremaining: 35.2s\n",
      "800:\tlearn: 0.1452078\ttest: 0.3311609\tbest: 0.3310738 (796)\ttotal: 3.02s\tremaining: 34.7s\n",
      "900:\tlearn: 0.1272554\ttest: 0.3299845\tbest: 0.3293977 (877)\ttotal: 3.39s\tremaining: 34.3s\n",
      "1000:\tlearn: 0.1140597\ttest: 0.3289071\tbest: 0.3286708 (970)\ttotal: 3.75s\tremaining: 33.7s\n",
      "Stopped by overfitting detector  (100 iterations wait)\n",
      "\n",
      "bestTest = 0.3286708027\n",
      "bestIteration = 970\n",
      "\n",
      "Shrink model to first 971 iterations.\n",
      "0:\tlearn: 0.6876133\ttest: 0.6887374\tbest: 0.6887374 (0)\ttotal: 4.45ms\tremaining: 44.5s\n",
      "100:\tlearn: 0.4165766\ttest: 0.4775397\tbest: 0.4775397 (100)\ttotal: 375ms\tremaining: 36.8s\n",
      "200:\tlearn: 0.3247837\ttest: 0.4134327\tbest: 0.4134327 (200)\ttotal: 732ms\tremaining: 35.7s\n",
      "300:\tlearn: 0.2732360\ttest: 0.3867409\tbest: 0.3867409 (300)\ttotal: 1.11s\tremaining: 35.6s\n",
      "400:\tlearn: 0.2401353\ttest: 0.3710989\tbest: 0.3709479 (399)\ttotal: 1.47s\tremaining: 35.1s\n",
      "500:\tlearn: 0.2138741\ttest: 0.3625718\tbest: 0.3625718 (500)\ttotal: 1.83s\tremaining: 34.6s\n",
      "600:\tlearn: 0.1923950\ttest: 0.3570581\tbest: 0.3570581 (600)\ttotal: 2.2s\tremaining: 34.5s\n",
      "700:\tlearn: 0.1736653\ttest: 0.3557089\tbest: 0.3554786 (637)\ttotal: 2.58s\tremaining: 34.2s\n",
      "800:\tlearn: 0.1548940\ttest: 0.3524404\tbest: 0.3515802 (786)\ttotal: 2.94s\tremaining: 33.7s\n",
      "Stopped by overfitting detector  (100 iterations wait)\n",
      "\n",
      "bestTest = 0.3515802307\n",
      "bestIteration = 786\n",
      "\n",
      "Shrink model to first 787 iterations.\n",
      "0:\tlearn: 0.6882448\ttest: 0.6880485\tbest: 0.6880485 (0)\ttotal: 4.21ms\tremaining: 42.1s\n",
      "100:\tlearn: 0.4214525\ttest: 0.4533068\tbest: 0.4533068 (100)\ttotal: 379ms\tremaining: 37.2s\n",
      "200:\tlearn: 0.3301378\ttest: 0.3961656\tbest: 0.3961656 (200)\ttotal: 741ms\tremaining: 36.1s\n",
      "300:\tlearn: 0.2770295\ttest: 0.3708105\tbest: 0.3708105 (300)\ttotal: 1.12s\tremaining: 36s\n",
      "400:\tlearn: 0.2417121\ttest: 0.3582872\tbest: 0.3582872 (400)\ttotal: 1.48s\tremaining: 35.5s\n",
      "500:\tlearn: 0.2142138\ttest: 0.3524138\tbest: 0.3520353 (498)\ttotal: 1.84s\tremaining: 34.9s\n",
      "600:\tlearn: 0.1903190\ttest: 0.3477628\tbest: 0.3477628 (600)\ttotal: 2.22s\tremaining: 34.7s\n",
      "700:\tlearn: 0.1707428\ttest: 0.3472558\tbest: 0.3464029 (659)\ttotal: 2.57s\tremaining: 34.1s\n",
      "800:\tlearn: 0.1533089\ttest: 0.3451373\tbest: 0.3447869 (796)\ttotal: 2.94s\tremaining: 33.7s\n",
      "900:\tlearn: 0.1370815\ttest: 0.3457016\tbest: 0.3444719 (832)\ttotal: 3.3s\tremaining: 33.3s\n",
      "Stopped by overfitting detector  (100 iterations wait)\n",
      "\n",
      "bestTest = 0.3444718923\n",
      "bestIteration = 832\n",
      "\n",
      "Shrink model to first 833 iterations.\n",
      "0:\tlearn: 0.6872141\ttest: 0.6874018\tbest: 0.6874018 (0)\ttotal: 3.78ms\tremaining: 37.8s\n",
      "100:\tlearn: 0.4272925\ttest: 0.4398250\tbest: 0.4398250 (100)\ttotal: 367ms\tremaining: 35.9s\n",
      "200:\tlearn: 0.3323703\ttest: 0.3775381\tbest: 0.3775381 (200)\ttotal: 730ms\tremaining: 35.6s\n",
      "300:\tlearn: 0.2813828\ttest: 0.3538023\tbest: 0.3538023 (300)\ttotal: 1.08s\tremaining: 34.9s\n",
      "400:\tlearn: 0.2447791\ttest: 0.3406746\tbest: 0.3406746 (400)\ttotal: 1.45s\tremaining: 34.8s\n",
      "500:\tlearn: 0.2170163\ttest: 0.3331174\tbest: 0.3330496 (499)\ttotal: 1.81s\tremaining: 34.3s\n",
      "600:\tlearn: 0.1933163\ttest: 0.3283838\tbest: 0.3279862 (594)\ttotal: 2.18s\tremaining: 34.1s\n",
      "700:\tlearn: 0.1727928\ttest: 0.3249730\tbest: 0.3249730 (700)\ttotal: 2.54s\tremaining: 33.7s\n",
      "800:\tlearn: 0.1540690\ttest: 0.3235689\tbest: 0.3235689 (800)\ttotal: 2.91s\tremaining: 33.4s\n",
      "900:\tlearn: 0.1379953\ttest: 0.3234945\tbest: 0.3227817 (833)\ttotal: 3.26s\tremaining: 32.9s\n",
      "Stopped by overfitting detector  (100 iterations wait)\n",
      "\n",
      "bestTest = 0.322781686\n",
      "bestIteration = 833\n",
      "\n",
      "Shrink model to first 834 iterations.\n",
      "0:\tlearn: 0.6860148\ttest: 0.6881487\tbest: 0.6881487 (0)\ttotal: 4.37ms\tremaining: 43.7s\n",
      "100:\tlearn: 0.4083661\ttest: 0.4861940\tbest: 0.4861940 (100)\ttotal: 361ms\tremaining: 35.4s\n",
      "200:\tlearn: 0.3198178\ttest: 0.4324534\tbest: 0.4324534 (200)\ttotal: 737ms\tremaining: 35.9s\n",
      "300:\tlearn: 0.2707642\ttest: 0.4133056\tbest: 0.4133056 (300)\ttotal: 1.09s\tremaining: 35.1s\n",
      "400:\tlearn: 0.2369206\ttest: 0.4011078\tbest: 0.4011078 (400)\ttotal: 1.47s\tremaining: 35.3s\n",
      "500:\tlearn: 0.2101775\ttest: 0.3949372\tbest: 0.3949372 (500)\ttotal: 1.83s\tremaining: 34.7s\n",
      "600:\tlearn: 0.1874567\ttest: 0.3952494\tbest: 0.3940596 (545)\ttotal: 2.19s\tremaining: 34.3s\n",
      "Stopped by overfitting detector  (100 iterations wait)\n",
      "\n",
      "bestTest = 0.3940596177\n",
      "bestIteration = 545\n",
      "\n",
      "Shrink model to first 546 iterations.\n"
     ]
    }
   ],
   "source": [
    "FOLDS = 5\n",
    "folds = KFold(n_splits=FOLDS, shuffle=True, random_state=42)\n",
    "\n",
    "oof_pred = np.zeros((len(train),))\n",
    "y_pred = np.zeros((len(test),))\n",
    "\n",
    "for fold, (tr_ind, val_ind) in enumerate(folds.split(train)):\n",
    "    x_train, x_val = train.iloc[tr_ind][features], train.iloc[val_ind][features]\n",
    "    y_train, y_val = train.iloc[tr_ind][target], train.iloc[val_ind][target]\n",
    "    \n",
    "    classes = np.unique(y_train)\n",
    "    weights = compute_class_weight(class_weight='balanced', classes=classes, y=y_train)\n",
    "    class_weights = dict(zip(classes, weights))\n",
    "    \n",
    "    params = {\n",
    "        'task_type': 'CPU',\n",
    "        'bootstrap_type': 'Bayesian',\n",
    "        'boosting_type': 'Plain',\n",
    "        'learning_rate': 0.01,\n",
    "        'eval_metric': 'Logloss',\n",
    "        'loss_function': 'Logloss',\n",
    "        'iterations': 10000,\n",
    "        'random_state': 42,\n",
    "        'depth': 6,\n",
    "        'leaf_estimation_iterations': 8,\n",
    "        'reg_lambda': 5,\n",
    "        'early_stopping_rounds': 100,\n",
    "        'class_weights': class_weights,\n",
    "        'cat_features': ['khjgdh', 'xb', '年龄', 'most_dfhh', 'most_jyqd', 'most_zydh'],\n",
    "    }\n",
    "    model = CatBoostClassifier(**params)\n",
    "    model.fit(x_train,\n",
    "               y_train,\n",
    "               eval_set=(x_val, y_val),\n",
    "               verbose=100)\n",
    "    oof_pred[val_ind] = model.predict_proba(x_val)[:, 1]\n",
    "    y_pred += model.predict_proba(test[features])[:, 1] / FOLDS"
   ]
  },
  {
   "cell_type": "code",
   "execution_count": 42,
   "id": "3a12e8b4",
   "metadata": {},
   "outputs": [
    {
     "data": {
      "text/plain": [
       "0.7824620573355818"
      ]
     },
     "execution_count": 42,
     "metadata": {},
     "output_type": "execute_result"
    }
   ],
   "source": [
    "from sklearn.metrics import f1_score\n",
    "f1_score(train[target].values, (oof_pred > 0.5) + 0)"
   ]
  },
  {
   "cell_type": "code",
   "execution_count": 43,
   "id": "43524556",
   "metadata": {},
   "outputs": [],
   "source": [
    "test_result = test[['zhdh', 'black_flag']].copy()\n",
    "test_result['black_flag'] = y_pred\n",
    "test_result['black_flag'] = test_result['black_flag'].apply(lambda x: (x > 0.5)+0)"
   ]
  },
  {
   "cell_type": "code",
   "execution_count": 44,
   "id": "1f3d82b0",
   "metadata": {},
   "outputs": [],
   "source": [
    "result = pd.read_csv('./data/test_dataset.csv')\n",
    "result = result.merge(test_result, how='left', on='zhdh')\n",
    "result.to_csv('result.csv', index=False)"
   ]
  },
  {
   "cell_type": "code",
   "execution_count": 45,
   "id": "55387efd",
   "metadata": {},
   "outputs": [
    {
     "data": {
      "text/plain": [
       "((3595, 2), (1205, 2))"
      ]
     },
     "execution_count": 45,
     "metadata": {},
     "output_type": "execute_result"
    }
   ],
   "source": [
    "result[result['black_flag'] == 0].shape, result[result['black_flag'] == 1].shape"
   ]
  },
  {
   "cell_type": "code",
   "execution_count": 46,
   "id": "e8e61373",
   "metadata": {},
   "outputs": [
    {
     "data": {
      "text/plain": [
       "((900, 30), (300, 30))"
      ]
     },
     "execution_count": 46,
     "metadata": {},
     "output_type": "execute_result"
    }
   ],
   "source": [
    "train[train['black_flag'] == 0].shape, train[train['black_flag'] == 1].shape,"
   ]
  },
  {
   "cell_type": "code",
   "execution_count": 42,
   "id": "a53d8562",
   "metadata": {},
   "outputs": [
    {
     "data": {
      "text/plain": [
       "0    0.271546\n",
       "Name: last_day_trade_cnt, dtype: float64"
      ]
     },
     "execution_count": 42,
     "metadata": {},
     "output_type": "execute_result"
    }
   ],
   "source": [
    "pd.DataFrame(model.feature_importances_, features).sort_values(by=0, ascending=False).loc['last_day_trade_cnt']"
   ]
  },
  {
   "cell_type": "code",
   "execution_count": null,
   "id": "52c4cf02",
   "metadata": {},
   "outputs": [],
   "source": []
  }
 ],
 "metadata": {
  "kernelspec": {
   "display_name": "Python 3 (ipykernel)",
   "language": "python",
   "name": "python3"
  },
  "language_info": {
   "codemirror_mode": {
    "name": "ipython",
    "version": 3
   },
   "file_extension": ".py",
   "mimetype": "text/x-python",
   "name": "python",
   "nbconvert_exporter": "python",
   "pygments_lexer": "ipython3",
   "version": "3.7.13"
  }
 },
 "nbformat": 4,
 "nbformat_minor": 5
}
