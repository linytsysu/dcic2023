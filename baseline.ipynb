{
 "cells": [
  {
   "cell_type": "code",
   "execution_count": 1,
   "id": "9500975c",
   "metadata": {},
   "outputs": [],
   "source": [
    "import os\n",
    "import gc\n",
    "import pickle\n",
    "import numpy as np\n",
    "import pandas as pd\n",
    "from datetime import datetime\n",
    "from chinese_calendar import is_holiday"
   ]
  },
  {
   "cell_type": "code",
   "execution_count": 2,
   "id": "ff7de379",
   "metadata": {},
   "outputs": [],
   "source": [
    "from tsfresh.feature_extraction.feature_calculators import longest_strike_above_mean, mean_abs_change, \\\n",
    "    mean_second_derivative_central, sample_entropy, benford_correlation, count_above_mean,\\\n",
    "    percentage_of_reoccurring_datapoints_to_all_datapoints, variation_coefficient"
   ]
  },
  {
   "cell_type": "code",
   "execution_count": 3,
   "id": "70cd108b",
   "metadata": {},
   "outputs": [],
   "source": [
    "account_static = pd.read_csv('./data/账户静态信息.csv')"
   ]
  },
  {
   "cell_type": "code",
   "execution_count": 4,
   "id": "bb1fe25e",
   "metadata": {},
   "outputs": [],
   "source": [
    "account_trade = pd.read_csv('./data/账户交易信息.csv')"
   ]
  },
  {
   "cell_type": "code",
   "execution_count": 5,
   "id": "b6c52ac9",
   "metadata": {},
   "outputs": [],
   "source": [
    "y_train = pd.read_csv('./data/训练集标签.csv')"
   ]
  },
  {
   "cell_type": "code",
   "execution_count": 6,
   "id": "500d7f6e",
   "metadata": {},
   "outputs": [],
   "source": [
    "y_test = pd.read_csv('./data/test_dataset.csv')"
   ]
  },
  {
   "cell_type": "code",
   "execution_count": 7,
   "id": "2fd159c7",
   "metadata": {},
   "outputs": [
    {
     "name": "stderr",
     "output_type": "stream",
     "text": [
      "/Users/yitinglin/Projects/dcic2023/env/lib/python3.7/site-packages/ipykernel_launcher.py:13: FutureWarning: Series.dt.weekofyear and Series.dt.week have been deprecated.  Please use Series.dt.isocalendar().week instead.\n",
      "  del sys.path[0]\n"
     ]
    },
    {
     "name": "stdout",
     "output_type": "stream",
     "text": [
      "['jyrq_is_holiday', 'jyrq_month', 'jyrq_day', 'jyrq_weekofyear', 'jyrq_dayofyear', 'jyrq_dayofweek', 'jyrq_is_wknd', 'jyrq_is_month_start', 'jyrq_is_month_end', 'jyrq_hour', 'jyrq_minu', 'jyrq_date']\n"
     ]
    }
   ],
   "source": [
    "def get_time_feature(df, col):\n",
    "    \n",
    "    df_copy = df.copy()\n",
    "    prefix = col + \"_\"\n",
    "    df_copy['new_'+col] = df_copy[col].astype(str)\n",
    "    \n",
    "    col = 'new_'+col\n",
    "    df_copy[prefix + 'is_holiday'] = df_copy[col].apply(lambda x: is_holiday(datetime.strptime(x, '%Y-%m-%d')))\\\n",
    "        .astype(int)\n",
    "    df_copy[col] = pd.to_datetime(df_copy[col], format='%Y-%m-%d')\n",
    "    df_copy[prefix + 'month'] = df_copy[col].dt.month\n",
    "    df_copy[prefix + 'day'] = df_copy[col].dt.day\n",
    "    df_copy[prefix + 'weekofyear'] = df_copy[col].dt.weekofyear\n",
    "    df_copy[prefix + 'dayofyear'] = df_copy[col].dt.dayofyear\n",
    "    df_copy[prefix + 'dayofweek'] = df_copy[col].dt.dayofweek\n",
    "    df_copy[prefix + 'is_wknd'] = df_copy[col].dt.dayofweek // 6\n",
    "    df_copy[prefix + 'is_month_start'] = df_copy[col].dt.is_month_start.astype(int)\n",
    "    df_copy[prefix + 'is_month_end'] = df_copy[col].dt.is_month_end.astype(int)\n",
    "    del df_copy[col]\n",
    "    \n",
    "    df_copy[prefix + 'hour'] = df_copy['jysj'].apply(lambda x:int(x.split(':')[0]))\n",
    "    df_copy[prefix + 'minu'] = df_copy['jysj'].apply(lambda x:int(x.split(':')[1]))\n",
    "    df_copy[prefix + 'date'] = df_copy['jysj'].apply(lambda x:int(x.split(':')[0])*60 + int(x.split(':')[1]))\n",
    "    \n",
    "    return df_copy   \n",
    "\n",
    "account_trade = get_time_feature(account_trade, \"jyrq\")\n",
    "time_cols = [f for f in account_trade.columns if 'jyrq_' in f]\n",
    "print(time_cols)\n"
   ]
  },
  {
   "cell_type": "code",
   "execution_count": 8,
   "id": "6cf45bc3",
   "metadata": {},
   "outputs": [],
   "source": [
    "def get_base_feat(df1_, df2_):\n",
    "    df1 = df1_.copy() # 构建特征数据 \n",
    "    df2 = df2_.copy()\n",
    "\n",
    "    agg_func = {\n",
    "        'dfzh': ['nunique','count'],\n",
    "        'dfhh': ['nunique'],\n",
    "        'jyqd': ['nunique'],\n",
    "        'zydh': ['nunique'],\n",
    "        'jyje': ['sum','mean','median','max','min','std',np.ptp,\n",
    "                longest_strike_above_mean, mean_abs_change, mean_second_derivative_central,\n",
    "                 sample_entropy, benford_correlation, count_above_mean,\n",
    "                 percentage_of_reoccurring_datapoints_to_all_datapoints],\n",
    "        'zhye': ['sum','mean', 'median', 'max','min','std', np.ptp],\n",
    "#         'jyje': ['sum','mean','max','min','std',np.ptp],\n",
    "#         'zhye': ['sum','mean', 'median', 'max','min','std',np.ptp,\n",
    "#                  longest_strike_above_mean, mean_abs_change, mean_second_derivative_central,\n",
    "#                  sample_entropy, benford_correlation, count_above_mean,\n",
    "#                  percentage_of_reoccurring_datapoints_to_all_datapoints],\n",
    "        'dfmccd': ['mean', 'median', 'max','min','std',np.ptp],\n",
    "    }\n",
    "    \n",
    "    for col in time_cols:\n",
    "        agg_func[col] = ['mean', 'median', 'min','max',np.ptp]\n",
    "    \n",
    "    agg_df = df1[df1['jdbj']==0].groupby(['zhdh']).agg(agg_func).reset_index()\n",
    "    agg_df.columns = ['zhdh'] + ['zhdh_jdbj0_' + '_'.join(f).strip()\n",
    "                                 for f in agg_df.columns.values if f[0] not in ['zhdh']]\n",
    "    df2 = df2.merge(agg_df, on=['zhdh'], how='left')\n",
    "    \n",
    "    agg_df = df1[df1['jdbj']==1].groupby(['zhdh']).agg(agg_func).reset_index()\n",
    "    agg_df.columns = ['zhdh'] + ['zhdh_jdbj1_' + '_'.join(f).strip()\n",
    "                                 for f in agg_df.columns.values if f[0] not in ['zhdh']]\n",
    "    df2 = df2.merge(agg_df, on=['zhdh'], how='left')\n",
    "    \n",
    "    return df2\n",
    "\n",
    "if os.path.exists('train_label.pkl'):\n",
    "    with open('train_label.pkl', 'rb') as file:\n",
    "        train_label = pickle.load(file)\n",
    "    with open('test_label.pkl', 'rb') as file:\n",
    "        test_label = pickle.load(file)\n",
    "else:\n",
    "    train_label = get_base_feat(account_trade, y_train)\n",
    "    test_label = get_base_feat(account_trade, y_test)\n",
    "    with open('train_label.pkl', 'wb') as file:\n",
    "        pickle.dump(train_label, file)\n",
    "    with open('test_label.pkl', 'wb') as file:\n",
    "        pickle.dump(test_label, file)"
   ]
  },
  {
   "cell_type": "code",
   "execution_count": 9,
   "id": "5c1f3244",
   "metadata": {},
   "outputs": [],
   "source": [
    "train_label = train_label.replace([np.inf, -np.inf], np.nan)\n",
    "test_label = test_label.replace([np.inf, -np.inf], np.nan)"
   ]
  },
  {
   "cell_type": "code",
   "execution_count": 10,
   "id": "34d8a38b",
   "metadata": {},
   "outputs": [],
   "source": [
    "fea = pd.concat([train_label, test_label])"
   ]
  },
  {
   "cell_type": "code",
   "execution_count": 11,
   "id": "191096ca",
   "metadata": {},
   "outputs": [],
   "source": [
    "# account_trade['jyje_new'] = account_trade['jyje'] * account_trade['jdbj'].apply(lambda x: -1 if x == 0 else 1)\n",
    "\n",
    "# tmp = account_trade.groupby('zhdh').agg({\n",
    "#     'jyje_new': ['sum','mean','median','max','min','std',np.ptp,\n",
    "#                 longest_strike_above_mean, mean_abs_change, mean_second_derivative_central,\n",
    "#                  sample_entropy, benford_correlation, count_above_mean,\n",
    "#                  percentage_of_reoccurring_datapoints_to_all_datapoints]\n",
    "# })\n",
    "# tmp.columns = [f'{c[0]}_{c[1]}' for c in tmp.columns]\n",
    "# tmp = tmp.replace([np.inf, -np.inf], np.nan)\n",
    "# tmp = tmp.reset_index()\n",
    "# fea = fea.merge(tmp, how='left', on='zhdh')"
   ]
  },
  {
   "cell_type": "code",
   "execution_count": 12,
   "id": "23c1216e",
   "metadata": {},
   "outputs": [],
   "source": [
    "# tmp = account_trade.sort_values(by='zhye').groupby('zhdh').apply(lambda x: x.head(1)['jyqd'].values[0])\\\n",
    "#     .reset_index().rename(columns={0: 'min_zhye_jyqd'})\n",
    "# fea = fea.merge(tmp, how='left', on='zhdh')\n",
    "\n",
    "# tmp = account_trade.sort_values(by='zhye').groupby('zhdh').apply(lambda x: x.head(1)['zydh'].values[0])\\\n",
    "#     .reset_index().rename(columns={0: 'min_zhye_zydh'})\n",
    "# fea = fea.merge(tmp, how='left', on='zhdh')\n",
    "\n",
    "# tmp = account_trade.sort_values(by='zhye').groupby('zhdh').apply(lambda x: x.tail(1)['jyqd'].values[0])\\\n",
    "#     .reset_index().rename(columns={0: 'max_zhye_jyqd'})\n",
    "# fea = fea.merge(tmp, how='left', on='zhdh')\n",
    "\n",
    "# tmp = account_trade.sort_values(by='zhye').groupby('zhdh').apply(lambda x: x.tail(1)['zydh'].values[0])\\\n",
    "#     .reset_index().rename(columns={0: 'max_zhye_zydh'})\n",
    "# fea = fea.merge(tmp, how='left', on='zhdh')"
   ]
  },
  {
   "cell_type": "code",
   "execution_count": 13,
   "id": "050b5b8b",
   "metadata": {},
   "outputs": [],
   "source": [
    "tmp = account_trade[account_trade['jdbj'] == 1].groupby('zhdh')['jyje'].apply(lambda x: variation_coefficient(x))\\\n",
    "    .reset_index().rename(columns={'jyje': 'jdbj1_jyje_var_coeff'})\n",
    "fea = fea.merge(tmp, how='left', on='zhdh')\n",
    "\n",
    "tmp = account_trade[account_trade['jdbj'] == 0].groupby('zhdh')['jyje'].apply(lambda x: variation_coefficient(x))\\\n",
    "    .reset_index().rename(columns={'jyje': 'jdbj0_jyje_var_coeff'})\n",
    "fea = fea.merge(tmp, how='left', on='zhdh')"
   ]
  },
  {
   "cell_type": "code",
   "execution_count": 14,
   "id": "4ba95d3f",
   "metadata": {},
   "outputs": [],
   "source": [
    "account_trade['jyje_is_int'] = (account_trade['jyje'] == account_trade['jyje'].astype(int)) + 0\n",
    "tmp = account_trade.groupby('zhdh')['jyje_is_int'].sum() / account_trade.groupby('zhdh').size()\n",
    "tmp = tmp.reset_index().rename(columns={0: 'jyje_int_pct'})\n",
    "fea = fea.merge(tmp, how='left', on='zhdh')"
   ]
  },
  {
   "cell_type": "code",
   "execution_count": 15,
   "id": "ea7f198c",
   "metadata": {},
   "outputs": [],
   "source": [
    "account_trade['jyje_10_times'] = (account_trade['jyje'] % 10 == 0) + 0\n",
    "tmp = account_trade.groupby('zhdh')['jyje_10_times'].sum() / account_trade.groupby('zhdh').size()\n",
    "tmp = tmp.reset_index().rename(columns={0: 'jyje_10_times_pct'})\n",
    "fea = fea.merge(tmp, how='left', on='zhdh')"
   ]
  },
  {
   "cell_type": "code",
   "execution_count": 16,
   "id": "97b855d4",
   "metadata": {},
   "outputs": [],
   "source": [
    "account_trade['jyje_100_times'] = (account_trade['jyje'] % 100 == 0) + 0\n",
    "tmp = account_trade.groupby('zhdh')['jyje_100_times'].sum() / account_trade.groupby('zhdh').size()\n",
    "tmp = tmp.reset_index().rename(columns={0: 'jyje_100_times_pct'})\n",
    "fea = fea.merge(tmp, how='left', on='zhdh')"
   ]
  },
  {
   "cell_type": "code",
   "execution_count": 17,
   "id": "853838d2",
   "metadata": {},
   "outputs": [],
   "source": [
    "account_trade['dt'] = account_trade['jyrq'] + ' ' + account_trade['jysj']\n",
    "account_trade['dt'] = pd.to_datetime(account_trade['dt'])"
   ]
  },
  {
   "cell_type": "code",
   "execution_count": 18,
   "id": "0e1a7a44",
   "metadata": {},
   "outputs": [
    {
     "name": "stderr",
     "output_type": "stream",
     "text": [
      "/Users/yitinglin/Projects/dcic2023/env/lib/python3.7/site-packages/ipykernel_launcher.py:3: FutureWarning: Series.dt.weekofyear and Series.dt.week have been deprecated.  Please use Series.dt.isocalendar().week instead.\n",
      "  This is separate from the ipykernel package so we can avoid doing imports until\n"
     ]
    }
   ],
   "source": [
    "account_trade['month'] = account_trade['dt'].dt.month\n",
    "account_trade['day'] = account_trade['dt'].dt.day\n",
    "account_trade['weekofyear'] = account_trade['dt'].dt.weekofyear\n",
    "account_trade['dayofweek'] = account_trade['dt'].dt.dayofweek\n",
    "\n",
    "account_trade['is_wknd'] = account_trade['dt'].dt.dayofweek // 6\n",
    "account_trade['is_month_start'] = account_trade['dt'].dt.is_month_start.astype(int)\n",
    "account_trade['is_month_end'] = account_trade['dt'].dt.is_month_end.astype(int)\n",
    "\n",
    "account_trade['hour'] = account_trade['jysj'].apply(lambda x:int(x.split(':')[0]))\n",
    "account_trade['minu'] = account_trade['jysj'].apply(lambda x:int(x.split(':')[1]))"
   ]
  },
  {
   "cell_type": "code",
   "execution_count": 19,
   "id": "b14e023a",
   "metadata": {},
   "outputs": [],
   "source": [
    "account_trade['jyje_label'] = pd.qcut(account_trade['jyje'], 10, labels=range(10))"
   ]
  },
  {
   "cell_type": "code",
   "execution_count": 20,
   "id": "bcbcb431",
   "metadata": {},
   "outputs": [],
   "source": [
    "cat_cols = ['dfzh', 'dfhh', 'jyqd', 'zydh', 'jyje_label',\n",
    "            'month', 'day', 'weekofyear', 'dayofweek', 'is_wknd',\n",
    "            'is_month_start', 'is_month_end', 'hour', 'minu']"
   ]
  },
  {
   "cell_type": "code",
   "execution_count": 21,
   "id": "5166f94e",
   "metadata": {},
   "outputs": [],
   "source": [
    "for col in cat_cols:\n",
    "    tmp = account_trade.groupby(['zhdh', col]).size().reset_index().groupby('zhdh')\\\n",
    "        .apply(lambda x: x.sort_values(by=0).iloc[-1][col])\\\n",
    "        .reset_index().rename(columns={0: f'most_{col}'})\n",
    "    fea = fea.merge(tmp, how='left', on='zhdh')\n",
    "    \n",
    "    tmp = account_trade[account_trade['jdbj'] == 0].groupby(['zhdh', col]).size().reset_index().groupby('zhdh')\\\n",
    "        .apply(lambda x: x.sort_values(by=0).iloc[-1][col])\\\n",
    "        .reset_index().rename(columns={0: f'jdbj0_most_{col}'})\n",
    "    fea = fea.merge(tmp, how='left', on='zhdh')\n",
    "    \n",
    "    tmp = account_trade[account_trade['jdbj'] == 1].groupby(['zhdh', col]).size().reset_index().groupby('zhdh')\\\n",
    "        .apply(lambda x: x.sort_values(by=0).iloc[-1][col])\\\n",
    "        .reset_index().rename(columns={0: f'jdbj1_most_{col}'})\n",
    "    fea = fea.merge(tmp, how='left', on='zhdh')"
   ]
  },
  {
   "cell_type": "code",
   "execution_count": 22,
   "id": "379b9164",
   "metadata": {},
   "outputs": [],
   "source": [
    "# for col in ['dfhh', 'jyqd', 'zydh']:\n",
    "#     tmp = account_trade.groupby(['zhdh', col]).size().reset_index().groupby('zhdh')\\\n",
    "#         .apply(lambda x: x.sort_values(by=0).iloc[0][col])\\\n",
    "#         .reset_index().rename(columns={0: f'most_{col}'})\n",
    "#     fea = fea.merge(tmp, how='left', on='zhdh')"
   ]
  },
  {
   "cell_type": "code",
   "execution_count": 23,
   "id": "5195f6b5",
   "metadata": {},
   "outputs": [],
   "source": [
    "for col in cat_cols:\n",
    "    tmp = account_trade.groupby(['zhdh', col])['jyje'].sum().reset_index().groupby('zhdh')\\\n",
    "            .apply(lambda x: x.sort_values(by='jyje').iloc[-1][col])\\\n",
    "            .reset_index().rename(columns={0: f'most_jyje_{col}'})\n",
    "    fea = fea.merge(tmp, how='left', on='zhdh')\n",
    "    \n",
    "    tmp = account_trade[account_trade['jdbj'] == 0].groupby(['zhdh', col])['jyje'].sum()\\\n",
    "            .reset_index().groupby('zhdh')\\\n",
    "            .apply(lambda x: x.sort_values(by='jyje').iloc[-1][col])\\\n",
    "            .reset_index().rename(columns={0: f'jdbj0_most_jyje_{col}'})\n",
    "    fea = fea.merge(tmp, how='left', on='zhdh')\n",
    "    \n",
    "    tmp = account_trade[account_trade['jdbj'] == 1].groupby(['zhdh', col])['jyje'].sum()\\\n",
    "            .reset_index().groupby('zhdh')\\\n",
    "            .apply(lambda x: x.sort_values(by='jyje').iloc[-1][col])\\\n",
    "            .reset_index().rename(columns={0: f'jdbj1_most_jyje_{col}'})\n",
    "    fea = fea.merge(tmp, how='left', on='zhdh')"
   ]
  },
  {
   "cell_type": "code",
   "execution_count": 24,
   "id": "57a09668",
   "metadata": {},
   "outputs": [],
   "source": [
    "for c in cat_cols:\n",
    "    tmp = (account_trade.groupby([c]).size() / account_trade.shape[0])\\\n",
    "        .reset_index().rename(columns={0: f'{c}_ratio'})\n",
    "    account_trade = account_trade.merge(tmp, how='left', on=c)"
   ]
  },
  {
   "cell_type": "code",
   "execution_count": 25,
   "id": "382b8907",
   "metadata": {},
   "outputs": [],
   "source": [
    "agg_func = {}\n",
    "for c in cat_cols:\n",
    "    agg_func[f'{c}_ratio'] = ['sum','mean','max','min','std']\n",
    "tmp = account_trade.groupby('zhdh').agg(agg_func)\n",
    "tmp.columns = [f'{c[0]}_{c[1]}' for c in tmp.columns]\n",
    "tmp = tmp.reset_index()\n",
    "fea = fea.merge(tmp, how='left', on='zhdh')"
   ]
  },
  {
   "cell_type": "code",
   "execution_count": 26,
   "id": "a1e5db75",
   "metadata": {},
   "outputs": [],
   "source": [
    "for col in ['jyqd']:\n",
    "    tmp = account_trade.merge(y_train, how='left', on='zhdh').groupby(['black_flag', col])\\\n",
    "        .size().reset_index().rename({0: f'flag_{col}_cnt'},axis=1)\n",
    "    tmp2 = account_trade.merge(y_train, how='left', on='zhdh').groupby('black_flag').size()\\\n",
    "        .reset_index().rename({0:'flag_cnt'},axis=1)\n",
    "    tmp = tmp.merge(tmp2, how='left', on='black_flag')\n",
    "    tmp[f'p({col}|flag)'] = tmp[f'flag_{col}_cnt'] / tmp['flag_cnt']\n",
    "    for i in range(2):\n",
    "        tmp3 = account_trade.merge(tmp[tmp['black_flag'] == i][[col, f'p({col}|flag)']], how='left', on=col)\\\n",
    "            .groupby('zhdh').agg({f'p({col}|flag)': ['mean', 'sum', 'std', 'max']})\n",
    "        tmp3.columns = [f'{c[0]}_{c[1]}_lag={i}' for c in tmp3.columns]\n",
    "        tmp3 = tmp3.reset_index()\n",
    "        fea = fea.merge(tmp3, how='left', on='zhdh')"
   ]
  },
  {
   "cell_type": "code",
   "execution_count": 27,
   "id": "8fbb19be",
   "metadata": {},
   "outputs": [],
   "source": [
    "tmp = account_trade.groupby('zhdh').apply(lambda x: (x['dt'].max() - x['dt'].min()).days)\\\n",
    "    .reset_index().rename(columns={0: 'ndays'})\n",
    "tmp['trade_time_per_day'] = account_trade.groupby('zhdh').size().values / (tmp['ndays'].values+1)\n",
    "fea = fea.merge(tmp, how='left', on='zhdh')"
   ]
  },
  {
   "cell_type": "code",
   "execution_count": 28,
   "id": "1d569daa",
   "metadata": {},
   "outputs": [],
   "source": [
    "tmp = account_trade.groupby(['zhdh', 'jyje_label']).size().reset_index()\\\n",
    "    .rename(columns={0: 'cnt'}).pivot(index='zhdh', columns=['jyje_label'], values=['cnt'])\n",
    "tmp.columns = [f'jyje_label_{i}' for i in range(10)]\n",
    "tmp = (tmp.T /  account_trade.groupby(['zhdh']).size()).T\n",
    "fea = fea.merge(tmp, how='left', on='zhdh')"
   ]
  },
  {
   "cell_type": "code",
   "execution_count": 29,
   "id": "32004d08",
   "metadata": {},
   "outputs": [],
   "source": [
    "tmp = account_trade.groupby('zhdh')['dt'].min().reset_index().merge(account_static, how='left')\n",
    "tmp['kh2jy_days'] = (tmp['dt'] - pd.to_datetime(tmp['khrq'])).dt.days\n",
    "fea = fea.merge(tmp[['zhdh', 'kh2jy_days']], how='left', on='zhdh')"
   ]
  },
  {
   "cell_type": "code",
   "execution_count": 30,
   "id": "497c45fb",
   "metadata": {},
   "outputs": [],
   "source": [
    "tmp = account_trade.sort_values(by='dt').groupby('zhdh').tail(20).groupby('zhdh')\\\n",
    "    .apply(lambda x: (x['dt'].max() - x['dt'].min()).seconds / 3600).reset_index()\\\n",
    "    .rename(columns={0: 'last20trade_hours'})\n",
    "fea = fea.merge(tmp, how='left', on='zhdh')"
   ]
  },
  {
   "cell_type": "code",
   "execution_count": 31,
   "id": "5d2c577c",
   "metadata": {},
   "outputs": [],
   "source": [
    "tmp = account_trade.groupby('zhdh').apply(lambda x: x[x['jyrq'] == x['jyrq'].min()].shape[0])\\\n",
    "    .reset_index().rename(columns={0: 'last_day_trade_cnt'})\n",
    "fea = fea.merge(tmp, how='left', on='zhdh')"
   ]
  },
  {
   "cell_type": "code",
   "execution_count": 32,
   "id": "0b2a4bfd",
   "metadata": {},
   "outputs": [],
   "source": [
    "tmp = account_trade.groupby(['zhdh', 'jdbj'])['jyje'].sum().reset_index()\\\n",
    "    .pivot(index='zhdh', columns=['jdbj'], values=['jyje'])\n",
    "tmp.columns = ['jdbj_0', 'jdbj_1']\n",
    "tmp = tmp.reset_index()\n",
    "tmp['in_out_diff'] = (tmp['jdbj_0'] - tmp['jdbj_1'])\n",
    "tmp['in_out_ratio'] = (tmp['jdbj_0'] / tmp['jdbj_1'])\n",
    "fea = fea.merge(tmp, how='left', on='zhdh')"
   ]
  },
  {
   "cell_type": "code",
   "execution_count": 33,
   "id": "02f44a27",
   "metadata": {},
   "outputs": [],
   "source": [
    "tmp = account_trade.groupby(['zhdh', 'jyqd'])['jyje'].sum().reset_index()\\\n",
    "    .pivot(index='zhdh', columns=['jyqd'], values=['jyje'])\n",
    "jyqd_cols = [f'{c[1]}_sum' for c in tmp.columns]\n",
    "tmp.columns = jyqd_cols\n",
    "tmp = tmp.reset_index()\n",
    "tmp = tmp.merge(account_trade.groupby(['zhdh'])['jyje'].sum().reset_index(), how='left', on='zhdh')\n",
    "for col in jyqd_cols:\n",
    "    tmp[col.split('_')[0]+'_ratio'] = tmp[col] / tmp['jyje']\n",
    "tmp = tmp.drop(columns=['jyje'])\n",
    "fea = fea.merge(tmp, how='left', on='zhdh')"
   ]
  },
  {
   "cell_type": "code",
   "execution_count": 34,
   "id": "c42f4274",
   "metadata": {},
   "outputs": [],
   "source": [
    "# tmp = account_trade.groupby(['zhdh', 'zydh'])['jyje'].sum().reset_index()\\\n",
    "#     .pivot(index='zhdh', columns=['zydh'], values=['jyje'])\n",
    "# zydh_cols = [f'{c[1]}_sum' for c in tmp.columns]\n",
    "# tmp.columns = zydh_cols\n",
    "# tmp = tmp.reset_index()\n",
    "# tmp = tmp.merge(account_trade.groupby(['zhdh'])['jyje'].sum().reset_index(), how='left', on='zhdh')\n",
    "# for col in zydh_cols:\n",
    "#     tmp[col.split('_')[0]+'_ratio'] = tmp[col] / tmp['jyje']\n",
    "# tmp = tmp.drop(columns=['jyje'])\n",
    "# fea = fea.merge(tmp, how='left', on='zhdh')"
   ]
  },
  {
   "cell_type": "code",
   "execution_count": 35,
   "id": "226592ef",
   "metadata": {},
   "outputs": [],
   "source": [
    "# tmp = account_trade.merge(account_static[['zhdh', 'khjgdh']], how='left', on='zhdh').groupby('zhdh')\\\n",
    "#     .apply(lambda x: x[x['jyqd'] == x['khjgdh']].shape[0] / x.shape[0])\n",
    "# tmp = tmp.reset_index().rename(columns={0: 'same_bank_ratio'})\n",
    "# fea = fea.merge(tmp, how='left', on='zhdh')"
   ]
  },
  {
   "cell_type": "code",
   "execution_count": 36,
   "id": "fb611f76",
   "metadata": {},
   "outputs": [
    {
     "data": {
      "text/plain": [
       "Index(['jylsxh', 'zhdh', 'dfzh', 'jdbj', 'jyje', 'zhye', 'dfhh', 'jyrq',\n",
       "       'jysj', 'jyqd', 'zydh', 'dfmccd', 'jyrq_is_holiday', 'jyrq_month',\n",
       "       'jyrq_day', 'jyrq_weekofyear', 'jyrq_dayofyear', 'jyrq_dayofweek',\n",
       "       'jyrq_is_wknd', 'jyrq_is_month_start', 'jyrq_is_month_end', 'jyrq_hour',\n",
       "       'jyrq_minu', 'jyrq_date', 'jyje_is_int', 'jyje_10_times',\n",
       "       'jyje_100_times', 'dt', 'month', 'day', 'weekofyear', 'dayofweek',\n",
       "       'is_wknd', 'is_month_start', 'is_month_end', 'hour', 'minu',\n",
       "       'jyje_label', 'dfzh_ratio', 'dfhh_ratio', 'jyqd_ratio', 'zydh_ratio',\n",
       "       'jyje_label_ratio', 'month_ratio', 'day_ratio', 'weekofyear_ratio',\n",
       "       'dayofweek_ratio', 'is_wknd_ratio', 'is_month_start_ratio',\n",
       "       'is_month_end_ratio', 'hour_ratio', 'minu_ratio'],\n",
       "      dtype='object')"
      ]
     },
     "execution_count": 36,
     "metadata": {},
     "output_type": "execute_result"
    }
   ],
   "source": [
    "account_trade.columns"
   ]
  },
  {
   "cell_type": "code",
   "execution_count": 37,
   "id": "24455ab6",
   "metadata": {},
   "outputs": [],
   "source": [
    "col1 = 'jyqd'\n",
    "col2 = 'jyrq'\n",
    "\n",
    "tmp = account_trade.groupby(['zhdh', col1])[col2].size().reset_index().rename(columns={col2: f'{col1}_{col2}_cnt'})\n",
    "tmp2 = account_trade.groupby(['zhdh'])[col2].size().reset_index().rename(columns={col2: f'{col2}_cnt'})\n",
    "tmp = tmp.merge(tmp2, how='left', on='zhdh')\n",
    "tmp[f'{col1}_{col2}_ratio'] = tmp[f'{col1}_{col2}_cnt'] / tmp[f'{col2}_cnt']\n",
    "tmp = tmp.groupby('zhdh')[f'{col1}_{col2}_ratio'].agg(['mean', 'max', 'std'])\n",
    "tmp.columns = [f'{col1}_{col2}_ratio_mean', f'{col1}_{col2}_ratio_max', f'{col1}_{col2}_ratio_std']\n",
    "tmp = tmp.reset_index()\n",
    "fea = fea.merge(tmp, how='left', on='zhdh')"
   ]
  },
  {
   "cell_type": "code",
   "execution_count": 38,
   "id": "c9f3ae57",
   "metadata": {},
   "outputs": [],
   "source": [
    "col1 = 'jyqd'\n",
    "col2 = 'zydh'\n",
    "\n",
    "tmp = account_trade.groupby(['zhdh', col1])[col2].size().reset_index().rename(columns={col2: f'{col1}_{col2}_cnt'})\n",
    "tmp2 = account_trade.groupby(['zhdh'])[col2].size().reset_index().rename(columns={col2: f'{col2}_cnt'})\n",
    "tmp = tmp.merge(tmp2, how='left', on='zhdh')\n",
    "tmp[f'{col1}_{col2}_ratio'] = tmp[f'{col1}_{col2}_cnt'] / tmp[f'{col2}_cnt']\n",
    "tmp = tmp.groupby('zhdh')[f'{col1}_{col2}_ratio'].agg(['mean', 'max', 'std'])\n",
    "tmp.columns = [f'{col1}_{col2}_ratio_mean', f'{col1}_{col2}_ratio_max', f'{col1}_{col2}_ratio_std']\n",
    "tmp = tmp.reset_index()\n",
    "fea = fea.merge(tmp, how='left', on='zhdh')"
   ]
  },
  {
   "cell_type": "code",
   "execution_count": 39,
   "id": "2f82e035",
   "metadata": {},
   "outputs": [],
   "source": [
    "col1 = 'jyqd'\n",
    "col2 = 'hour'\n",
    "\n",
    "tmp = account_trade.groupby(['zhdh', col1])[col2].size().reset_index().rename(columns={col2: f'{col1}_{col2}_cnt'})\n",
    "tmp2 = account_trade.groupby(['zhdh'])[col2].size().reset_index().rename(columns={col2: f'{col2}_cnt'})\n",
    "tmp = tmp.merge(tmp2, how='left', on='zhdh')\n",
    "tmp[f'{col1}_{col2}_ratio'] = tmp[f'{col1}_{col2}_cnt'] / tmp[f'{col2}_cnt']\n",
    "tmp = tmp.groupby('zhdh')[f'{col1}_{col2}_ratio'].agg(['mean', 'max', 'std'])\n",
    "tmp.columns = [f'{col1}_{col2}_ratio_mean', f'{col1}_{col2}_ratio_max', f'{col1}_{col2}_ratio_std']\n",
    "tmp = tmp.reset_index()\n",
    "fea = fea.merge(tmp, how='left', on='zhdh')"
   ]
  },
  {
   "cell_type": "code",
   "execution_count": 40,
   "id": "a0bafc54",
   "metadata": {},
   "outputs": [],
   "source": [
    "col1 = 'jyqd'\n",
    "col2 = 'jyje_label'\n",
    "\n",
    "tmp = account_trade.groupby(['zhdh', col1])[col2].size().reset_index().rename(columns={col2: f'{col1}_{col2}_cnt'})\n",
    "tmp2 = account_trade.groupby(['zhdh'])[col2].size().reset_index().rename(columns={col2: f'{col2}_cnt'})\n",
    "tmp = tmp.merge(tmp2, how='left', on='zhdh')\n",
    "tmp[f'{col1}_{col2}_ratio'] = tmp[f'{col1}_{col2}_cnt'] / tmp[f'{col2}_cnt']\n",
    "tmp = tmp.groupby('zhdh')[f'{col1}_{col2}_ratio'].agg(['mean', 'max', 'std'])\n",
    "tmp.columns = [f'{col1}_{col2}_ratio_mean', f'{col1}_{col2}_ratio_max', f'{col1}_{col2}_ratio_std']\n",
    "tmp = tmp.reset_index()\n",
    "fea = fea.merge(tmp, how='left', on='zhdh')"
   ]
  },
  {
   "cell_type": "code",
   "execution_count": 41,
   "id": "82d6c1f3",
   "metadata": {},
   "outputs": [],
   "source": [
    "# col1 = 'jyqd'\n",
    "# col2 = 'dfhh'\n",
    "\n",
    "# tmp = account_trade.groupby(['zhdh', col1])[col2].size().reset_index().rename(columns={col2: f'{col1}_{col2}_cnt'})\n",
    "# tmp2 = account_trade.groupby(['zhdh'])[col2].size().reset_index().rename(columns={col2: f'{col2}_cnt'})\n",
    "# tmp = tmp.merge(tmp2, how='left', on='zhdh')\n",
    "# tmp[f'{col1}_{col2}_ratio'] = tmp[f'{col1}_{col2}_cnt'] / tmp[f'{col2}_cnt']\n",
    "# tmp = tmp.groupby('zhdh')[f'{col1}_{col2}_ratio'].agg(['mean', 'median', 'max', 'std'])\n",
    "# tmp.columns = [f'{col1}_{col2}_ratio_mean', f'{col1}_{col2}_ratio_median',\n",
    "#                f'{col1}_{col2}_ratio_max', f'{col1}_{col2}_ratio_std']\n",
    "# tmp = tmp.reset_index()\n",
    "# fea = fea.merge(tmp, how='left', on='zhdh')"
   ]
  },
  {
   "cell_type": "code",
   "execution_count": 42,
   "id": "bb2b9668",
   "metadata": {},
   "outputs": [],
   "source": [
    "col1 = 'zydh'\n",
    "col2 = 'jyrq'\n",
    "\n",
    "tmp = account_trade.groupby(['zhdh', col1])[col2].size().reset_index().rename(columns={col2: f'{col1}_{col2}_cnt'})\n",
    "tmp2 = account_trade.groupby(['zhdh'])[col2].size().reset_index().rename(columns={col2: f'{col2}_cnt'})\n",
    "tmp = tmp.merge(tmp2, how='left', on='zhdh')\n",
    "tmp[f'{col1}_{col2}_ratio'] = tmp[f'{col1}_{col2}_cnt'] / tmp[f'{col2}_cnt']\n",
    "tmp = tmp.groupby('zhdh')[f'{col1}_{col2}_ratio'].agg(['mean', 'max', 'std'])\n",
    "tmp.columns = [f'{col1}_{col2}_ratio_mean', f'{col1}_{col2}_ratio_max', f'{col1}_{col2}_ratio_std']\n",
    "tmp = tmp.reset_index()\n",
    "fea = fea.merge(tmp, how='left', on='zhdh')\n",
    "\n",
    "\n",
    "col1 = 'zydh'\n",
    "col2 = 'jyqd'\n",
    "\n",
    "tmp = account_trade.groupby(['zhdh', col1])[col2].size().reset_index().rename(columns={col2: f'{col1}_{col2}_cnt'})\n",
    "tmp2 = account_trade.groupby(['zhdh'])[col2].size().reset_index().rename(columns={col2: f'{col2}_cnt'})\n",
    "tmp = tmp.merge(tmp2, how='left', on='zhdh')\n",
    "tmp[f'{col1}_{col2}_ratio'] = tmp[f'{col1}_{col2}_cnt'] / tmp[f'{col2}_cnt']\n",
    "tmp = tmp.groupby('zhdh')[f'{col1}_{col2}_ratio'].agg(['mean', 'max', 'std'])\n",
    "tmp.columns = [f'{col1}_{col2}_ratio_mean', f'{col1}_{col2}_ratio_max', f'{col1}_{col2}_ratio_std']\n",
    "tmp = tmp.reset_index()\n",
    "fea = fea.merge(tmp, how='left', on='zhdh')\n",
    "\n",
    "\n",
    "col1 = 'zydh'\n",
    "col2 = 'hour'\n",
    "\n",
    "tmp = account_trade.groupby(['zhdh', col1])[col2].size().reset_index().rename(columns={col2: f'{col1}_{col2}_cnt'})\n",
    "tmp2 = account_trade.groupby(['zhdh'])[col2].size().reset_index().rename(columns={col2: f'{col2}_cnt'})\n",
    "tmp = tmp.merge(tmp2, how='left', on='zhdh')\n",
    "tmp[f'{col1}_{col2}_ratio'] = tmp[f'{col1}_{col2}_cnt'] / tmp[f'{col2}_cnt']\n",
    "tmp = tmp.groupby('zhdh')[f'{col1}_{col2}_ratio'].agg(['mean', 'max', 'std'])\n",
    "tmp.columns = [f'{col1}_{col2}_ratio_mean', f'{col1}_{col2}_ratio_max', f'{col1}_{col2}_ratio_std']\n",
    "tmp = tmp.reset_index()\n",
    "fea = fea.merge(tmp, how='left', on='zhdh')\n",
    "\n",
    "\n",
    "col1 = 'zydh'\n",
    "col2 = 'jyje_label'\n",
    "\n",
    "tmp = account_trade.groupby(['zhdh', col1])[col2].size().reset_index().rename(columns={col2: f'{col1}_{col2}_cnt'})\n",
    "tmp2 = account_trade.groupby(['zhdh'])[col2].size().reset_index().rename(columns={col2: f'{col2}_cnt'})\n",
    "tmp = tmp.merge(tmp2, how='left', on='zhdh')\n",
    "tmp[f'{col1}_{col2}_ratio'] = tmp[f'{col1}_{col2}_cnt'] / tmp[f'{col2}_cnt']\n",
    "tmp = tmp.groupby('zhdh')[f'{col1}_{col2}_ratio'].agg(['mean', 'max', 'std'])\n",
    "tmp.columns = [f'{col1}_{col2}_ratio_mean', f'{col1}_{col2}_ratio_max', f'{col1}_{col2}_ratio_std']\n",
    "tmp = tmp.reset_index()\n",
    "fea = fea.merge(tmp, how='left', on='zhdh')"
   ]
  },
  {
   "cell_type": "code",
   "execution_count": 43,
   "id": "961b34fc",
   "metadata": {},
   "outputs": [],
   "source": [
    "from collections import Counter\n",
    "def calc_cf(values):\n",
    "    rms = np.sqrt(np.mean(values ** 2))\n",
    "    xr = np.mean(np.abs(values)) ** 2\n",
    "    max_v = values.max()\n",
    "    min_v = values.min()\n",
    "    pk_max = max(max_v, -min_v)\n",
    "    return pk_max / rms if rms != 0 else 0\n",
    "\n",
    "def calc_pf(values):\n",
    "    rms = np.sqrt(np.mean(values ** 2))\n",
    "    xr = np.mean(np.abs(values)) ** 2\n",
    "    max_v = values.max()\n",
    "    min_v = values.min()\n",
    "    pk_max = max(max_v, -min_v)\n",
    "    return pk_max / xr if xr != 0 else 0\n",
    "\n",
    "def top1_num(values):\n",
    "    counter = Counter(values)\n",
    "    return counter.most_common(3)[0][0]\n",
    "\n",
    "def top1_ratio(values):\n",
    "    counter = Counter(values)\n",
    "    return counter.most_common(3)[0][1] / len(values)\n",
    "\n",
    "def top2_num(values):\n",
    "    counter = Counter(values)\n",
    "    return counter.most_common(3)[1][0] if len(counter) > 1 else -1\n",
    "\n",
    "def top2_ratio(values):\n",
    "    counter = Counter(values)\n",
    "    return counter.most_common(3)[1][1] / len(values) if len(counter) > 1 else 0\n",
    "\n",
    "def top3_num(values):\n",
    "    counter = Counter(values)\n",
    "    return counter.most_common(3)[2][0] if len(counter) > 2 else -1\n",
    "\n",
    "def top3_ratio(values):\n",
    "    counter = Counter(values)\n",
    "    return counter.most_common(3)[2][1] / len(values) if len(counter) > 2 else 0"
   ]
  },
  {
   "cell_type": "code",
   "execution_count": 44,
   "id": "dbb5650f",
   "metadata": {},
   "outputs": [],
   "source": [
    "# tmp = account_trade.groupby(['zhdh', 'jdbj'])['jyje']\\\n",
    "#     .agg([calc_cf, calc_pf]).reset_index()\n",
    "# tmp = tmp.pivot(index='zhdh', columns=['jdbj'],\n",
    "#           values=['calc_cf', 'calc_pf'])\n",
    "# tmp.columns = [f'{c[0]}_jdbj{c[1]}' for c in tmp.columns]\n",
    "# tmp = tmp.reset_index()\n",
    "# fea = fea.merge(tmp, how='left', on='zhdh')"
   ]
  },
  {
   "cell_type": "code",
   "execution_count": 45,
   "id": "8835b1f6",
   "metadata": {},
   "outputs": [],
   "source": [
    "col = 'jyqd'\n",
    "tmp = account_trade.groupby(['zhdh', 'jyrq', 'jdbj'])[col].size().reset_index()\n",
    "tmp = tmp.pivot(index=['zhdh', 'jyrq'], columns=['jdbj'], values=[col])\n",
    "tmp.columns = [f'jdbj_0_{col}', f'jdbj_1_{col}']\n",
    "\n",
    "tmp = tmp.reset_index().fillna(0)\n",
    "tmp[col] = tmp[f'jdbj_0_{col}'] + tmp[f'jdbj_1_{col}']\n",
    "tmp[f'jdbj_0_{col}_ratio'] = tmp[f'jdbj_0_{col}'] / tmp[col]\n",
    "tmp[f'jdbj_1_{col}_ratio'] = tmp[f'jdbj_1_{col}'] / tmp[col]\n",
    "tmp = tmp.groupby('zhdh')[[f'jdbj_0_{col}_ratio', f'jdbj_1_{col}_ratio']].sum().reset_index()\n",
    "fea = fea.merge(tmp, how='left', on='zhdh')"
   ]
  },
  {
   "cell_type": "code",
   "execution_count": 46,
   "id": "5b0e14df",
   "metadata": {},
   "outputs": [],
   "source": [
    "col = 'jyje'\n",
    "tmp = account_trade.groupby(['zhdh', 'jyrq', 'jdbj'])[col].sum().reset_index()\n",
    "tmp = tmp.pivot(index=['zhdh', 'jyrq'], columns=['jdbj'], values=[col])\n",
    "tmp.columns = [f'jdbj_0_{col}', f'jdbj_1_{col}']\n",
    "\n",
    "tmp = tmp.reset_index().fillna(0)\n",
    "tmp[col] = tmp[f'jdbj_0_{col}'] + tmp[f'jdbj_1_{col}']\n",
    "tmp[f'jdbj_0_{col}_ratio'] = tmp[f'jdbj_0_{col}'] / tmp[col]\n",
    "tmp[f'jdbj_1_{col}_ratio'] = tmp[f'jdbj_1_{col}'] / tmp[col]\n",
    "tmp = tmp.groupby('zhdh')[[f'jdbj_0_{col}_ratio', f'jdbj_1_{col}_ratio']].sum()\n",
    "# fea = fea.merge(tmp, how='left', on='zhdh')"
   ]
  },
  {
   "cell_type": "code",
   "execution_count": 47,
   "id": "84df39ca",
   "metadata": {},
   "outputs": [],
   "source": [
    "# col = 'dfhh'\n",
    "# tmp = account_trade.groupby(['zhdh', 'jyrq', 'jdbj'])[col].nunique().reset_index()\n",
    "# tmp = tmp.pivot(index=['zhdh', 'jyrq'], columns=['jdbj'], values=[col])\n",
    "# tmp.columns = [f'jdbj_0_{col}', f'jdbj_1_{col}']\n",
    "\n",
    "# tmp = tmp.reset_index().fillna(0)\n",
    "# tmp[col] = tmp[f'jdbj_0_{col}'] + tmp[f'jdbj_1_{col}']\n",
    "# tmp[f'jdbj_0_{col}_ratio'] = tmp[f'jdbj_0_{col}'] / tmp[col]\n",
    "# tmp[f'jdbj_1_{col}_ratio'] = tmp[f'jdbj_1_{col}'] / tmp[col]\n",
    "# tmp = tmp.groupby('zhdh')[[f'jdbj_0_{col}_ratio', f'jdbj_1_{col}_ratio']].sum().reset_index()\n",
    "# fea = fea.merge(tmp, how='left', on='zhdh')"
   ]
  },
  {
   "cell_type": "code",
   "execution_count": 48,
   "id": "c092a43c",
   "metadata": {},
   "outputs": [],
   "source": [
    "# col = 'dfzh'\n",
    "# tmp = account_trade.groupby(['zhdh', 'jyrq', 'jdbj'])[col].nunique().reset_index()\n",
    "# tmp = tmp.pivot(index=['zhdh', 'jyrq'], columns=['jdbj'], values=[col])\n",
    "# tmp.columns = [f'jdbj_0_{col}', f'jdbj_1_{col}']\n",
    "\n",
    "# tmp = tmp.reset_index().fillna(0)\n",
    "# tmp[col] = tmp[f'jdbj_0_{col}'] + tmp[f'jdbj_1_{col}']\n",
    "# tmp[f'jdbj_0_{col}_ratio'] = tmp[f'jdbj_0_{col}'] / tmp[col]\n",
    "# tmp[f'jdbj_1_{col}_ratio'] = tmp[f'jdbj_1_{col}'] / tmp[col]\n",
    "# tmp = tmp.groupby('zhdh')[[f'jdbj_0_{col}_ratio', f'jdbj_1_{col}_ratio']].sum().reset_index()\n",
    "# fea = fea.merge(tmp, how='left', on='zhdh')"
   ]
  },
  {
   "cell_type": "code",
   "execution_count": 49,
   "id": "d8e012fa",
   "metadata": {},
   "outputs": [],
   "source": [
    "# with open('w2v_fea_dfhh.pkl', 'rb') as file:\n",
    "#     w2v_fea = pickle.load(file)\n",
    "# fea = fea.merge(w2v_fea, how='left', on='zhdh')\n",
    "\n",
    "# with open('tfidf_fea_dfhh.pkl', 'rb') as file:\n",
    "#     tfidf_fea = pickle.load(file)\n",
    "# fea = fea.merge(tfidf_fea, how='left', on='zhdh')"
   ]
  },
  {
   "cell_type": "code",
   "execution_count": 50,
   "id": "469552dd",
   "metadata": {},
   "outputs": [],
   "source": [
    "with open('w2v_fea_jyqd.pkl', 'rb') as file:\n",
    "    w2v_fea = pickle.load(file)\n",
    "fea = fea.merge(w2v_fea, how='left', on='zhdh')\n",
    "\n",
    "with open('tfidf_fea_jyqd.pkl', 'rb') as file:\n",
    "    tfidf_fea = pickle.load(file)\n",
    "fea = fea.merge(tfidf_fea, how='left', on='zhdh')\n",
    "\n",
    "# with open('cnt_fea_jyqd.pkl', 'rb') as file:\n",
    "#     tfidf_fea = pickle.load(file)\n",
    "# fea = fea.merge(tfidf_fea, how='left', on='zhdh')\n",
    "\n",
    "# with open('w2v_fea_jyqd_0.pkl', 'rb') as file:\n",
    "#     w2v_fea = pickle.load(file)\n",
    "# fea = fea.merge(w2v_fea, how='left', on='zhdh')\n",
    "\n",
    "# with open('w2v_fea_jyqd_1.pkl', 'rb') as file:\n",
    "#     w2v_fea = pickle.load(file)\n",
    "# fea = fea.merge(w2v_fea, how='left', on='zhdh')\n",
    "\n",
    "# with open('tfidf_fea_jyqd_0.pkl', 'rb') as file:\n",
    "#     tfidf_fea = pickle.load(file)\n",
    "# fea = fea.merge(tfidf_fea, how='left', on='zhdh')\n",
    "\n",
    "# with open('tfidf_fea_jyqd_1.pkl', 'rb') as file:\n",
    "#     tfidf_fea = pickle.load(file)\n",
    "# fea = fea.merge(tfidf_fea, how='left', on='zhdh')"
   ]
  },
  {
   "cell_type": "code",
   "execution_count": 51,
   "id": "f55fa49d",
   "metadata": {},
   "outputs": [],
   "source": [
    "with open('w2v_fea_zydh.pkl', 'rb') as file:\n",
    "    w2v_fea = pickle.load(file)\n",
    "fea = fea.merge(w2v_fea, how='left', on='zhdh')\n",
    "\n",
    "with open('tfidf_fea_zydh.pkl', 'rb') as file:\n",
    "    tfidf_fea = pickle.load(file)\n",
    "fea = fea.merge(tfidf_fea, how='left', on='zhdh')\n",
    "\n",
    "# with open('cnt_fea_zydh.pkl', 'rb') as file:\n",
    "#     tfidf_fea = pickle.load(file)\n",
    "# fea = fea.merge(tfidf_fea, how='left', on='zhdh')\n",
    "\n",
    "# with open('w2v_fea_zydh_0.pkl', 'rb') as file:\n",
    "#     w2v_fea = pickle.load(file)\n",
    "# fea = fea.merge(w2v_fea, how='left', on='zhdh')\n",
    "\n",
    "# with open('w2v_fea_zydh_1.pkl', 'rb') as file:\n",
    "#     w2v_fea = pickle.load(file)\n",
    "# fea = fea.merge(w2v_fea, how='left', on='zhdh')\n",
    "\n",
    "# with open('tfidf_fea_zydh_0.pkl', 'rb') as file:\n",
    "#     tfidf_fea = pickle.load(file)\n",
    "# fea = fea.merge(tfidf_fea, how='left', on='zhdh')\n",
    "\n",
    "# with open('tfidf_fea_zydh_1.pkl', 'rb') as file:\n",
    "#     tfidf_fea = pickle.load(file)\n",
    "# fea = fea.merge(tfidf_fea, how='left', on='zhdh')"
   ]
  },
  {
   "cell_type": "code",
   "execution_count": 52,
   "id": "bef13053",
   "metadata": {},
   "outputs": [],
   "source": [
    "# with open('w2v_fea_dfzh.pkl', 'rb') as file:\n",
    "#     w2v_fea = pickle.load(file)\n",
    "# fea = fea.merge(w2v_fea, how='left', on='zhdh')\n",
    "\n",
    "# with open('tfidf_fea_dfzh.pkl', 'rb') as file:\n",
    "#     tfidf_fea = pickle.load(file)\n",
    "# fea = fea.merge(tfidf_fea, how='left', on='zhdh')"
   ]
  },
  {
   "cell_type": "code",
   "execution_count": 53,
   "id": "86f47009",
   "metadata": {},
   "outputs": [],
   "source": [
    "# with open('w2v_fea_jyje_label.pkl', 'rb') as file:\n",
    "#     w2v_fea = pickle.load(file)\n",
    "# fea = fea.merge(w2v_fea, how='left', on='zhdh')\n",
    "\n",
    "# with open('tfidf_fea_jyje_label.pkl', 'rb') as file:\n",
    "#     tfidf_fea = pickle.load(file)\n",
    "# fea = fea.merge(tfidf_fea, how='left', on='zhdh')\n",
    "\n",
    "# with open('cnt_fea_jyje_label.pkl', 'rb') as file:\n",
    "#     tfidf_fea = pickle.load(file)\n",
    "# fea = fea.merge(tfidf_fea, how='left', on='zhdh')"
   ]
  },
  {
   "cell_type": "code",
   "execution_count": 54,
   "id": "c1d35dca",
   "metadata": {},
   "outputs": [],
   "source": [
    "account_static['khrq']  = pd.to_datetime(account_static['khrq'], format='%Y-%m-%d')\n",
    "account_static['year']  = account_static['khrq'].dt.year\n",
    "account_static['month'] = account_static['khrq'].dt.month\n",
    "account_static['day']   = account_static['khrq'].dt.day"
   ]
  },
  {
   "cell_type": "code",
   "execution_count": 55,
   "id": "cfde1cf6",
   "metadata": {},
   "outputs": [],
   "source": [
    "df = account_static.merge(fea, how='left', on='zhdh')"
   ]
  },
  {
   "cell_type": "code",
   "execution_count": 56,
   "id": "bbc65dc0",
   "metadata": {},
   "outputs": [],
   "source": [
    "def label_encode(series):\n",
    "    unique = list(series.unique())\n",
    "    return series.map(dict(zip(\n",
    "        unique, range(series.nunique())\n",
    "    )))\n",
    "\n",
    "for col in ['khrq', 'khjgdh'] + [f'most_{c}' for c in cat_cols] + [f'most_jyje_{c}' for c in cat_cols] +\\\n",
    "    [f'jdbj0_most_{c}' for c in cat_cols] + [f'jdbj1_most_{c}' for c in cat_cols] +\\\n",
    "    [f'jdbj0_most_jyje_{c}' for c in cat_cols] + [f'jdbj1_most_jyje_{c}' for c in cat_cols]:\n",
    "    df[col] = label_encode(df[col])"
   ]
  },
  {
   "cell_type": "code",
   "execution_count": 57,
   "id": "cb7b080b",
   "metadata": {},
   "outputs": [
    {
     "data": {
      "text/plain": [
       "(6000, 485)"
      ]
     },
     "execution_count": 57,
     "metadata": {},
     "output_type": "execute_result"
    }
   ],
   "source": [
    "df.shape"
   ]
  },
  {
   "cell_type": "code",
   "execution_count": 58,
   "id": "dab9ff09",
   "metadata": {},
   "outputs": [],
   "source": [
    "df.to_pickle('fea.pkl')"
   ]
  },
  {
   "cell_type": "code",
   "execution_count": null,
   "id": "38f8f22e",
   "metadata": {},
   "outputs": [],
   "source": []
  },
  {
   "cell_type": "code",
   "execution_count": 59,
   "id": "0856f61c",
   "metadata": {},
   "outputs": [],
   "source": [
    "train = df[df['zhdh'].isin(y_train['zhdh'].values)]\n",
    "test_ids = pd.read_csv('./data/test_dataset.csv')['zhdh'].values\n",
    "test = df[df['zhdh'].isin(test_ids)]"
   ]
  },
  {
   "cell_type": "code",
   "execution_count": 60,
   "id": "30c61aff",
   "metadata": {},
   "outputs": [],
   "source": [
    "target = 'black_flag'\n",
    "features = [c for c in train.columns if c not in [target, 'zhdh',]]"
   ]
  },
  {
   "cell_type": "code",
   "execution_count": 61,
   "id": "ba9529f9",
   "metadata": {},
   "outputs": [],
   "source": [
    "from sklearn.model_selection import KFold, StratifiedKFold\n",
    "from sklearn.utils.class_weight import compute_class_weight\n",
    "from catboost import CatBoostClassifier"
   ]
  },
  {
   "cell_type": "code",
   "execution_count": 62,
   "id": "ddd11770",
   "metadata": {},
   "outputs": [],
   "source": [
    "import xgboost as xgb"
   ]
  },
  {
   "cell_type": "code",
   "execution_count": 63,
   "id": "ed96bb5d",
   "metadata": {},
   "outputs": [],
   "source": [
    "# FOLDS = 5\n",
    "# folds = KFold(n_splits=FOLDS, shuffle=True, random_state=2023)\n",
    "\n",
    "# oof_pred = np.zeros((len(train),))\n",
    "# y_pred = np.zeros((len(test),))\n",
    "\n",
    "# for fold, (tr_ind, val_ind) in enumerate(folds.split(train)):\n",
    "    \n",
    "#     x_train, x_val = train.iloc[tr_ind][features], train.iloc[val_ind][features]\n",
    "#     y_train, y_val = train.iloc[tr_ind][target], train.iloc[val_ind][target]\n",
    "    \n",
    "#     train_matrix = xgb.DMatrix(x_train , label=y_train)\n",
    "#     valid_matrix = xgb.DMatrix(x_val , label=y_val)\n",
    "#     test_matrix = xgb.DMatrix(test[features])\n",
    "            \n",
    "#     params = {'booster': 'gbtree',\n",
    "#               'objective': 'binary:logistic',\n",
    "#               'eval_metric': 'auc',\n",
    "#               'gamma': 1,\n",
    "#               'min_child_weight': 1.5,\n",
    "#               'max_depth': 5,\n",
    "#               'lambda': 10,\n",
    "#               'subsample': 0.7,\n",
    "#               'colsample_bytree': 0.7,\n",
    "#               'colsample_bylevel': 0.7,\n",
    "#               'eta': 0.05,\n",
    "#               'tree_method': 'exact',\n",
    "#               'seed': 2023,\n",
    "#               'nthread': 8\n",
    "#               }\n",
    "\n",
    "#     watchlist = [(train_matrix, 'train'),(valid_matrix, 'eval')]\n",
    "\n",
    "#     model = xgb.train(params, train_matrix, num_boost_round=10000, evals=watchlist,\n",
    "#                       verbose_eval=1000, early_stopping_rounds=500)\n",
    "#     val_pred  = model.predict(valid_matrix, ntree_limit=model.best_ntree_limit)\n",
    "#     test_pred = model.predict(test_matrix , ntree_limit=model.best_ntree_limit)\n",
    "    \n",
    "#     oof_pred[val_ind] = val_pred\n",
    "#     y_pred += test_pred / FOLDS"
   ]
  },
  {
   "cell_type": "code",
   "execution_count": 64,
   "id": "6fc0a1cc",
   "metadata": {},
   "outputs": [],
   "source": [
    "# from sklearn.metrics import f1_score\n",
    "# f1_score(train[target].values, (oof_pred > 0.5) + 0)"
   ]
  },
  {
   "cell_type": "code",
   "execution_count": 65,
   "id": "acfab938",
   "metadata": {},
   "outputs": [],
   "source": [
    "# oof = oof_pred\n",
    "# scores = []; thresholds = []\n",
    "# best_score = 0; best_threshold = 0\n",
    "\n",
    "# for threshold in np.arange(0.4,0.6,0.01):\n",
    "#     preds = (oof.reshape((-1))>threshold).astype('int')\n",
    "#     m = f1_score(train['black_flag'].values.reshape((-1)), preds, average='macro')   \n",
    "#     scores.append(m)\n",
    "#     thresholds.append(threshold)\n",
    "#     if m>best_score:\n",
    "#         best_score = m\n",
    "#         best_threshold = threshold\n",
    "#     print(f'{threshold:.02f}, {m}')\n",
    "# print(f'{best_threshold:.02f}, {best_score}')"
   ]
  },
  {
   "cell_type": "code",
   "execution_count": 66,
   "id": "a22b17b3",
   "metadata": {},
   "outputs": [],
   "source": [
    "# test_result = test[['zhdh', 'black_flag']].copy()\n",
    "# test_result['black_flag'] = y_pred\n",
    "# test_result['black_flag'] = test_result['black_flag'].apply(lambda x: (x > best_threshold)+0)"
   ]
  },
  {
   "cell_type": "code",
   "execution_count": 67,
   "id": "dadcc768",
   "metadata": {},
   "outputs": [],
   "source": [
    "# result = pd.read_csv('./data/test_dataset.csv')\n",
    "# result = result.merge(test_result, how='left', on='zhdh')\n",
    "# result.to_csv('result.csv', index=False)"
   ]
  },
  {
   "cell_type": "code",
   "execution_count": null,
   "id": "5b9c782d",
   "metadata": {},
   "outputs": [],
   "source": []
  },
  {
   "cell_type": "code",
   "execution_count": null,
   "id": "6c9c420c",
   "metadata": {},
   "outputs": [],
   "source": []
  },
  {
   "cell_type": "code",
   "execution_count": 68,
   "id": "29c0c59f",
   "metadata": {},
   "outputs": [
    {
     "name": "stderr",
     "output_type": "stream",
     "text": [
      "/Users/yitinglin/Projects/dcic2023/env/lib/python3.7/site-packages/ipykernel_launcher.py:2: SettingWithCopyWarning: \n",
      "A value is trying to be set on a copy of a slice from a DataFrame.\n",
      "Try using .loc[row_indexer,col_indexer] = value instead\n",
      "\n",
      "See the caveats in the documentation: https://pandas.pydata.org/pandas-docs/stable/user_guide/indexing.html#returning-a-view-versus-a-copy\n",
      "  \n",
      "/Users/yitinglin/Projects/dcic2023/env/lib/python3.7/site-packages/ipykernel_launcher.py:3: SettingWithCopyWarning: \n",
      "A value is trying to be set on a copy of a slice from a DataFrame.\n",
      "Try using .loc[row_indexer,col_indexer] = value instead\n",
      "\n",
      "See the caveats in the documentation: https://pandas.pydata.org/pandas-docs/stable/user_guide/indexing.html#returning-a-view-versus-a-copy\n",
      "  This is separate from the ipykernel package so we can avoid doing imports until\n",
      "/Users/yitinglin/Projects/dcic2023/env/lib/python3.7/site-packages/ipykernel_launcher.py:6: SettingWithCopyWarning: \n",
      "A value is trying to be set on a copy of a slice from a DataFrame.\n",
      "Try using .loc[row_indexer,col_indexer] = value instead\n",
      "\n",
      "See the caveats in the documentation: https://pandas.pydata.org/pandas-docs/stable/user_guide/indexing.html#returning-a-view-versus-a-copy\n",
      "  \n",
      "/Users/yitinglin/Projects/dcic2023/env/lib/python3.7/site-packages/ipykernel_launcher.py:7: SettingWithCopyWarning: \n",
      "A value is trying to be set on a copy of a slice from a DataFrame.\n",
      "Try using .loc[row_indexer,col_indexer] = value instead\n",
      "\n",
      "See the caveats in the documentation: https://pandas.pydata.org/pandas-docs/stable/user_guide/indexing.html#returning-a-view-versus-a-copy\n",
      "  import sys\n",
      "/Users/yitinglin/Projects/dcic2023/env/lib/python3.7/site-packages/ipykernel_launcher.py:10: SettingWithCopyWarning: \n",
      "A value is trying to be set on a copy of a slice from a DataFrame.\n",
      "Try using .loc[row_indexer,col_indexer] = value instead\n",
      "\n",
      "See the caveats in the documentation: https://pandas.pydata.org/pandas-docs/stable/user_guide/indexing.html#returning-a-view-versus-a-copy\n",
      "  # Remove the CWD from sys.path while we load stuff.\n",
      "/Users/yitinglin/Projects/dcic2023/env/lib/python3.7/site-packages/ipykernel_launcher.py:11: SettingWithCopyWarning: \n",
      "A value is trying to be set on a copy of a slice from a DataFrame.\n",
      "Try using .loc[row_indexer,col_indexer] = value instead\n",
      "\n",
      "See the caveats in the documentation: https://pandas.pydata.org/pandas-docs/stable/user_guide/indexing.html#returning-a-view-versus-a-copy\n",
      "  # This is added back by InteractiveShellApp.init_path()\n",
      "/Users/yitinglin/Projects/dcic2023/env/lib/python3.7/site-packages/ipykernel_launcher.py:14: SettingWithCopyWarning: \n",
      "A value is trying to be set on a copy of a slice from a DataFrame.\n",
      "Try using .loc[row_indexer,col_indexer] = value instead\n",
      "\n",
      "See the caveats in the documentation: https://pandas.pydata.org/pandas-docs/stable/user_guide/indexing.html#returning-a-view-versus-a-copy\n",
      "  \n",
      "/Users/yitinglin/Projects/dcic2023/env/lib/python3.7/site-packages/ipykernel_launcher.py:15: SettingWithCopyWarning: \n",
      "A value is trying to be set on a copy of a slice from a DataFrame.\n",
      "Try using .loc[row_indexer,col_indexer] = value instead\n",
      "\n",
      "See the caveats in the documentation: https://pandas.pydata.org/pandas-docs/stable/user_guide/indexing.html#returning-a-view-versus-a-copy\n",
      "  from ipykernel import kernelapp as app\n"
     ]
    }
   ],
   "source": [
    "for c in [f'jdbj0_most_{c}' for c in cat_cols]:\n",
    "    train[c] = train[c].astype(str)\n",
    "    test[c] = test[c].astype(str)\n",
    "\n",
    "for c in [f'jdbj1_most_{c}' for c in cat_cols]:\n",
    "    train[c] = train[c].astype(str)\n",
    "    test[c] = test[c].astype(str)\n",
    "\n",
    "for c in [f'jdbj0_most_jyje_{c}' for c in cat_cols]:\n",
    "    train[c] = train[c].astype(str)\n",
    "    test[c] = test[c].astype(str)\n",
    "    \n",
    "for c in [f'jdbj1_most_jyje_{c}' for c in cat_cols]:\n",
    "    train[c] = train[c].astype(str)\n",
    "    test[c] = test[c].astype(str)"
   ]
  },
  {
   "cell_type": "code",
   "execution_count": 69,
   "id": "baf19e52",
   "metadata": {},
   "outputs": [],
   "source": [
    "seeds = [0, 1, 2, 42, 2023, 3407]"
   ]
  },
  {
   "cell_type": "code",
   "execution_count": 70,
   "id": "4bdeb98c",
   "metadata": {
    "scrolled": false
   },
   "outputs": [
    {
     "name": "stdout",
     "output_type": "stream",
     "text": [
      "0:\tlearn: 0.6838441\ttest: 0.6852537\tbest: 0.6852537 (0)\ttotal: 108ms\tremaining: 18m 1s\n",
      "100:\tlearn: 0.3063309\ttest: 0.3532841\tbest: 0.3532841 (100)\ttotal: 4.34s\tremaining: 7m 5s\n",
      "200:\tlearn: 0.2200979\ttest: 0.2874013\tbest: 0.2874013 (200)\ttotal: 8.6s\tremaining: 6m 59s\n",
      "300:\tlearn: 0.1757723\ttest: 0.2626323\tbest: 0.2626323 (300)\ttotal: 13.2s\tremaining: 7m 6s\n",
      "400:\tlearn: 0.1485484\ttest: 0.2507773\tbest: 0.2507609 (399)\ttotal: 18s\tremaining: 7m 10s\n",
      "500:\tlearn: 0.1264931\ttest: 0.2447973\tbest: 0.2447973 (500)\ttotal: 22.8s\tremaining: 7m 13s\n",
      "600:\tlearn: 0.1087917\ttest: 0.2406391\tbest: 0.2406391 (600)\ttotal: 27.8s\tremaining: 7m 15s\n",
      "700:\tlearn: 0.0946819\ttest: 0.2385716\tbest: 0.2385716 (700)\ttotal: 32.9s\tremaining: 7m 15s\n",
      "800:\tlearn: 0.0814813\ttest: 0.2391890\tbest: 0.2383760 (713)\ttotal: 37.9s\tremaining: 7m 15s\n",
      "Stopped by overfitting detector  (100 iterations wait)\n",
      "\n",
      "bestTest = 0.2383759685\n",
      "bestIteration = 713\n",
      "\n",
      "Shrink model to first 714 iterations.\n",
      "0:\tlearn: 0.6873712\ttest: 0.6865407\tbest: 0.6865407 (0)\ttotal: 46.6ms\tremaining: 7m 46s\n",
      "100:\tlearn: 0.3116740\ttest: 0.3263168\tbest: 0.3263168 (100)\ttotal: 4.95s\tremaining: 8m 4s\n",
      "200:\tlearn: 0.2211365\ttest: 0.2585888\tbest: 0.2585888 (200)\ttotal: 9.8s\tremaining: 7m 57s\n",
      "300:\tlearn: 0.1784945\ttest: 0.2352572\tbest: 0.2352572 (300)\ttotal: 14.6s\tremaining: 7m 51s\n",
      "400:\tlearn: 0.1530381\ttest: 0.2236552\tbest: 0.2235873 (399)\ttotal: 19.4s\tremaining: 7m 44s\n",
      "500:\tlearn: 0.1312509\ttest: 0.2163313\tbest: 0.2163313 (500)\ttotal: 24.3s\tremaining: 7m 40s\n",
      "600:\tlearn: 0.1138138\ttest: 0.2112846\tbest: 0.2110267 (596)\ttotal: 29.1s\tremaining: 7m 35s\n",
      "700:\tlearn: 0.1000854\ttest: 0.2089689\tbest: 0.2088737 (690)\ttotal: 34s\tremaining: 7m 31s\n",
      "800:\tlearn: 0.0877844\ttest: 0.2058603\tbest: 0.2058603 (800)\ttotal: 38.9s\tremaining: 7m 26s\n",
      "900:\tlearn: 0.0776071\ttest: 0.2040744\tbest: 0.2039845 (886)\ttotal: 44.4s\tremaining: 7m 28s\n",
      "1000:\tlearn: 0.0694522\ttest: 0.2015863\tbest: 0.2015863 (1000)\ttotal: 50.9s\tremaining: 7m 37s\n",
      "1100:\tlearn: 0.0620084\ttest: 0.2010433\tbest: 0.2010077 (1096)\ttotal: 55.9s\tremaining: 7m 31s\n",
      "1200:\tlearn: 0.0564442\ttest: 0.1997863\tbest: 0.1995453 (1194)\ttotal: 1m\tremaining: 7m 26s\n",
      "1300:\tlearn: 0.0512334\ttest: 0.1997678\tbest: 0.1992955 (1268)\ttotal: 1m 5s\tremaining: 7m 21s\n",
      "Stopped by overfitting detector  (100 iterations wait)\n",
      "\n",
      "bestTest = 0.1992955345\n",
      "bestIteration = 1268\n",
      "\n",
      "Shrink model to first 1269 iterations.\n",
      "0:\tlearn: 0.6852300\ttest: 0.6848790\tbest: 0.6848790 (0)\ttotal: 40.6ms\tremaining: 6m 45s\n",
      "100:\tlearn: 0.3083136\ttest: 0.3391078\tbest: 0.3391078 (100)\ttotal: 4.85s\tremaining: 7m 55s\n",
      "200:\tlearn: 0.2162449\ttest: 0.2693216\tbest: 0.2693216 (200)\ttotal: 9.68s\tremaining: 7m 51s\n",
      "300:\tlearn: 0.1739968\ttest: 0.2447358\tbest: 0.2447358 (300)\ttotal: 14.5s\tremaining: 7m 48s\n",
      "400:\tlearn: 0.1473364\ttest: 0.2327427\tbest: 0.2327274 (399)\ttotal: 19.5s\tremaining: 7m 47s\n",
      "500:\tlearn: 0.1280155\ttest: 0.2273102\tbest: 0.2271845 (497)\ttotal: 24.4s\tremaining: 7m 42s\n",
      "600:\tlearn: 0.1121101\ttest: 0.2219010\tbest: 0.2218731 (598)\ttotal: 29.4s\tremaining: 7m 40s\n",
      "700:\tlearn: 0.0979950\ttest: 0.2188688\tbest: 0.2188688 (700)\ttotal: 34.4s\tremaining: 7m 36s\n",
      "800:\tlearn: 0.0851338\ttest: 0.2162793\tbest: 0.2160695 (782)\ttotal: 39.3s\tremaining: 7m 31s\n",
      "900:\tlearn: 0.0740789\ttest: 0.2156927\tbest: 0.2155733 (877)\ttotal: 44.2s\tremaining: 7m 26s\n",
      "Stopped by overfitting detector  (100 iterations wait)\n",
      "\n",
      "bestTest = 0.2155733391\n",
      "bestIteration = 877\n",
      "\n",
      "Shrink model to first 878 iterations.\n",
      "0:\tlearn: 0.6859653\ttest: 0.6872614\tbest: 0.6872614 (0)\ttotal: 40.5ms\tremaining: 6m 44s\n",
      "100:\tlearn: 0.2927433\ttest: 0.3785746\tbest: 0.3785746 (100)\ttotal: 4.82s\tremaining: 7m 52s\n",
      "200:\tlearn: 0.2003794\ttest: 0.3291186\tbest: 0.3291186 (200)\ttotal: 9.35s\tremaining: 7m 35s\n",
      "300:\tlearn: 0.1610746\ttest: 0.3172194\tbest: 0.3167946 (298)\ttotal: 14.2s\tremaining: 7m 35s\n",
      "400:\tlearn: 0.1347533\ttest: 0.3131860\tbest: 0.3130931 (378)\ttotal: 18.9s\tremaining: 7m 32s\n",
      "500:\tlearn: 0.1164731\ttest: 0.3124894\tbest: 0.3121358 (446)\ttotal: 23.6s\tremaining: 7m 27s\n",
      "600:\tlearn: 0.1015561\ttest: 0.3116823\tbest: 0.3113653 (543)\ttotal: 28.4s\tremaining: 7m 23s\n",
      "700:\tlearn: 0.0891049\ttest: 0.3125633\tbest: 0.3111720 (635)\ttotal: 33.2s\tremaining: 7m 20s\n",
      "Stopped by overfitting detector  (100 iterations wait)\n",
      "\n",
      "bestTest = 0.3111719503\n",
      "bestIteration = 635\n",
      "\n",
      "Shrink model to first 636 iterations.\n",
      "0:\tlearn: 0.6845276\ttest: 0.6853875\tbest: 0.6853875 (0)\ttotal: 45.1ms\tremaining: 7m 30s\n",
      "100:\tlearn: 0.3082227\ttest: 0.3596073\tbest: 0.3596073 (100)\ttotal: 4.7s\tremaining: 7m 40s\n",
      "200:\tlearn: 0.2174183\ttest: 0.2968734\tbest: 0.2968734 (200)\ttotal: 9.46s\tremaining: 7m 41s\n",
      "300:\tlearn: 0.1734779\ttest: 0.2759342\tbest: 0.2759342 (300)\ttotal: 15.9s\tremaining: 8m 32s\n",
      "400:\tlearn: 0.1456815\ttest: 0.2684583\tbest: 0.2684583 (400)\ttotal: 21s\tremaining: 8m 21s\n",
      "500:\tlearn: 0.1254975\ttest: 0.2647604\tbest: 0.2647035 (499)\ttotal: 25.9s\tremaining: 8m 10s\n",
      "600:\tlearn: 0.1088234\ttest: 0.2634757\tbest: 0.2631711 (552)\ttotal: 30.9s\tremaining: 8m 3s\n",
      "700:\tlearn: 0.0942648\ttest: 0.2627360\tbest: 0.2626375 (645)\ttotal: 36s\tremaining: 7m 57s\n",
      "800:\tlearn: 0.0816757\ttest: 0.2612106\tbest: 0.2610112 (789)\ttotal: 41s\tremaining: 7m 50s\n",
      "900:\tlearn: 0.0715250\ttest: 0.2625201\tbest: 0.2609274 (802)\ttotal: 46s\tremaining: 7m 44s\n",
      "Stopped by overfitting detector  (100 iterations wait)\n",
      "\n",
      "bestTest = 0.26092737\n",
      "bestIteration = 802\n",
      "\n",
      "Shrink model to first 803 iterations.\n",
      "0:\tlearn: 0.6849289\ttest: 0.6856889\tbest: 0.6856889 (0)\ttotal: 40.8ms\tremaining: 6m 48s\n",
      "100:\tlearn: 0.3025583\ttest: 0.3452900\tbest: 0.3452900 (100)\ttotal: 4.75s\tremaining: 7m 45s\n",
      "200:\tlearn: 0.2118053\ttest: 0.2891444\tbest: 0.2891444 (200)\ttotal: 9.58s\tremaining: 7m 47s\n",
      "300:\tlearn: 0.1671089\ttest: 0.2697319\tbest: 0.2697319 (300)\ttotal: 14.4s\tremaining: 7m 43s\n",
      "400:\tlearn: 0.1389692\ttest: 0.2615095\tbest: 0.2615095 (400)\ttotal: 19.2s\tremaining: 7m 40s\n",
      "500:\tlearn: 0.1202771\ttest: 0.2575240\tbest: 0.2575240 (500)\ttotal: 24.1s\tremaining: 7m 36s\n",
      "600:\tlearn: 0.1045448\ttest: 0.2557412\tbest: 0.2557330 (596)\ttotal: 28.8s\tremaining: 7m 29s\n",
      "700:\tlearn: 0.0907123\ttest: 0.2552211\tbest: 0.2550802 (690)\ttotal: 33.7s\tremaining: 7m 26s\n",
      "Stopped by overfitting detector  (100 iterations wait)\n",
      "\n",
      "bestTest = 0.2550801569\n",
      "bestIteration = 690\n",
      "\n",
      "Shrink model to first 691 iterations.\n",
      "0:\tlearn: 0.6860839\ttest: 0.6875942\tbest: 0.6875942 (0)\ttotal: 43.9ms\tremaining: 7m 19s\n",
      "100:\tlearn: 0.3013675\ttest: 0.3610465\tbest: 0.3610465 (100)\ttotal: 4.94s\tremaining: 8m 3s\n",
      "200:\tlearn: 0.2093733\ttest: 0.2996539\tbest: 0.2996539 (200)\ttotal: 9.89s\tremaining: 8m 2s\n",
      "300:\tlearn: 0.1657747\ttest: 0.2781374\tbest: 0.2781374 (300)\ttotal: 14.9s\tremaining: 7m 59s\n",
      "400:\tlearn: 0.1407509\ttest: 0.2739963\tbest: 0.2738452 (398)\ttotal: 20s\tremaining: 7m 59s\n",
      "500:\tlearn: 0.1219492\ttest: 0.2700896\tbest: 0.2699446 (498)\ttotal: 25.1s\tremaining: 7m 56s\n",
      "600:\tlearn: 0.1059693\ttest: 0.2671845\tbest: 0.2668026 (591)\ttotal: 30.2s\tremaining: 7m 52s\n",
      "Stopped by overfitting detector  (100 iterations wait)\n",
      "\n",
      "bestTest = 0.2668026408\n",
      "bestIteration = 591\n",
      "\n",
      "Shrink model to first 592 iterations.\n",
      "0:\tlearn: 0.6852782\ttest: 0.6857446\tbest: 0.6857446 (0)\ttotal: 44.1ms\tremaining: 7m 21s\n",
      "100:\tlearn: 0.2990020\ttest: 0.3469313\tbest: 0.3469313 (100)\ttotal: 5.09s\tremaining: 8m 18s\n",
      "200:\tlearn: 0.2098833\ttest: 0.2861563\tbest: 0.2861563 (200)\ttotal: 10.7s\tremaining: 8m 42s\n",
      "300:\tlearn: 0.1668566\ttest: 0.2657603\tbest: 0.2657603 (300)\ttotal: 17.3s\tremaining: 9m 18s\n",
      "400:\tlearn: 0.1426957\ttest: 0.2559081\tbest: 0.2559081 (400)\ttotal: 22.6s\tremaining: 9m 1s\n",
      "500:\tlearn: 0.1233659\ttest: 0.2526368\tbest: 0.2526368 (500)\ttotal: 27.8s\tremaining: 8m 46s\n",
      "600:\tlearn: 0.1073836\ttest: 0.2495894\tbest: 0.2494349 (599)\ttotal: 33.1s\tremaining: 8m 37s\n",
      "700:\tlearn: 0.0940159\ttest: 0.2462809\tbest: 0.2460943 (699)\ttotal: 38.4s\tremaining: 8m 29s\n",
      "800:\tlearn: 0.0822700\ttest: 0.2439863\tbest: 0.2439863 (800)\ttotal: 43.7s\tremaining: 8m 22s\n",
      "900:\tlearn: 0.0719253\ttest: 0.2448026\tbest: 0.2436711 (845)\ttotal: 49s\tremaining: 8m 15s\n",
      "Stopped by overfitting detector  (100 iterations wait)\n",
      "\n",
      "bestTest = 0.2436710844\n",
      "bestIteration = 845\n",
      "\n",
      "Shrink model to first 846 iterations.\n",
      "0:\tlearn: 0.6844291\ttest: 0.6840660\tbest: 0.6840660 (0)\ttotal: 44.8ms\tremaining: 7m 27s\n",
      "100:\tlearn: 0.3080407\ttest: 0.3328066\tbest: 0.3328066 (100)\ttotal: 5.15s\tremaining: 8m 25s\n",
      "200:\tlearn: 0.2179891\ttest: 0.2646703\tbest: 0.2646703 (200)\ttotal: 10.3s\tremaining: 8m 21s\n"
     ]
    },
    {
     "name": "stdout",
     "output_type": "stream",
     "text": [
      "300:\tlearn: 0.1728520\ttest: 0.2360774\tbest: 0.2360774 (300)\ttotal: 15.5s\tremaining: 8m 19s\n",
      "400:\tlearn: 0.1463469\ttest: 0.2248981\tbest: 0.2248981 (400)\ttotal: 20.7s\tremaining: 8m 15s\n",
      "500:\tlearn: 0.1260283\ttest: 0.2173860\tbest: 0.2173860 (500)\ttotal: 26s\tremaining: 8m 13s\n",
      "600:\tlearn: 0.1101263\ttest: 0.2121600\tbest: 0.2120540 (598)\ttotal: 31.3s\tremaining: 8m 10s\n",
      "700:\tlearn: 0.0955659\ttest: 0.2088528\tbest: 0.2088528 (700)\ttotal: 36.7s\tremaining: 8m 6s\n",
      "800:\tlearn: 0.0823016\ttest: 0.2049668\tbest: 0.2045737 (784)\ttotal: 41.9s\tremaining: 8m 1s\n",
      "900:\tlearn: 0.0717952\ttest: 0.2033069\tbest: 0.2033044 (899)\ttotal: 47.2s\tremaining: 7m 56s\n",
      "1000:\tlearn: 0.0630416\ttest: 0.2024769\tbest: 0.2024769 (1000)\ttotal: 52.5s\tremaining: 7m 51s\n",
      "1100:\tlearn: 0.0560311\ttest: 0.2017147\tbest: 0.2017147 (1100)\ttotal: 57.8s\tremaining: 7m 46s\n",
      "1200:\tlearn: 0.0496907\ttest: 0.2020441\tbest: 0.2011414 (1149)\ttotal: 1m 2s\tremaining: 7m 41s\n",
      "Stopped by overfitting detector  (100 iterations wait)\n",
      "\n",
      "bestTest = 0.2011413967\n",
      "bestIteration = 1149\n",
      "\n",
      "Shrink model to first 1150 iterations.\n",
      "0:\tlearn: 0.6866541\ttest: 0.6866644\tbest: 0.6866644 (0)\ttotal: 44.5ms\tremaining: 7m 24s\n",
      "100:\tlearn: 0.3126263\ttest: 0.3411933\tbest: 0.3411933 (100)\ttotal: 5.17s\tremaining: 8m 26s\n",
      "200:\tlearn: 0.2208473\ttest: 0.2745239\tbest: 0.2745239 (200)\ttotal: 10.3s\tremaining: 8m 24s\n",
      "300:\tlearn: 0.1792364\ttest: 0.2529438\tbest: 0.2529438 (300)\ttotal: 17.1s\tremaining: 9m 11s\n",
      "400:\tlearn: 0.1532906\ttest: 0.2434189\tbest: 0.2434189 (400)\ttotal: 22.9s\tremaining: 9m 7s\n",
      "500:\tlearn: 0.1324251\ttest: 0.2384554\tbest: 0.2384280 (498)\ttotal: 28.3s\tremaining: 8m 56s\n",
      "600:\tlearn: 0.1152447\ttest: 0.2361004\tbest: 0.2361004 (600)\ttotal: 33.6s\tremaining: 8m 45s\n",
      "700:\tlearn: 0.1006989\ttest: 0.2330199\tbest: 0.2327551 (695)\ttotal: 39s\tremaining: 8m 37s\n",
      "800:\tlearn: 0.0875896\ttest: 0.2315561\tbest: 0.2314953 (798)\ttotal: 44.3s\tremaining: 8m 28s\n",
      "900:\tlearn: 0.0759708\ttest: 0.2331389\tbest: 0.2313245 (812)\ttotal: 49.6s\tremaining: 8m 21s\n",
      "Stopped by overfitting detector  (100 iterations wait)\n",
      "\n",
      "bestTest = 0.2313244574\n",
      "bestIteration = 812\n",
      "\n",
      "Shrink model to first 813 iterations.\n",
      "0:\tlearn: 0.6833336\ttest: 0.6843847\tbest: 0.6843847 (0)\ttotal: 44.6ms\tremaining: 7m 26s\n",
      "100:\tlearn: 0.3027320\ttest: 0.3577135\tbest: 0.3577135 (100)\ttotal: 4.99s\tremaining: 8m 9s\n",
      "200:\tlearn: 0.2118468\ttest: 0.2973169\tbest: 0.2973169 (200)\ttotal: 9.9s\tremaining: 8m 2s\n",
      "300:\tlearn: 0.1685277\ttest: 0.2747946\tbest: 0.2747946 (300)\ttotal: 14.9s\tremaining: 8m\n",
      "400:\tlearn: 0.1410656\ttest: 0.2638159\tbest: 0.2636987 (397)\ttotal: 20s\tremaining: 7m 59s\n",
      "500:\tlearn: 0.1214688\ttest: 0.2598215\tbest: 0.2598215 (500)\ttotal: 25.2s\tremaining: 7m 56s\n",
      "600:\tlearn: 0.1050324\ttest: 0.2568091\tbest: 0.2566312 (592)\ttotal: 30.3s\tremaining: 7m 54s\n",
      "700:\tlearn: 0.0917061\ttest: 0.2554734\tbest: 0.2547581 (661)\ttotal: 35.4s\tremaining: 7m 49s\n",
      "800:\tlearn: 0.0800713\ttest: 0.2534245\tbest: 0.2534245 (800)\ttotal: 40.5s\tremaining: 7m 45s\n",
      "900:\tlearn: 0.0698349\ttest: 0.2536981\tbest: 0.2522622 (828)\ttotal: 45.7s\tremaining: 7m 41s\n",
      "Stopped by overfitting detector  (100 iterations wait)\n",
      "\n",
      "bestTest = 0.2522622434\n",
      "bestIteration = 828\n",
      "\n",
      "Shrink model to first 829 iterations.\n",
      "0:\tlearn: 0.6851825\ttest: 0.6864260\tbest: 0.6864260 (0)\ttotal: 46.1ms\tremaining: 7m 40s\n",
      "100:\tlearn: 0.3056197\ttest: 0.3642954\tbest: 0.3642954 (100)\ttotal: 4.98s\tremaining: 8m 8s\n",
      "200:\tlearn: 0.2165349\ttest: 0.3075513\tbest: 0.3075513 (200)\ttotal: 10.1s\tremaining: 8m 11s\n",
      "300:\tlearn: 0.1741509\ttest: 0.2891313\tbest: 0.2891039 (299)\ttotal: 15.4s\tremaining: 8m 16s\n",
      "400:\tlearn: 0.1486238\ttest: 0.2790829\tbest: 0.2790829 (400)\ttotal: 20.6s\tremaining: 8m 13s\n",
      "500:\tlearn: 0.1297389\ttest: 0.2764455\tbest: 0.2761270 (499)\ttotal: 25.8s\tremaining: 8m 9s\n",
      "600:\tlearn: 0.1129431\ttest: 0.2739528\tbest: 0.2739491 (599)\ttotal: 31.1s\tremaining: 8m 6s\n",
      "700:\tlearn: 0.0988651\ttest: 0.2741549\tbest: 0.2733862 (654)\ttotal: 37.7s\tremaining: 8m 20s\n",
      "800:\tlearn: 0.0868109\ttest: 0.2742874\tbest: 0.2733442 (718)\ttotal: 43.7s\tremaining: 8m 22s\n",
      "Stopped by overfitting detector  (100 iterations wait)\n",
      "\n",
      "bestTest = 0.2733442173\n",
      "bestIteration = 718\n",
      "\n",
      "Shrink model to first 719 iterations.\n",
      "0:\tlearn: 0.6860387\ttest: 0.6858336\tbest: 0.6858336 (0)\ttotal: 43.6ms\tremaining: 7m 16s\n",
      "100:\tlearn: 0.3081676\ttest: 0.3245911\tbest: 0.3245911 (100)\ttotal: 5.13s\tremaining: 8m 22s\n",
      "200:\tlearn: 0.2155766\ttest: 0.2536423\tbest: 0.2536423 (200)\ttotal: 10.3s\tremaining: 8m 23s\n",
      "300:\tlearn: 0.1722714\ttest: 0.2300446\tbest: 0.2300446 (300)\ttotal: 15.5s\tremaining: 8m 19s\n",
      "400:\tlearn: 0.1439017\ttest: 0.2201858\tbest: 0.2201858 (400)\ttotal: 20.8s\tremaining: 8m 18s\n",
      "500:\tlearn: 0.1240419\ttest: 0.2119910\tbest: 0.2119910 (500)\ttotal: 26.1s\tremaining: 8m 14s\n",
      "600:\tlearn: 0.1089281\ttest: 0.2075171\tbest: 0.2074647 (599)\ttotal: 31.3s\tremaining: 8m 9s\n",
      "700:\tlearn: 0.0950684\ttest: 0.2026883\tbest: 0.2026883 (700)\ttotal: 36.6s\tremaining: 8m 5s\n",
      "800:\tlearn: 0.0830560\ttest: 0.1994796\tbest: 0.1993429 (797)\ttotal: 41.8s\tremaining: 7m 59s\n",
      "900:\tlearn: 0.0710865\ttest: 0.1966778\tbest: 0.1966080 (899)\ttotal: 46.9s\tremaining: 7m 53s\n",
      "1000:\tlearn: 0.0617362\ttest: 0.1951277\tbest: 0.1951277 (1000)\ttotal: 52.2s\tremaining: 7m 49s\n",
      "1100:\tlearn: 0.0545524\ttest: 0.1936154\tbest: 0.1931311 (1076)\ttotal: 57.6s\tremaining: 7m 45s\n",
      "1200:\tlearn: 0.0483160\ttest: 0.1929207\tbest: 0.1927236 (1193)\ttotal: 1m 2s\tremaining: 7m 40s\n",
      "1300:\tlearn: 0.0434329\ttest: 0.1922584\tbest: 0.1920312 (1266)\ttotal: 1m 8s\tremaining: 7m 35s\n",
      "Stopped by overfitting detector  (100 iterations wait)\n",
      "\n",
      "bestTest = 0.1920312031\n",
      "bestIteration = 1266\n",
      "\n",
      "Shrink model to first 1267 iterations.\n",
      "0:\tlearn: 0.6836804\ttest: 0.6834987\tbest: 0.6834987 (0)\ttotal: 43.4ms\tremaining: 7m 13s\n",
      "100:\tlearn: 0.2974421\ttest: 0.3490954\tbest: 0.3490954 (100)\ttotal: 5.13s\tremaining: 8m 22s\n",
      "200:\tlearn: 0.2059891\ttest: 0.2931537\tbest: 0.2931537 (200)\ttotal: 10.4s\tremaining: 8m 27s\n",
      "300:\tlearn: 0.1628181\ttest: 0.2803277\tbest: 0.2803277 (300)\ttotal: 15.7s\tremaining: 8m 24s\n",
      "400:\tlearn: 0.1376925\ttest: 0.2752483\tbest: 0.2750501 (394)\ttotal: 21s\tremaining: 8m 23s\n",
      "500:\tlearn: 0.1189764\ttest: 0.2728261\tbest: 0.2726775 (482)\ttotal: 26.2s\tremaining: 8m 16s\n",
      "Stopped by overfitting detector  (100 iterations wait)\n",
      "\n",
      "bestTest = 0.2726774578\n",
      "bestIteration = 482\n",
      "\n",
      "Shrink model to first 483 iterations.\n",
      "0:\tlearn: 0.6830678\ttest: 0.6835850\tbest: 0.6835850 (0)\ttotal: 43.7ms\tremaining: 7m 16s\n",
      "100:\tlearn: 0.3100304\ttest: 0.3406108\tbest: 0.3406108 (100)\ttotal: 5.14s\tremaining: 8m 24s\n",
      "200:\tlearn: 0.2175936\ttest: 0.2703335\tbest: 0.2703335 (200)\ttotal: 11.8s\tremaining: 9m 34s\n",
      "300:\tlearn: 0.1743190\ttest: 0.2454708\tbest: 0.2454349 (299)\ttotal: 17s\tremaining: 9m 7s\n",
      "400:\tlearn: 0.1476609\ttest: 0.2337921\tbest: 0.2337718 (399)\ttotal: 22.3s\tremaining: 8m 53s\n",
      "500:\tlearn: 0.1272594\ttest: 0.2278258\tbest: 0.2277477 (499)\ttotal: 27.6s\tremaining: 8m 43s\n",
      "600:\tlearn: 0.1110444\ttest: 0.2221276\tbest: 0.2220947 (598)\ttotal: 32.9s\tremaining: 8m 34s\n",
      "700:\tlearn: 0.0970455\ttest: 0.2185561\tbest: 0.2185561 (700)\ttotal: 38.2s\tremaining: 8m 27s\n",
      "800:\tlearn: 0.0843244\ttest: 0.2151430\tbest: 0.2151430 (800)\ttotal: 43.5s\tremaining: 8m 20s\n",
      "900:\tlearn: 0.0737455\ttest: 0.2146287\tbest: 0.2145213 (895)\ttotal: 48.8s\tremaining: 8m 12s\n",
      "1000:\tlearn: 0.0649412\ttest: 0.2157455\tbest: 0.2143075 (923)\ttotal: 54.2s\tremaining: 8m 7s\n",
      "Stopped by overfitting detector  (100 iterations wait)\n",
      "\n",
      "bestTest = 0.214307512\n",
      "bestIteration = 923\n",
      "\n",
      "Shrink model to first 924 iterations.\n",
      "0:\tlearn: 0.6836524\ttest: 0.6843330\tbest: 0.6843330 (0)\ttotal: 47.6ms\tremaining: 7m 56s\n",
      "100:\tlearn: 0.3087670\ttest: 0.3551569\tbest: 0.3551569 (100)\ttotal: 4.96s\tremaining: 8m 6s\n",
      "200:\tlearn: 0.2153170\ttest: 0.2871590\tbest: 0.2871590 (200)\ttotal: 10s\tremaining: 8m 7s\n",
      "300:\tlearn: 0.1697718\ttest: 0.2617272\tbest: 0.2617272 (300)\ttotal: 15.2s\tremaining: 8m 9s\n",
      "400:\tlearn: 0.1424854\ttest: 0.2500052\tbest: 0.2500052 (400)\ttotal: 20.3s\tremaining: 8m 4s\n",
      "500:\tlearn: 0.1239049\ttest: 0.2446389\tbest: 0.2446138 (499)\ttotal: 25.3s\tremaining: 7m 59s\n",
      "600:\tlearn: 0.1085714\ttest: 0.2393392\tbest: 0.2391190 (596)\ttotal: 30.4s\tremaining: 7m 55s\n",
      "700:\tlearn: 0.0948914\ttest: 0.2356990\tbest: 0.2356599 (699)\ttotal: 35.6s\tremaining: 7m 51s\n",
      "800:\tlearn: 0.0820480\ttest: 0.2345277\tbest: 0.2345110 (799)\ttotal: 40.7s\tremaining: 7m 47s\n",
      "900:\tlearn: 0.0710485\ttest: 0.2346843\tbest: 0.2333411 (840)\ttotal: 45.9s\tremaining: 7m 43s\n"
     ]
    },
    {
     "name": "stdout",
     "output_type": "stream",
     "text": [
      "Stopped by overfitting detector  (100 iterations wait)\n",
      "\n",
      "bestTest = 0.2333411267\n",
      "bestIteration = 840\n",
      "\n",
      "Shrink model to first 841 iterations.\n",
      "0:\tlearn: 0.6854983\ttest: 0.6864337\tbest: 0.6864337 (0)\ttotal: 45.1ms\tremaining: 7m 31s\n",
      "100:\tlearn: 0.3031005\ttest: 0.3559391\tbest: 0.3559391 (100)\ttotal: 5.17s\tremaining: 8m 27s\n",
      "200:\tlearn: 0.2106583\ttest: 0.2929019\tbest: 0.2929019 (200)\ttotal: 10.3s\tremaining: 8m 24s\n",
      "300:\tlearn: 0.1702450\ttest: 0.2727547\tbest: 0.2727547 (300)\ttotal: 15.6s\tremaining: 8m 24s\n",
      "400:\tlearn: 0.1421902\ttest: 0.2628850\tbest: 0.2628850 (400)\ttotal: 21.4s\tremaining: 8m 33s\n",
      "500:\tlearn: 0.1233428\ttest: 0.2581278\tbest: 0.2580935 (499)\ttotal: 28.2s\tremaining: 8m 55s\n",
      "600:\tlearn: 0.1086485\ttest: 0.2534061\tbest: 0.2534061 (600)\ttotal: 33.6s\tremaining: 8m 44s\n",
      "700:\tlearn: 0.0944984\ttest: 0.2528024\tbest: 0.2525449 (691)\ttotal: 38.9s\tremaining: 8m 36s\n",
      "800:\tlearn: 0.0834323\ttest: 0.2526488\tbest: 0.2525361 (706)\ttotal: 44.3s\tremaining: 8m 29s\n",
      "Stopped by overfitting detector  (100 iterations wait)\n",
      "\n",
      "bestTest = 0.2525361037\n",
      "bestIteration = 706\n",
      "\n",
      "Shrink model to first 707 iterations.\n",
      "0:\tlearn: 0.6830655\ttest: 0.6833362\tbest: 0.6833362 (0)\ttotal: 45.7ms\tremaining: 7m 36s\n",
      "100:\tlearn: 0.3134920\ttest: 0.3247562\tbest: 0.3247562 (100)\ttotal: 5.11s\tremaining: 8m 21s\n",
      "200:\tlearn: 0.2265648\ttest: 0.2512967\tbest: 0.2512967 (200)\ttotal: 10.2s\tremaining: 8m 19s\n",
      "300:\tlearn: 0.1806808\ttest: 0.2223509\tbest: 0.2223509 (300)\ttotal: 15.6s\tremaining: 8m 21s\n",
      "400:\tlearn: 0.1533123\ttest: 0.2078366\tbest: 0.2077888 (399)\ttotal: 20.8s\tremaining: 8m 17s\n",
      "500:\tlearn: 0.1321414\ttest: 0.1977417\tbest: 0.1977417 (500)\ttotal: 26.1s\tremaining: 8m 15s\n",
      "600:\tlearn: 0.1148286\ttest: 0.1903077\tbest: 0.1903077 (600)\ttotal: 31.4s\tremaining: 8m 11s\n",
      "700:\tlearn: 0.1009873\ttest: 0.1873735\tbest: 0.1873305 (697)\ttotal: 36.8s\tremaining: 8m 7s\n",
      "800:\tlearn: 0.0874727\ttest: 0.1817663\tbest: 0.1816471 (798)\ttotal: 42s\tremaining: 8m 2s\n",
      "900:\tlearn: 0.0769052\ttest: 0.1783247\tbest: 0.1783247 (900)\ttotal: 47.3s\tremaining: 7m 58s\n",
      "1000:\tlearn: 0.0681507\ttest: 0.1760237\tbest: 0.1760237 (1000)\ttotal: 52.6s\tremaining: 7m 52s\n",
      "1100:\tlearn: 0.0606685\ttest: 0.1746344\tbest: 0.1744795 (1061)\ttotal: 57.8s\tremaining: 7m 47s\n",
      "1200:\tlearn: 0.0541000\ttest: 0.1732012\tbest: 0.1727686 (1179)\ttotal: 1m 3s\tremaining: 7m 42s\n",
      "1300:\tlearn: 0.0479023\ttest: 0.1712167\tbest: 0.1711000 (1294)\ttotal: 1m 8s\tremaining: 7m 36s\n",
      "1400:\tlearn: 0.0432426\ttest: 0.1706904\tbest: 0.1703535 (1393)\ttotal: 1m 13s\tremaining: 7m 30s\n",
      "Stopped by overfitting detector  (100 iterations wait)\n",
      "\n",
      "bestTest = 0.1703535138\n",
      "bestIteration = 1393\n",
      "\n",
      "Shrink model to first 1394 iterations.\n",
      "0:\tlearn: 0.6832052\ttest: 0.6826408\tbest: 0.6826408 (0)\ttotal: 41.8ms\tremaining: 6m 58s\n",
      "100:\tlearn: 0.3126930\ttest: 0.3315379\tbest: 0.3315379 (100)\ttotal: 5.01s\tremaining: 8m 10s\n",
      "200:\tlearn: 0.2205840\ttest: 0.2656762\tbest: 0.2656762 (200)\ttotal: 10.1s\tremaining: 8m 11s\n",
      "300:\tlearn: 0.1778784\ttest: 0.2439797\tbest: 0.2439797 (300)\ttotal: 15.4s\tremaining: 8m 15s\n",
      "400:\tlearn: 0.1480964\ttest: 0.2378867\tbest: 0.2376177 (394)\ttotal: 22.6s\tremaining: 9m\n",
      "500:\tlearn: 0.1268874\ttest: 0.2351028\tbest: 0.2351028 (500)\ttotal: 27.8s\tremaining: 8m 47s\n",
      "600:\tlearn: 0.1097125\ttest: 0.2336379\tbest: 0.2331876 (560)\ttotal: 32.8s\tremaining: 8m 32s\n",
      "700:\tlearn: 0.0946318\ttest: 0.2334962\tbest: 0.2328188 (630)\ttotal: 38.1s\tremaining: 8m 25s\n",
      "Stopped by overfitting detector  (100 iterations wait)\n",
      "\n",
      "bestTest = 0.2328187698\n",
      "bestIteration = 630\n",
      "\n",
      "Shrink model to first 631 iterations.\n",
      "0:\tlearn: 0.6827369\ttest: 0.6835916\tbest: 0.6835916 (0)\ttotal: 47.8ms\tremaining: 7m 57s\n",
      "100:\tlearn: 0.2931274\ttest: 0.3607302\tbest: 0.3607302 (100)\ttotal: 4.94s\tremaining: 8m 4s\n",
      "200:\tlearn: 0.2059666\ttest: 0.3146223\tbest: 0.3145985 (199)\ttotal: 10s\tremaining: 8m 8s\n",
      "300:\tlearn: 0.1623046\ttest: 0.3012083\tbest: 0.3012083 (300)\ttotal: 15.1s\tremaining: 8m 5s\n",
      "400:\tlearn: 0.1363752\ttest: 0.2987770\tbest: 0.2985246 (395)\ttotal: 20.4s\tremaining: 8m 7s\n",
      "500:\tlearn: 0.1174957\ttest: 0.2979977\tbest: 0.2978726 (485)\ttotal: 25.4s\tremaining: 8m 1s\n",
      "600:\tlearn: 0.1029007\ttest: 0.2985254\tbest: 0.2978134 (582)\ttotal: 30.5s\tremaining: 7m 57s\n",
      "Stopped by overfitting detector  (100 iterations wait)\n",
      "\n",
      "bestTest = 0.2978134392\n",
      "bestIteration = 582\n",
      "\n",
      "Shrink model to first 583 iterations.\n",
      "0:\tlearn: 0.6866325\ttest: 0.6863603\tbest: 0.6863603 (0)\ttotal: 49.7ms\tremaining: 8m 16s\n",
      "100:\tlearn: 0.3105168\ttest: 0.3333676\tbest: 0.3333676 (100)\ttotal: 4.88s\tremaining: 7m 58s\n",
      "200:\tlearn: 0.2201361\ttest: 0.2646839\tbest: 0.2646839 (200)\ttotal: 10s\tremaining: 8m 7s\n",
      "300:\tlearn: 0.1777385\ttest: 0.2423214\tbest: 0.2423214 (300)\ttotal: 15.3s\tremaining: 8m 11s\n",
      "400:\tlearn: 0.1516067\ttest: 0.2328581\tbest: 0.2328581 (400)\ttotal: 20.4s\tremaining: 8m 9s\n",
      "500:\tlearn: 0.1313164\ttest: 0.2246066\tbest: 0.2246066 (500)\ttotal: 25.7s\tremaining: 8m 7s\n",
      "600:\tlearn: 0.1153259\ttest: 0.2206135\tbest: 0.2206135 (600)\ttotal: 30.8s\tremaining: 8m 2s\n",
      "700:\tlearn: 0.1020270\ttest: 0.2167678\tbest: 0.2167622 (698)\ttotal: 36s\tremaining: 7m 58s\n",
      "800:\tlearn: 0.0898084\ttest: 0.2139885\tbest: 0.2139885 (800)\ttotal: 41.3s\tremaining: 7m 54s\n",
      "900:\tlearn: 0.0780229\ttest: 0.2136579\tbest: 0.2132944 (844)\ttotal: 46.6s\tremaining: 7m 50s\n",
      "1000:\tlearn: 0.0685362\ttest: 0.2119616\tbest: 0.2118747 (999)\ttotal: 51.8s\tremaining: 7m 46s\n",
      "1100:\tlearn: 0.0614225\ttest: 0.2103412\tbest: 0.2102948 (1097)\ttotal: 57.1s\tremaining: 7m 41s\n",
      "1200:\tlearn: 0.0553452\ttest: 0.2118318\tbest: 0.2102084 (1107)\ttotal: 1m 3s\tremaining: 7m 42s\n",
      "Stopped by overfitting detector  (100 iterations wait)\n",
      "\n",
      "bestTest = 0.2102084279\n",
      "bestIteration = 1107\n",
      "\n",
      "Shrink model to first 1108 iterations.\n",
      "0:\tlearn: 0.6830585\ttest: 0.6844503\tbest: 0.6844503 (0)\ttotal: 63.7ms\tremaining: 10m 37s\n",
      "100:\tlearn: 0.3085386\ttest: 0.3471805\tbest: 0.3471805 (100)\ttotal: 6.22s\tremaining: 10m 9s\n",
      "200:\tlearn: 0.2186474\ttest: 0.2779607\tbest: 0.2779607 (200)\ttotal: 11.5s\tremaining: 9m 21s\n",
      "300:\tlearn: 0.1772011\ttest: 0.2519032\tbest: 0.2519032 (300)\ttotal: 16.9s\tremaining: 9m 3s\n",
      "400:\tlearn: 0.1511319\ttest: 0.2388619\tbest: 0.2388619 (400)\ttotal: 22s\tremaining: 8m 46s\n",
      "500:\tlearn: 0.1305536\ttest: 0.2307738\tbest: 0.2307738 (500)\ttotal: 27.5s\tremaining: 8m 40s\n",
      "600:\tlearn: 0.1130017\ttest: 0.2258884\tbest: 0.2258540 (597)\ttotal: 32.7s\tremaining: 8m 31s\n",
      "700:\tlearn: 0.0983774\ttest: 0.2209701\tbest: 0.2208427 (699)\ttotal: 38.3s\tremaining: 8m 28s\n",
      "800:\tlearn: 0.0863417\ttest: 0.2166061\tbest: 0.2165775 (798)\ttotal: 43.6s\tremaining: 8m 20s\n",
      "900:\tlearn: 0.0743284\ttest: 0.2134992\tbest: 0.2133838 (895)\ttotal: 48.9s\tremaining: 8m 13s\n",
      "1000:\tlearn: 0.0641517\ttest: 0.2127557\tbest: 0.2127438 (999)\ttotal: 54.1s\tremaining: 8m 6s\n",
      "1100:\tlearn: 0.0566461\ttest: 0.2136594\tbest: 0.2126732 (1019)\ttotal: 59.3s\tremaining: 7m 59s\n",
      "Stopped by overfitting detector  (100 iterations wait)\n",
      "\n",
      "bestTest = 0.2126731589\n",
      "bestIteration = 1019\n",
      "\n",
      "Shrink model to first 1020 iterations.\n",
      "0:\tlearn: 0.6842649\ttest: 0.6861161\tbest: 0.6861161 (0)\ttotal: 13.8ms\tremaining: 2m 18s\n",
      "100:\tlearn: 0.2856974\ttest: 0.4029030\tbest: 0.4029030 (100)\ttotal: 4.83s\tremaining: 7m 53s\n",
      "200:\tlearn: 0.1947957\ttest: 0.3681119\tbest: 0.3680600 (199)\ttotal: 9.86s\tremaining: 8m\n",
      "300:\tlearn: 0.1518943\ttest: 0.3636394\tbest: 0.3616564 (278)\ttotal: 15s\tremaining: 8m 4s\n",
      "Stopped by overfitting detector  (100 iterations wait)\n",
      "\n",
      "bestTest = 0.3616564239\n",
      "bestIteration = 278\n",
      "\n",
      "Shrink model to first 279 iterations.\n",
      "0:\tlearn: 0.6864377\ttest: 0.6867692\tbest: 0.6867692 (0)\ttotal: 50.8ms\tremaining: 8m 27s\n",
      "100:\tlearn: 0.3096244\ttest: 0.3182356\tbest: 0.3182356 (100)\ttotal: 4.85s\tremaining: 7m 55s\n",
      "200:\tlearn: 0.2193486\ttest: 0.2547602\tbest: 0.2547602 (200)\ttotal: 9.74s\tremaining: 7m 55s\n",
      "300:\tlearn: 0.1756227\ttest: 0.2313567\tbest: 0.2313567 (300)\ttotal: 14.8s\tremaining: 7m 58s\n",
      "400:\tlearn: 0.1477888\ttest: 0.2200590\tbest: 0.2200590 (400)\ttotal: 20s\tremaining: 7m 57s\n",
      "500:\tlearn: 0.1272058\ttest: 0.2122935\tbest: 0.2122935 (500)\ttotal: 25.2s\tremaining: 7m 57s\n",
      "600:\tlearn: 0.1105781\ttest: 0.2069256\tbest: 0.2069256 (600)\ttotal: 30.5s\tremaining: 7m 56s\n",
      "700:\tlearn: 0.0959000\ttest: 0.2030814\tbest: 0.2029884 (698)\ttotal: 35.6s\tremaining: 7m 52s\n",
      "800:\tlearn: 0.0846080\ttest: 0.2003611\tbest: 0.2002289 (781)\ttotal: 42.2s\tremaining: 8m 4s\n",
      "900:\tlearn: 0.0741230\ttest: 0.1994414\tbest: 0.1991427 (874)\ttotal: 48.1s\tremaining: 8m 5s\n",
      "1000:\tlearn: 0.0641205\ttest: 0.1987765\tbest: 0.1987186 (998)\ttotal: 53.1s\tremaining: 7m 57s\n"
     ]
    },
    {
     "name": "stdout",
     "output_type": "stream",
     "text": [
      "1100:\tlearn: 0.0567086\ttest: 0.1983834\tbest: 0.1978686 (1066)\ttotal: 58.3s\tremaining: 7m 51s\n",
      "1200:\tlearn: 0.0509073\ttest: 0.1983758\tbest: 0.1978285 (1161)\ttotal: 1m 3s\tremaining: 7m 44s\n",
      "Stopped by overfitting detector  (100 iterations wait)\n",
      "\n",
      "bestTest = 0.1978284545\n",
      "bestIteration = 1161\n",
      "\n",
      "Shrink model to first 1162 iterations.\n",
      "0:\tlearn: 0.6861170\ttest: 0.6866279\tbest: 0.6866279 (0)\ttotal: 19.9ms\tremaining: 3m 18s\n",
      "100:\tlearn: 0.3118336\ttest: 0.3364370\tbest: 0.3364370 (100)\ttotal: 4.8s\tremaining: 7m 50s\n",
      "200:\tlearn: 0.2192502\ttest: 0.2635280\tbest: 0.2635280 (200)\ttotal: 9.85s\tremaining: 8m\n",
      "300:\tlearn: 0.1784349\ttest: 0.2368027\tbest: 0.2368027 (300)\ttotal: 14.8s\tremaining: 7m 57s\n",
      "400:\tlearn: 0.1516786\ttest: 0.2250722\tbest: 0.2250722 (400)\ttotal: 19.9s\tremaining: 7m 56s\n",
      "500:\tlearn: 0.1313946\ttest: 0.2177819\tbest: 0.2176264 (497)\ttotal: 24.8s\tremaining: 7m 50s\n",
      "600:\tlearn: 0.1145784\ttest: 0.2126670\tbest: 0.2126591 (596)\ttotal: 29.8s\tremaining: 7m 45s\n",
      "700:\tlearn: 0.1011851\ttest: 0.2085759\tbest: 0.2083974 (697)\ttotal: 34.9s\tremaining: 7m 42s\n",
      "800:\tlearn: 0.0888532\ttest: 0.2051572\tbest: 0.2050674 (797)\ttotal: 39.8s\tremaining: 7m 37s\n",
      "900:\tlearn: 0.0785726\ttest: 0.2039880\tbest: 0.2035454 (889)\ttotal: 44.8s\tremaining: 7m 32s\n",
      "1000:\tlearn: 0.0692441\ttest: 0.2011076\tbest: 0.2011076 (1000)\ttotal: 49.7s\tremaining: 7m 27s\n",
      "1100:\tlearn: 0.0610549\ttest: 0.1995883\tbest: 0.1995883 (1100)\ttotal: 54.7s\tremaining: 7m 22s\n",
      "1200:\tlearn: 0.0550991\ttest: 0.1986076\tbest: 0.1984425 (1198)\ttotal: 59.7s\tremaining: 7m 17s\n",
      "1300:\tlearn: 0.0495166\ttest: 0.1974745\tbest: 0.1974527 (1273)\ttotal: 1m 4s\tremaining: 7m 11s\n",
      "1400:\tlearn: 0.0445010\ttest: 0.1977950\tbest: 0.1970644 (1325)\ttotal: 1m 9s\tremaining: 7m 6s\n",
      "Stopped by overfitting detector  (100 iterations wait)\n",
      "\n",
      "bestTest = 0.1970643676\n",
      "bestIteration = 1325\n",
      "\n",
      "Shrink model to first 1326 iterations.\n",
      "0:\tlearn: 0.6848636\ttest: 0.6846454\tbest: 0.6846454 (0)\ttotal: 47.7ms\tremaining: 7m 57s\n",
      "100:\tlearn: 0.3266035\ttest: 0.3349955\tbest: 0.3349955 (100)\ttotal: 4.85s\tremaining: 7m 55s\n",
      "200:\tlearn: 0.2328473\ttest: 0.2549500\tbest: 0.2549500 (200)\ttotal: 9.93s\tremaining: 8m 4s\n",
      "300:\tlearn: 0.1865105\ttest: 0.2211842\tbest: 0.2211842 (300)\ttotal: 15s\tremaining: 8m 3s\n",
      "400:\tlearn: 0.1576423\ttest: 0.2053919\tbest: 0.2053919 (400)\ttotal: 20.1s\tremaining: 8m\n",
      "500:\tlearn: 0.1344313\ttest: 0.1941106\tbest: 0.1938955 (498)\ttotal: 25.3s\tremaining: 7m 59s\n",
      "600:\tlearn: 0.1169537\ttest: 0.1878305\tbest: 0.1877749 (599)\ttotal: 30.4s\tremaining: 7m 55s\n",
      "700:\tlearn: 0.1016773\ttest: 0.1823008\tbest: 0.1823008 (700)\ttotal: 35.6s\tremaining: 7m 51s\n",
      "800:\tlearn: 0.0889793\ttest: 0.1776416\tbest: 0.1776416 (800)\ttotal: 40.7s\tremaining: 7m 47s\n",
      "900:\tlearn: 0.0771621\ttest: 0.1727589\tbest: 0.1727274 (898)\ttotal: 45.9s\tremaining: 7m 43s\n",
      "1000:\tlearn: 0.0672928\ttest: 0.1696956\tbest: 0.1696294 (998)\ttotal: 51s\tremaining: 7m 38s\n",
      "1100:\tlearn: 0.0598481\ttest: 0.1665371\tbest: 0.1664464 (1094)\ttotal: 56.1s\tremaining: 7m 33s\n",
      "1200:\tlearn: 0.0533046\ttest: 0.1658168\tbest: 0.1650817 (1164)\ttotal: 1m 1s\tremaining: 7m 28s\n",
      "1300:\tlearn: 0.0477772\ttest: 0.1638546\tbest: 0.1638546 (1300)\ttotal: 1m 6s\tremaining: 7m 24s\n",
      "1400:\tlearn: 0.0431538\ttest: 0.1623061\tbest: 0.1621815 (1397)\ttotal: 1m 13s\tremaining: 7m 28s\n",
      "Stopped by overfitting detector  (100 iterations wait)\n",
      "\n",
      "bestTest = 0.1621815175\n",
      "bestIteration = 1397\n",
      "\n",
      "Shrink model to first 1398 iterations.\n",
      "0:\tlearn: 0.6821736\ttest: 0.6839316\tbest: 0.6839316 (0)\ttotal: 56.9ms\tremaining: 9m 29s\n",
      "100:\tlearn: 0.2905731\ttest: 0.3745193\tbest: 0.3745193 (100)\ttotal: 4.77s\tremaining: 7m 47s\n",
      "200:\tlearn: 0.1976288\ttest: 0.3330778\tbest: 0.3330778 (200)\ttotal: 9.91s\tremaining: 8m 3s\n",
      "300:\tlearn: 0.1551412\ttest: 0.3229988\tbest: 0.3229988 (300)\ttotal: 15s\tremaining: 8m 2s\n",
      "400:\tlearn: 0.1282945\ttest: 0.3224912\tbest: 0.3222507 (389)\ttotal: 20.2s\tremaining: 8m 3s\n",
      "500:\tlearn: 0.1099879\ttest: 0.3250611\tbest: 0.3219866 (412)\ttotal: 25.5s\tremaining: 8m 3s\n",
      "Stopped by overfitting detector  (100 iterations wait)\n",
      "\n",
      "bestTest = 0.32198661\n",
      "bestIteration = 412\n",
      "\n",
      "Shrink model to first 413 iterations.\n",
      "0:\tlearn: 0.6849295\ttest: 0.6847556\tbest: 0.6847556 (0)\ttotal: 59.3ms\tremaining: 9m 52s\n",
      "100:\tlearn: 0.3134070\ttest: 0.3393525\tbest: 0.3393525 (100)\ttotal: 4.84s\tremaining: 7m 54s\n",
      "200:\tlearn: 0.2193629\ttest: 0.2720153\tbest: 0.2720153 (200)\ttotal: 9.78s\tremaining: 7m 56s\n",
      "300:\tlearn: 0.1780400\ttest: 0.2495070\tbest: 0.2495070 (300)\ttotal: 14.6s\tremaining: 7m 51s\n",
      "400:\tlearn: 0.1493614\ttest: 0.2367576\tbest: 0.2367576 (400)\ttotal: 19.6s\tremaining: 7m 48s\n",
      "500:\tlearn: 0.1280985\ttest: 0.2285941\tbest: 0.2285941 (500)\ttotal: 24.6s\tremaining: 7m 45s\n",
      "600:\tlearn: 0.1103007\ttest: 0.2241463\tbest: 0.2241463 (600)\ttotal: 29.5s\tremaining: 7m 42s\n",
      "700:\tlearn: 0.0953866\ttest: 0.2212886\tbest: 0.2212886 (700)\ttotal: 34.5s\tremaining: 7m 37s\n",
      "800:\tlearn: 0.0822427\ttest: 0.2183941\tbest: 0.2183634 (798)\ttotal: 39.5s\tremaining: 7m 33s\n",
      "900:\tlearn: 0.0712456\ttest: 0.2180441\tbest: 0.2174092 (850)\ttotal: 44.4s\tremaining: 7m 28s\n",
      "Stopped by overfitting detector  (100 iterations wait)\n",
      "\n",
      "bestTest = 0.2174091709\n",
      "bestIteration = 850\n",
      "\n",
      "Shrink model to first 851 iterations.\n",
      "0:\tlearn: 0.6842605\ttest: 0.6852797\tbest: 0.6852797 (0)\ttotal: 51.1ms\tremaining: 8m 31s\n",
      "100:\tlearn: 0.3094006\ttest: 0.3533328\tbest: 0.3533328 (100)\ttotal: 5.09s\tremaining: 8m 18s\n",
      "200:\tlearn: 0.2168195\ttest: 0.2828149\tbest: 0.2828149 (200)\ttotal: 10.2s\tremaining: 8m 19s\n",
      "300:\tlearn: 0.1734695\ttest: 0.2582328\tbest: 0.2582328 (300)\ttotal: 15.4s\tremaining: 8m 15s\n",
      "400:\tlearn: 0.1457874\ttest: 0.2471776\tbest: 0.2471734 (399)\ttotal: 20.5s\tremaining: 8m 11s\n",
      "500:\tlearn: 0.1265840\ttest: 0.2399473\tbest: 0.2398939 (499)\ttotal: 25.6s\tremaining: 8m 6s\n",
      "600:\tlearn: 0.1105178\ttest: 0.2353138\tbest: 0.2350659 (595)\ttotal: 30.8s\tremaining: 8m 1s\n",
      "700:\tlearn: 0.0966246\ttest: 0.2322401\tbest: 0.2322230 (699)\ttotal: 37.7s\tremaining: 8m 19s\n",
      "800:\tlearn: 0.0839864\ttest: 0.2297136\tbest: 0.2296872 (798)\ttotal: 43.9s\tremaining: 8m 24s\n",
      "900:\tlearn: 0.0733879\ttest: 0.2290842\tbest: 0.2290842 (900)\ttotal: 49s\tremaining: 8m 15s\n",
      "1000:\tlearn: 0.0644609\ttest: 0.2280502\tbest: 0.2276114 (981)\ttotal: 54.1s\tremaining: 8m 6s\n",
      "1100:\tlearn: 0.0568695\ttest: 0.2280798\tbest: 0.2272335 (1055)\ttotal: 59.2s\tremaining: 7m 58s\n",
      "1200:\tlearn: 0.0506607\ttest: 0.2282362\tbest: 0.2269976 (1155)\ttotal: 1m 4s\tremaining: 7m 52s\n",
      "Stopped by overfitting detector  (100 iterations wait)\n",
      "\n",
      "bestTest = 0.2269976101\n",
      "bestIteration = 1155\n",
      "\n",
      "Shrink model to first 1156 iterations.\n",
      "0:\tlearn: 0.6849071\ttest: 0.6854959\tbest: 0.6854959 (0)\ttotal: 126ms\tremaining: 21m\n",
      "100:\tlearn: 0.3023362\ttest: 0.3421582\tbest: 0.3421582 (100)\ttotal: 5.08s\tremaining: 8m 18s\n",
      "200:\tlearn: 0.2145106\ttest: 0.2859911\tbest: 0.2859911 (200)\ttotal: 10.2s\tremaining: 8m 19s\n",
      "300:\tlearn: 0.1713254\ttest: 0.2655597\tbest: 0.2655597 (300)\ttotal: 16s\tremaining: 8m 34s\n",
      "400:\tlearn: 0.1454546\ttest: 0.2568165\tbest: 0.2567682 (399)\ttotal: 21.4s\tremaining: 8m 31s\n",
      "500:\tlearn: 0.1266618\ttest: 0.2520781\tbest: 0.2520781 (500)\ttotal: 26.5s\tremaining: 8m 22s\n",
      "600:\tlearn: 0.1104171\ttest: 0.2486774\tbest: 0.2483948 (595)\ttotal: 31.7s\tremaining: 8m 15s\n",
      "700:\tlearn: 0.0965719\ttest: 0.2478896\tbest: 0.2476953 (694)\ttotal: 36.8s\tremaining: 8m 8s\n",
      "800:\tlearn: 0.0846571\ttest: 0.2459806\tbest: 0.2459806 (800)\ttotal: 42.3s\tremaining: 8m 6s\n",
      "900:\tlearn: 0.0737555\ttest: 0.2484451\tbest: 0.2459806 (800)\ttotal: 53.7s\tremaining: 9m 2s\n",
      "Stopped by overfitting detector  (100 iterations wait)\n",
      "\n",
      "bestTest = 0.245980574\n",
      "bestIteration = 800\n",
      "\n",
      "Shrink model to first 801 iterations.\n"
     ]
    }
   ],
   "source": [
    "oof_pred = np.zeros((len(train),))\n",
    "y_pred = np.zeros((len(test),))\n",
    "# y_preds = []\n",
    "\n",
    "for seed in seeds:\n",
    "    FOLDS = 5\n",
    "    folds = StratifiedKFold(n_splits=FOLDS, shuffle=True, random_state=seed)\n",
    "\n",
    "    for fold, (tr_ind, val_ind) in enumerate(folds.split(train, train[target])):\n",
    "        x_train, x_val = train.iloc[tr_ind][features], train.iloc[val_ind][features]\n",
    "        y_train, y_val = train.iloc[tr_ind][target], train.iloc[val_ind][target]\n",
    "\n",
    "        classes = np.unique(y_train)\n",
    "        weights = compute_class_weight(class_weight='balanced', classes=classes, y=y_train)\n",
    "        class_weights = dict(zip(classes, weights))\n",
    "\n",
    "        params = {\n",
    "            'task_type': 'CPU',\n",
    "            'bootstrap_type': 'Bayesian',\n",
    "            'boosting_type': 'Plain',\n",
    "            'learning_rate': 0.01,\n",
    "            'eval_metric': 'Logloss',\n",
    "            'loss_function': 'Logloss',\n",
    "            'iterations': 10000,\n",
    "            'random_state': seed,\n",
    "            'depth': 6,\n",
    "            'leaf_estimation_iterations': 8,\n",
    "            'reg_lambda': 5,\n",
    "            'early_stopping_rounds': 100,\n",
    "            'class_weights': class_weights,\n",
    "            'cat_features': ['khjgdh', 'xb', '年龄'] + [f'most_{c}' for c in cat_cols] + \\\n",
    "                            [f'most_jyje_{c}' for c in cat_cols] +\\\n",
    "                            [f'jdbj0_most_{c}' for c in cat_cols] +\\\n",
    "                            [f'jdbj1_most_{c}' for c in cat_cols] +\\\n",
    "                            [f'jdbj0_most_jyje_{c}' for c in cat_cols] +\\\n",
    "                            [f'jdbj1_most_jyje_{c}' for c in cat_cols],\n",
    "        }\n",
    "        model = CatBoostClassifier(**params)\n",
    "        model.fit(x_train,\n",
    "                   y_train,\n",
    "                   eval_set=(x_val, y_val),\n",
    "                   verbose=100)\n",
    "        oof_pred[val_ind] += model.predict_proba(x_val)[:, 1]\n",
    "        y_pred += model.predict_proba(test[features])[:, 1] / FOLDS\n",
    "#         y_preds.append(model.predict_proba(test[features])[:, 1])\n",
    "        \n",
    "\n",
    "oof_pred /= len(seeds)\n",
    "y_pred /= len(seeds)"
   ]
  },
  {
   "cell_type": "code",
   "execution_count": 71,
   "id": "f28d708e",
   "metadata": {},
   "outputs": [
    {
     "data": {
      "text/plain": [
       "0.8648648648648648"
      ]
     },
     "execution_count": 71,
     "metadata": {},
     "output_type": "execute_result"
    }
   ],
   "source": [
    "from sklearn.metrics import f1_score\n",
    "f1_score(train[target].values, (oof_pred > 0.5) + 0)"
   ]
  },
  {
   "cell_type": "code",
   "execution_count": 72,
   "id": "02172c38",
   "metadata": {},
   "outputs": [
    {
     "name": "stdout",
     "output_type": "stream",
     "text": [
      "0.40, 0.9062905211772525\n",
      "0.41, 0.9070847851335656\n",
      "0.42, 0.906885965432784\n",
      "0.43, 0.9078826161337017\n",
      "0.44, 0.9086840882023692\n",
      "0.45, 0.9106905768451539\n",
      "0.46, 0.9104951771449619\n",
      "0.47, 0.9092906975029129\n",
      "0.48, 0.9086856298649957\n",
      "0.49, 0.9096982416240937\n",
      "0.50, 0.9103085386271227\n",
      "0.51, 0.9142054028018709\n",
      "0.52, 0.9138058135710478\n",
      "0.53, 0.9100875508247193\n",
      "0.54, 0.9111209021608255\n",
      "0.55, 0.9098748800946124\n",
      "0.56, 0.9096605122096486\n",
      "0.57, 0.9104833896956435\n",
      "0.58, 0.9123562334706932\n",
      "0.59, 0.9123562334706932\n",
      "0.51, 0.9142054028018709\n"
     ]
    }
   ],
   "source": [
    "oof = oof_pred\n",
    "scores = []; thresholds = []\n",
    "best_score = 0; best_threshold = 0\n",
    "\n",
    "for threshold in np.arange(0.4,0.6,0.01):\n",
    "    preds = (oof.reshape((-1))>threshold).astype('int')\n",
    "    m = f1_score(train['black_flag'].values.reshape((-1)), preds, average='macro')   \n",
    "    scores.append(m)\n",
    "    thresholds.append(threshold)\n",
    "    if m>best_score:\n",
    "        best_score = m\n",
    "        best_threshold = threshold\n",
    "    print(f'{threshold:.02f}, {m}')\n",
    "print(f'{best_threshold:.02f}, {best_score}')"
   ]
  },
  {
   "cell_type": "code",
   "execution_count": 73,
   "id": "a5890a87",
   "metadata": {},
   "outputs": [],
   "source": [
    "test_result = test[['zhdh', 'black_flag']].copy()\n",
    "test_result['black_flag'] = y_pred\n",
    "test_result['black_flag'] = test_result['black_flag'].apply(lambda x: (x > 0.5)+0)"
   ]
  },
  {
   "cell_type": "code",
   "execution_count": 74,
   "id": "619140fd",
   "metadata": {},
   "outputs": [],
   "source": [
    "result = pd.read_csv('./data/test_dataset.csv')\n",
    "result = result.merge(test_result, how='left', on='zhdh')\n",
    "result.to_csv('result.csv', index=False)"
   ]
  },
  {
   "cell_type": "code",
   "execution_count": null,
   "id": "8d87cfe8",
   "metadata": {},
   "outputs": [],
   "source": []
  },
  {
   "cell_type": "code",
   "execution_count": 75,
   "id": "0fa472ad",
   "metadata": {},
   "outputs": [],
   "source": [
    "pd.DataFrame(model.feature_importances_, features).sort_values(by=0, ascending=False).to_csv('fi.csv')"
   ]
  },
  {
   "cell_type": "code",
   "execution_count": null,
   "id": "d22e3922",
   "metadata": {},
   "outputs": [],
   "source": []
  },
  {
   "cell_type": "code",
   "execution_count": null,
   "id": "5f364e43",
   "metadata": {},
   "outputs": [],
   "source": []
  },
  {
   "cell_type": "code",
   "execution_count": null,
   "id": "dd191a5d",
   "metadata": {},
   "outputs": [],
   "source": []
  },
  {
   "cell_type": "code",
   "execution_count": 95,
   "id": "90f7116c",
   "metadata": {},
   "outputs": [],
   "source": [
    "tmp = pd.DataFrame(y_preds).T"
   ]
  },
  {
   "cell_type": "code",
   "execution_count": 96,
   "id": "cfda9e4a",
   "metadata": {},
   "outputs": [],
   "source": [
    "results = []\n",
    "for i in range(7):\n",
    "    res = (tmp.iloc[:, 5*i:5*(i+1)].mean(axis=1) > 0.5) + 0\n",
    "    results.append(res)"
   ]
  },
  {
   "cell_type": "code",
   "execution_count": 97,
   "id": "3d1ac40c",
   "metadata": {},
   "outputs": [],
   "source": [
    "res = pd.concat(results, axis=1).sum(axis=1)\n",
    "res = (res >= 4) + 0"
   ]
  },
  {
   "cell_type": "code",
   "execution_count": 98,
   "id": "f90dbe21",
   "metadata": {},
   "outputs": [],
   "source": [
    "test_result['black_flag'] = res.values"
   ]
  },
  {
   "cell_type": "code",
   "execution_count": 99,
   "id": "28abc450",
   "metadata": {},
   "outputs": [],
   "source": [
    "result = pd.read_csv('./data/test_dataset.csv')\n",
    "result = result.merge(test_result, how='left', on='zhdh')\n",
    "result.to_csv('result.csv', index=False)"
   ]
  },
  {
   "cell_type": "code",
   "execution_count": null,
   "id": "a14e2fdb",
   "metadata": {},
   "outputs": [],
   "source": []
  },
  {
   "cell_type": "code",
   "execution_count": null,
   "id": "b5ea730b",
   "metadata": {},
   "outputs": [],
   "source": []
  },
  {
   "cell_type": "code",
   "execution_count": null,
   "id": "30c127a7",
   "metadata": {},
   "outputs": [],
   "source": []
  },
  {
   "cell_type": "code",
   "execution_count": null,
   "id": "a4bebcd0",
   "metadata": {},
   "outputs": [],
   "source": []
  },
  {
   "cell_type": "code",
   "execution_count": null,
   "id": "a09ef369",
   "metadata": {},
   "outputs": [],
   "source": []
  },
  {
   "cell_type": "code",
   "execution_count": 67,
   "id": "4c646ee1",
   "metadata": {},
   "outputs": [
    {
     "name": "stderr",
     "output_type": "stream",
     "text": [
      "/Users/yitinglin/Projects/dcic2023/env/lib/python3.7/site-packages/ipykernel_launcher.py:2: SettingWithCopyWarning: \n",
      "A value is trying to be set on a copy of a slice from a DataFrame.\n",
      "Try using .loc[row_indexer,col_indexer] = value instead\n",
      "\n",
      "See the caveats in the documentation: https://pandas.pydata.org/pandas-docs/stable/user_guide/indexing.html#returning-a-view-versus-a-copy\n",
      "  \n",
      "/Users/yitinglin/Projects/dcic2023/env/lib/python3.7/site-packages/ipykernel_launcher.py:3: SettingWithCopyWarning: \n",
      "A value is trying to be set on a copy of a slice from a DataFrame.\n",
      "Try using .loc[row_indexer,col_indexer] = value instead\n",
      "\n",
      "See the caveats in the documentation: https://pandas.pydata.org/pandas-docs/stable/user_guide/indexing.html#returning-a-view-versus-a-copy\n",
      "  This is separate from the ipykernel package so we can avoid doing imports until\n",
      "/Users/yitinglin/Projects/dcic2023/env/lib/python3.7/site-packages/ipykernel_launcher.py:6: SettingWithCopyWarning: \n",
      "A value is trying to be set on a copy of a slice from a DataFrame.\n",
      "Try using .loc[row_indexer,col_indexer] = value instead\n",
      "\n",
      "See the caveats in the documentation: https://pandas.pydata.org/pandas-docs/stable/user_guide/indexing.html#returning-a-view-versus-a-copy\n",
      "  \n",
      "/Users/yitinglin/Projects/dcic2023/env/lib/python3.7/site-packages/ipykernel_launcher.py:7: SettingWithCopyWarning: \n",
      "A value is trying to be set on a copy of a slice from a DataFrame.\n",
      "Try using .loc[row_indexer,col_indexer] = value instead\n",
      "\n",
      "See the caveats in the documentation: https://pandas.pydata.org/pandas-docs/stable/user_guide/indexing.html#returning-a-view-versus-a-copy\n",
      "  import sys\n",
      "/Users/yitinglin/Projects/dcic2023/env/lib/python3.7/site-packages/ipykernel_launcher.py:10: SettingWithCopyWarning: \n",
      "A value is trying to be set on a copy of a slice from a DataFrame.\n",
      "Try using .loc[row_indexer,col_indexer] = value instead\n",
      "\n",
      "See the caveats in the documentation: https://pandas.pydata.org/pandas-docs/stable/user_guide/indexing.html#returning-a-view-versus-a-copy\n",
      "  # Remove the CWD from sys.path while we load stuff.\n",
      "/Users/yitinglin/Projects/dcic2023/env/lib/python3.7/site-packages/ipykernel_launcher.py:11: SettingWithCopyWarning: \n",
      "A value is trying to be set on a copy of a slice from a DataFrame.\n",
      "Try using .loc[row_indexer,col_indexer] = value instead\n",
      "\n",
      "See the caveats in the documentation: https://pandas.pydata.org/pandas-docs/stable/user_guide/indexing.html#returning-a-view-versus-a-copy\n",
      "  # This is added back by InteractiveShellApp.init_path()\n",
      "/Users/yitinglin/Projects/dcic2023/env/lib/python3.7/site-packages/ipykernel_launcher.py:14: SettingWithCopyWarning: \n",
      "A value is trying to be set on a copy of a slice from a DataFrame.\n",
      "Try using .loc[row_indexer,col_indexer] = value instead\n",
      "\n",
      "See the caveats in the documentation: https://pandas.pydata.org/pandas-docs/stable/user_guide/indexing.html#returning-a-view-versus-a-copy\n",
      "  \n",
      "/Users/yitinglin/Projects/dcic2023/env/lib/python3.7/site-packages/ipykernel_launcher.py:15: SettingWithCopyWarning: \n",
      "A value is trying to be set on a copy of a slice from a DataFrame.\n",
      "Try using .loc[row_indexer,col_indexer] = value instead\n",
      "\n",
      "See the caveats in the documentation: https://pandas.pydata.org/pandas-docs/stable/user_guide/indexing.html#returning-a-view-versus-a-copy\n",
      "  from ipykernel import kernelapp as app\n"
     ]
    }
   ],
   "source": [
    "for c in [f'jdbj0_most_{c}' for c in cat_cols]:\n",
    "    train[c] = train[c].astype(float)\n",
    "    test[c] = test[c].astype(float)\n",
    "\n",
    "for c in [f'jdbj1_most_{c}' for c in cat_cols]:\n",
    "    train[c] = train[c].astype(float)\n",
    "    test[c] = test[c].astype(float)\n",
    "\n",
    "for c in [f'jdbj0_most_jyje_{c}' for c in cat_cols]:\n",
    "    train[c] = train[c].astype(float)\n",
    "    test[c] = test[c].astype(float)\n",
    "    \n",
    "for c in [f'jdbj1_most_jyje_{c}' for c in cat_cols]:\n",
    "    train[c] = train[c].astype(float)\n",
    "    test[c] = test[c].astype(float)"
   ]
  },
  {
   "cell_type": "code",
   "execution_count": 68,
   "id": "7b870139",
   "metadata": {},
   "outputs": [],
   "source": [
    "import lightgbm as lgb\n",
    "from lightgbm import early_stopping\n",
    "from lightgbm import log_evaluation"
   ]
  },
  {
   "cell_type": "code",
   "execution_count": 96,
   "id": "dbbc2426",
   "metadata": {},
   "outputs": [
    {
     "name": "stderr",
     "output_type": "stream",
     "text": [
      "/Users/yitinglin/Projects/dcic2023/env/lib/python3.7/site-packages/lightgbm/basic.py:1487: UserWarning: silent keyword has been found in `params` and will be ignored.\n",
      "Please use silent argument of the Dataset constructor to pass this parameter.\n",
      "  _log_warning(f'{key} keyword has been found in `params` and will be ignored.\\n'\n"
     ]
    },
    {
     "name": "stdout",
     "output_type": "stream",
     "text": [
      "[LightGBM] [Warning] num_threads is set with n_jobs=8, nthread=32 will be ignored. Current value: num_threads=8\n",
      "[LightGBM] [Warning] Unknown parameter: silent\n",
      "[LightGBM] [Warning] feature_fraction is set=0.8, colsample_bytree=0.9 will be ignored. Current value: feature_fraction=0.8\n",
      "Training until validation scores don't improve for 100 rounds\n",
      "[100]\tvalid_0's binary_logloss: 0.310287\n",
      "[200]\tvalid_0's binary_logloss: 0.240729\n",
      "[300]\tvalid_0's binary_logloss: 0.209395\n",
      "[400]\tvalid_0's binary_logloss: 0.194702\n",
      "[500]\tvalid_0's binary_logloss: 0.185489\n",
      "[600]\tvalid_0's binary_logloss: 0.180145\n",
      "[700]\tvalid_0's binary_logloss: 0.176678\n",
      "[800]\tvalid_0's binary_logloss: 0.174215\n",
      "[900]\tvalid_0's binary_logloss: 0.173425\n",
      "[1000]\tvalid_0's binary_logloss: 0.172082\n",
      "[1100]\tvalid_0's binary_logloss: 0.171615\n",
      "[1200]\tvalid_0's binary_logloss: 0.170689\n",
      "[1300]\tvalid_0's binary_logloss: 0.170623\n",
      "[1400]\tvalid_0's binary_logloss: 0.170838\n",
      "Early stopping, best iteration is:\n",
      "[1308]\tvalid_0's binary_logloss: 0.170501\n",
      "[LightGBM] [Warning] num_threads is set with n_jobs=8, nthread=32 will be ignored. Current value: num_threads=8\n",
      "[LightGBM] [Warning] Unknown parameter: silent\n",
      "[LightGBM] [Warning] feature_fraction is set=0.8, colsample_bytree=0.9 will be ignored. Current value: feature_fraction=0.8\n",
      "Training until validation scores don't improve for 100 rounds\n",
      "[100]\tvalid_0's binary_logloss: 0.328244\n",
      "[200]\tvalid_0's binary_logloss: 0.253559\n",
      "[300]\tvalid_0's binary_logloss: 0.217878\n",
      "[400]\tvalid_0's binary_logloss: 0.199002\n",
      "[500]\tvalid_0's binary_logloss: 0.188422\n",
      "[600]\tvalid_0's binary_logloss: 0.180873\n",
      "[700]\tvalid_0's binary_logloss: 0.176633\n",
      "[800]\tvalid_0's binary_logloss: 0.173228\n",
      "[900]\tvalid_0's binary_logloss: 0.170112\n",
      "[1000]\tvalid_0's binary_logloss: 0.168745\n",
      "[1100]\tvalid_0's binary_logloss: 0.167231\n",
      "[1200]\tvalid_0's binary_logloss: 0.16628\n",
      "[1300]\tvalid_0's binary_logloss: 0.165846\n",
      "[1400]\tvalid_0's binary_logloss: 0.164905\n",
      "[1500]\tvalid_0's binary_logloss: 0.164495\n",
      "[1600]\tvalid_0's binary_logloss: 0.163941\n",
      "[1700]\tvalid_0's binary_logloss: 0.16373\n",
      "[1800]\tvalid_0's binary_logloss: 0.16389\n",
      "Early stopping, best iteration is:\n",
      "[1766]\tvalid_0's binary_logloss: 0.163587\n",
      "[LightGBM] [Warning] num_threads is set with n_jobs=8, nthread=32 will be ignored. Current value: num_threads=8\n",
      "[LightGBM] [Warning] Unknown parameter: silent\n",
      "[LightGBM] [Warning] feature_fraction is set=0.8, colsample_bytree=0.9 will be ignored. Current value: feature_fraction=0.8\n",
      "Training until validation scores don't improve for 100 rounds\n",
      "[100]\tvalid_0's binary_logloss: 0.359731\n",
      "[200]\tvalid_0's binary_logloss: 0.301811\n",
      "[300]\tvalid_0's binary_logloss: 0.279529\n",
      "[400]\tvalid_0's binary_logloss: 0.270025\n",
      "[500]\tvalid_0's binary_logloss: 0.267561\n",
      "[600]\tvalid_0's binary_logloss: 0.266441\n",
      "[700]\tvalid_0's binary_logloss: 0.266382\n",
      "Early stopping, best iteration is:\n",
      "[635]\tvalid_0's binary_logloss: 0.265588\n",
      "[LightGBM] [Warning] num_threads is set with n_jobs=8, nthread=32 will be ignored. Current value: num_threads=8\n",
      "[LightGBM] [Warning] Unknown parameter: silent\n",
      "[LightGBM] [Warning] feature_fraction is set=0.8, colsample_bytree=0.9 will be ignored. Current value: feature_fraction=0.8\n",
      "Training until validation scores don't improve for 100 rounds\n",
      "[100]\tvalid_0's binary_logloss: 0.30609\n",
      "[200]\tvalid_0's binary_logloss: 0.231926\n",
      "[300]\tvalid_0's binary_logloss: 0.202412\n",
      "[400]\tvalid_0's binary_logloss: 0.188012\n",
      "[500]\tvalid_0's binary_logloss: 0.180413\n",
      "[600]\tvalid_0's binary_logloss: 0.177566\n",
      "[700]\tvalid_0's binary_logloss: 0.176167\n",
      "[800]\tvalid_0's binary_logloss: 0.174614\n",
      "[900]\tvalid_0's binary_logloss: 0.174582\n",
      "Early stopping, best iteration is:\n",
      "[847]\tvalid_0's binary_logloss: 0.173994\n",
      "[LightGBM] [Warning] num_threads is set with n_jobs=8, nthread=32 will be ignored. Current value: num_threads=8\n",
      "[LightGBM] [Warning] Unknown parameter: silent\n",
      "[LightGBM] [Warning] feature_fraction is set=0.8, colsample_bytree=0.9 will be ignored. Current value: feature_fraction=0.8\n",
      "Training until validation scores don't improve for 100 rounds\n",
      "[100]\tvalid_0's binary_logloss: 0.315583\n",
      "[200]\tvalid_0's binary_logloss: 0.237312\n",
      "[300]\tvalid_0's binary_logloss: 0.20211\n",
      "[400]\tvalid_0's binary_logloss: 0.183784\n",
      "[500]\tvalid_0's binary_logloss: 0.171301\n",
      "[600]\tvalid_0's binary_logloss: 0.164513\n",
      "[700]\tvalid_0's binary_logloss: 0.160038\n",
      "[800]\tvalid_0's binary_logloss: 0.15585\n",
      "[900]\tvalid_0's binary_logloss: 0.153787\n",
      "[1000]\tvalid_0's binary_logloss: 0.152424\n",
      "[1100]\tvalid_0's binary_logloss: 0.151468\n",
      "[1200]\tvalid_0's binary_logloss: 0.151083\n",
      "[1300]\tvalid_0's binary_logloss: 0.150282\n",
      "[1400]\tvalid_0's binary_logloss: 0.149535\n",
      "[1500]\tvalid_0's binary_logloss: 0.149264\n",
      "[1600]\tvalid_0's binary_logloss: 0.148636\n",
      "[1700]\tvalid_0's binary_logloss: 0.148569\n",
      "[1800]\tvalid_0's binary_logloss: 0.147822\n",
      "[1900]\tvalid_0's binary_logloss: 0.147731\n",
      "[2000]\tvalid_0's binary_logloss: 0.14777\n",
      "Early stopping, best iteration is:\n",
      "[1912]\tvalid_0's binary_logloss: 0.147614\n"
     ]
    }
   ],
   "source": [
    "FOLDS = 5\n",
    "folds = StratifiedKFold(n_splits=FOLDS, shuffle=True, random_state=2023)\n",
    "\n",
    "oof_pred = np.zeros((len(train),))\n",
    "y_pred = np.zeros((len(test),))\n",
    "\n",
    "for fold, (tr_ind, val_ind) in enumerate(folds.split(train, train[target])):\n",
    "    x_train, x_val = train.iloc[tr_ind][features], train.iloc[val_ind][features]\n",
    "    y_train, y_val = train.iloc[tr_ind][target], train.iloc[val_ind][target]\n",
    "    \n",
    "    dtrain = lgb.Dataset(x_train, label=y_train)\n",
    "    dval = lgb.Dataset(x_val, label=y_val)\n",
    "\n",
    "    parameters = {\n",
    "        'boosting_type': 'gbdt',\n",
    "        'objective': 'binary',\n",
    "        'metric': 'binary',\n",
    "        'min_child_weight': 5,\n",
    "        'max_depth': 6,\n",
    "        'num_leaves': 64,\n",
    "        'feature_fraction': 0.8,\n",
    "        'bagging_fraction': 0.8,\n",
    "        'bagging_freq': 2,\n",
    "        'colsample_bytree': 0.9,\n",
    "        'reg_alpha': 3,\n",
    "        'reg_lambda': 3,\n",
    "        'learning_rate': 0.01,\n",
    "        'seed': 2023,\n",
    "        'nthread': 32,\n",
    "        'n_jobs':8,\n",
    "        'silent': True,\n",
    "        'verbose': -1,\n",
    "    }\n",
    "\n",
    "    model = lgb.train(\n",
    "        parameters,\n",
    "        dtrain,\n",
    "        num_boost_round=8000,\n",
    "        valid_sets=[dval],\n",
    "        callbacks=[early_stopping(100), log_evaluation(100)],\n",
    "\n",
    "    )\n",
    "    oof_pred[val_ind] = model.predict(x_val)\n",
    "    y_pred += model.predict(test[features]) / FOLDS"
   ]
  },
  {
   "cell_type": "code",
   "execution_count": 103,
   "id": "fb9da474",
   "metadata": {},
   "outputs": [
    {
     "data": {
      "text/plain": [
       "0.8641975308641975"
      ]
     },
     "execution_count": 103,
     "metadata": {},
     "output_type": "execute_result"
    }
   ],
   "source": [
    "from sklearn.metrics import f1_score\n",
    "f1_score(train[target].values, (oof_pred > 0.48) + 0)"
   ]
  },
  {
   "cell_type": "code",
   "execution_count": 104,
   "id": "e64a0c4f",
   "metadata": {},
   "outputs": [],
   "source": [
    "test_result = test[['zhdh', 'black_flag']].copy()\n",
    "test_result['black_flag'] = y_pred\n",
    "test_result['black_flag'] = test_result['black_flag'].apply(lambda x: (x > 0.48)+0)"
   ]
  },
  {
   "cell_type": "code",
   "execution_count": 105,
   "id": "d3e71886",
   "metadata": {},
   "outputs": [],
   "source": [
    "result = pd.read_csv('./data/test_dataset.csv')\n",
    "result = result.merge(test_result, how='left', on='zhdh')\n",
    "result.to_csv('result.csv', index=False)"
   ]
  },
  {
   "cell_type": "code",
   "execution_count": null,
   "id": "773f5f97",
   "metadata": {},
   "outputs": [],
   "source": []
  },
  {
   "cell_type": "code",
   "execution_count": null,
   "id": "48c3c65a",
   "metadata": {},
   "outputs": [],
   "source": []
  },
  {
   "cell_type": "code",
   "execution_count": null,
   "id": "22039644",
   "metadata": {},
   "outputs": [],
   "source": []
  },
  {
   "cell_type": "code",
   "execution_count": null,
   "id": "55ce14ae",
   "metadata": {},
   "outputs": [],
   "source": []
  },
  {
   "cell_type": "code",
   "execution_count": null,
   "id": "3348904c",
   "metadata": {},
   "outputs": [],
   "source": []
  },
  {
   "cell_type": "code",
   "execution_count": null,
   "id": "ce2863c1",
   "metadata": {},
   "outputs": [],
   "source": []
  },
  {
   "cell_type": "code",
   "execution_count": null,
   "id": "82356f58",
   "metadata": {},
   "outputs": [],
   "source": []
  },
  {
   "cell_type": "code",
   "execution_count": null,
   "id": "b0f85a12",
   "metadata": {},
   "outputs": [],
   "source": []
  },
  {
   "cell_type": "code",
   "execution_count": null,
   "id": "970d0a96",
   "metadata": {},
   "outputs": [],
   "source": []
  },
  {
   "cell_type": "code",
   "execution_count": null,
   "id": "8e78aac6",
   "metadata": {},
   "outputs": [],
   "source": []
  },
  {
   "cell_type": "code",
   "execution_count": null,
   "id": "1b0f7cfa",
   "metadata": {},
   "outputs": [],
   "source": []
  },
  {
   "cell_type": "code",
   "execution_count": null,
   "id": "a86ab757",
   "metadata": {},
   "outputs": [],
   "source": []
  },
  {
   "cell_type": "code",
   "execution_count": null,
   "id": "9a658cd6",
   "metadata": {},
   "outputs": [],
   "source": []
  },
  {
   "cell_type": "code",
   "execution_count": null,
   "id": "7c1f9290",
   "metadata": {},
   "outputs": [],
   "source": []
  },
  {
   "cell_type": "code",
   "execution_count": 82,
   "id": "91e6adff",
   "metadata": {},
   "outputs": [
    {
     "name": "stderr",
     "output_type": "stream",
     "text": [
      "/Users/yitinglin/Projects/dcic2023/env/lib/python3.7/site-packages/ipykernel_launcher.py:1: SettingWithCopyWarning: \n",
      "A value is trying to be set on a copy of a slice from a DataFrame.\n",
      "Try using .loc[row_indexer,col_indexer] = value instead\n",
      "\n",
      "See the caveats in the documentation: https://pandas.pydata.org/pandas-docs/stable/user_guide/indexing.html#returning-a-view-versus-a-copy\n",
      "  \"\"\"Entry point for launching an IPython kernel.\n"
     ]
    }
   ],
   "source": [
    "test['black_flag'] = y_pred"
   ]
  },
  {
   "cell_type": "code",
   "execution_count": 83,
   "id": "3d921c97",
   "metadata": {},
   "outputs": [],
   "source": [
    "new_train = pd.concat([train, test[(test['black_flag'] > 0.98) | (test['black_flag'] < 0.02)].copy()])\n",
    "new_test = test[~((test['black_flag'] > 0.98) | (test['black_flag'] < 0.02))].copy()"
   ]
  },
  {
   "cell_type": "code",
   "execution_count": 84,
   "id": "d189ec87",
   "metadata": {},
   "outputs": [],
   "source": [
    "new_train['black_flag'] = (new_train['black_flag'] > 0) + 0"
   ]
  },
  {
   "cell_type": "code",
   "execution_count": 85,
   "id": "bacff51a",
   "metadata": {},
   "outputs": [
    {
     "name": "stdout",
     "output_type": "stream",
     "text": [
      "0:\tlearn: 0.6878241\ttest: 0.6885613\tbest: 0.6885613 (0)\ttotal: 65.1ms\tremaining: 10m 50s\n",
      "100:\tlearn: 0.4417971\ttest: 0.4807257\tbest: 0.4807257 (100)\ttotal: 4.09s\tremaining: 6m 40s\n",
      "200:\tlearn: 0.3834371\ttest: 0.4518828\tbest: 0.4518828 (200)\ttotal: 7.25s\tremaining: 5m 53s\n",
      "300:\tlearn: 0.3470120\ttest: 0.4400088\tbest: 0.4400088 (300)\ttotal: 9.79s\tremaining: 5m 15s\n",
      "400:\tlearn: 0.3193859\ttest: 0.4321788\tbest: 0.4321496 (399)\ttotal: 12.4s\tremaining: 4m 56s\n",
      "500:\tlearn: 0.2951583\ttest: 0.4267661\tbest: 0.4266982 (499)\ttotal: 15.1s\tremaining: 4m 45s\n",
      "600:\tlearn: 0.2751183\ttest: 0.4230531\tbest: 0.4230531 (600)\ttotal: 17.7s\tremaining: 4m 36s\n",
      "700:\tlearn: 0.2566864\ttest: 0.4197406\tbest: 0.4194264 (687)\ttotal: 20.4s\tremaining: 4m 30s\n",
      "800:\tlearn: 0.2390636\ttest: 0.4190372\tbest: 0.4186072 (792)\ttotal: 23s\tremaining: 4m 24s\n",
      "900:\tlearn: 0.2198738\ttest: 0.4158454\tbest: 0.4158359 (898)\ttotal: 25.7s\tremaining: 4m 20s\n",
      "1000:\tlearn: 0.2019708\ttest: 0.4146883\tbest: 0.4144218 (981)\ttotal: 28.5s\tremaining: 4m 15s\n",
      "1100:\tlearn: 0.1862028\ttest: 0.4132533\tbest: 0.4132533 (1100)\ttotal: 32.1s\tremaining: 4m 19s\n",
      "1200:\tlearn: 0.1720166\ttest: 0.4121987\tbest: 0.4120380 (1197)\ttotal: 36s\tremaining: 4m 23s\n",
      "1300:\tlearn: 0.1600453\ttest: 0.4115940\tbest: 0.4113984 (1292)\ttotal: 38.8s\tremaining: 4m 19s\n",
      "1400:\tlearn: 0.1493998\ttest: 0.4104419\tbest: 0.4102720 (1385)\ttotal: 41.6s\tremaining: 4m 15s\n",
      "1500:\tlearn: 0.1390780\ttest: 0.4100935\tbest: 0.4094912 (1462)\ttotal: 44.3s\tremaining: 4m 11s\n",
      "Stopped by overfitting detector  (100 iterations wait)\n",
      "\n",
      "bestTest = 0.4094911993\n",
      "bestIteration = 1462\n",
      "\n",
      "Shrink model to first 1463 iterations.\n",
      "0:\tlearn: 0.6878510\ttest: 0.6880964\tbest: 0.6880964 (0)\ttotal: 33.6ms\tremaining: 5m 36s\n",
      "100:\tlearn: 0.4562558\ttest: 0.4678763\tbest: 0.4678763 (100)\ttotal: 2.91s\tremaining: 4m 45s\n",
      "200:\tlearn: 0.4025568\ttest: 0.4292101\tbest: 0.4292101 (200)\ttotal: 5.56s\tremaining: 4m 30s\n",
      "300:\tlearn: 0.3648545\ttest: 0.4055199\tbest: 0.4055199 (300)\ttotal: 8.37s\tremaining: 4m 29s\n",
      "400:\tlearn: 0.3371379\ttest: 0.3932192\tbest: 0.3932192 (400)\ttotal: 11.1s\tremaining: 4m 24s\n",
      "500:\tlearn: 0.3130008\ttest: 0.3848391\tbest: 0.3848391 (500)\ttotal: 13.8s\tremaining: 4m 20s\n",
      "600:\tlearn: 0.2917091\ttest: 0.3781218\tbest: 0.3780118 (596)\ttotal: 16.5s\tremaining: 4m 17s\n",
      "700:\tlearn: 0.2724737\ttest: 0.3729880\tbest: 0.3729573 (698)\ttotal: 19.1s\tremaining: 4m 13s\n",
      "800:\tlearn: 0.2540792\ttest: 0.3674610\tbest: 0.3674610 (800)\ttotal: 21.9s\tremaining: 4m 11s\n",
      "900:\tlearn: 0.2352031\ttest: 0.3615741\tbest: 0.3615741 (900)\ttotal: 24.5s\tremaining: 4m 7s\n",
      "1000:\tlearn: 0.2182928\ttest: 0.3580916\tbest: 0.3580441 (998)\ttotal: 27.3s\tremaining: 4m 5s\n",
      "1100:\tlearn: 0.2021690\ttest: 0.3542158\tbest: 0.3541790 (1098)\ttotal: 30s\tremaining: 4m 2s\n",
      "1200:\tlearn: 0.1875132\ttest: 0.3508286\tbest: 0.3507991 (1199)\ttotal: 32.7s\tremaining: 3m 59s\n",
      "1300:\tlearn: 0.1749150\ttest: 0.3495012\tbest: 0.3495012 (1300)\ttotal: 35.4s\tremaining: 3m 56s\n",
      "1400:\tlearn: 0.1633102\ttest: 0.3472557\tbest: 0.3472056 (1398)\ttotal: 38.1s\tremaining: 3m 54s\n",
      "1500:\tlearn: 0.1532974\ttest: 0.3456836\tbest: 0.3455337 (1486)\ttotal: 41s\tremaining: 3m 52s\n",
      "1600:\tlearn: 0.1433884\ttest: 0.3438197\tbest: 0.3438022 (1595)\ttotal: 43.7s\tremaining: 3m 49s\n",
      "1700:\tlearn: 0.1347163\ttest: 0.3420489\tbest: 0.3420489 (1700)\ttotal: 46.5s\tremaining: 3m 46s\n",
      "1800:\tlearn: 0.1274306\ttest: 0.3412817\tbest: 0.3412817 (1800)\ttotal: 49.2s\tremaining: 3m 43s\n",
      "1900:\tlearn: 0.1199431\ttest: 0.3403060\tbest: 0.3402246 (1898)\ttotal: 51.9s\tremaining: 3m 40s\n",
      "2000:\tlearn: 0.1126526\ttest: 0.3392303\tbest: 0.3392245 (1998)\ttotal: 54.6s\tremaining: 3m 38s\n",
      "2100:\tlearn: 0.1062528\ttest: 0.3388179\tbest: 0.3387505 (2093)\ttotal: 57.3s\tremaining: 3m 35s\n",
      "2200:\tlearn: 0.1005070\ttest: 0.3382279\tbest: 0.3382224 (2184)\ttotal: 1m\tremaining: 3m 32s\n",
      "2300:\tlearn: 0.0954009\ttest: 0.3378889\tbest: 0.3377079 (2285)\ttotal: 1m 2s\tremaining: 3m 30s\n",
      "2400:\tlearn: 0.0902345\ttest: 0.3375067\tbest: 0.3374792 (2399)\ttotal: 1m 5s\tremaining: 3m 27s\n",
      "2500:\tlearn: 0.0857968\ttest: 0.3370841\tbest: 0.3368314 (2433)\ttotal: 1m 8s\tremaining: 3m 24s\n",
      "Stopped by overfitting detector  (100 iterations wait)\n",
      "\n",
      "bestTest = 0.3368313849\n",
      "bestIteration = 2433\n",
      "\n",
      "Shrink model to first 2434 iterations.\n",
      "0:\tlearn: 0.6868770\ttest: 0.6874104\tbest: 0.6874104 (0)\ttotal: 33.7ms\tremaining: 5m 37s\n",
      "100:\tlearn: 0.4521124\ttest: 0.4768657\tbest: 0.4768657 (100)\ttotal: 2.77s\tremaining: 4m 32s\n",
      "200:\tlearn: 0.3935837\ttest: 0.4382136\tbest: 0.4382136 (200)\ttotal: 5.54s\tremaining: 4m 29s\n",
      "300:\tlearn: 0.3571420\ttest: 0.4208292\tbest: 0.4208292 (300)\ttotal: 8.14s\tremaining: 4m 22s\n",
      "400:\tlearn: 0.3301353\ttest: 0.4097750\tbest: 0.4097750 (400)\ttotal: 10.9s\tremaining: 4m 20s\n",
      "500:\tlearn: 0.3070013\ttest: 0.4024543\tbest: 0.4024543 (500)\ttotal: 13.5s\tremaining: 4m 16s\n",
      "600:\tlearn: 0.2867696\ttest: 0.3967665\tbest: 0.3967665 (600)\ttotal: 16.1s\tremaining: 4m 12s\n",
      "700:\tlearn: 0.2678420\ttest: 0.3911170\tbest: 0.3911170 (700)\ttotal: 18.9s\tremaining: 4m 11s\n",
      "800:\tlearn: 0.2516000\ttest: 0.3883917\tbest: 0.3883917 (800)\ttotal: 21.7s\tremaining: 4m 8s\n",
      "900:\tlearn: 0.2342311\ttest: 0.3842904\tbest: 0.3842123 (894)\ttotal: 24.3s\tremaining: 4m 5s\n",
      "1000:\tlearn: 0.2176451\ttest: 0.3793329\tbest: 0.3793329 (1000)\ttotal: 27s\tremaining: 4m 2s\n",
      "1100:\tlearn: 0.2022489\ttest: 0.3761682\tbest: 0.3761471 (1093)\ttotal: 29.8s\tremaining: 4m\n",
      "1200:\tlearn: 0.1879477\ttest: 0.3741712\tbest: 0.3740785 (1196)\ttotal: 32.5s\tremaining: 3m 58s\n",
      "1300:\tlearn: 0.1755705\ttest: 0.3727647\tbest: 0.3727647 (1300)\ttotal: 36.4s\tremaining: 4m 3s\n",
      "1400:\tlearn: 0.1637147\ttest: 0.3717730\tbest: 0.3717730 (1400)\ttotal: 40.5s\tremaining: 4m 8s\n",
      "1500:\tlearn: 0.1538490\ttest: 0.3700102\tbest: 0.3700102 (1500)\ttotal: 43.5s\tremaining: 4m 6s\n",
      "1600:\tlearn: 0.1446505\ttest: 0.3679389\tbest: 0.3679389 (1600)\ttotal: 46.3s\tremaining: 4m 2s\n",
      "1700:\tlearn: 0.1355171\ttest: 0.3673272\tbest: 0.3671269 (1693)\ttotal: 49s\tremaining: 3m 59s\n",
      "1800:\tlearn: 0.1276366\ttest: 0.3664148\tbest: 0.3661789 (1758)\ttotal: 51.7s\tremaining: 3m 55s\n",
      "1900:\tlearn: 0.1209115\ttest: 0.3656655\tbest: 0.3656362 (1891)\ttotal: 54.4s\tremaining: 3m 51s\n",
      "2000:\tlearn: 0.1144456\ttest: 0.3650347\tbest: 0.3649753 (1934)\ttotal: 57.1s\tremaining: 3m 48s\n",
      "2100:\tlearn: 0.1084775\ttest: 0.3640709\tbest: 0.3640709 (2100)\ttotal: 59.9s\tremaining: 3m 45s\n",
      "2200:\tlearn: 0.1025640\ttest: 0.3638786\tbest: 0.3638619 (2194)\ttotal: 1m 2s\tremaining: 3m 41s\n",
      "2300:\tlearn: 0.0970657\ttest: 0.3633406\tbest: 0.3632990 (2298)\ttotal: 1m 5s\tremaining: 3m 38s\n",
      "2400:\tlearn: 0.0921517\ttest: 0.3633158\tbest: 0.3629382 (2354)\ttotal: 1m 8s\tremaining: 3m 35s\n",
      "Stopped by overfitting detector  (100 iterations wait)\n",
      "\n",
      "bestTest = 0.3629382066\n",
      "bestIteration = 2354\n",
      "\n",
      "Shrink model to first 2355 iterations.\n",
      "0:\tlearn: 0.6874983\ttest: 0.6872444\tbest: 0.6872444 (0)\ttotal: 33ms\tremaining: 5m 30s\n",
      "100:\tlearn: 0.4501014\ttest: 0.4677682\tbest: 0.4677682 (100)\ttotal: 2.76s\tremaining: 4m 30s\n",
      "200:\tlearn: 0.3879871\ttest: 0.4302892\tbest: 0.4302892 (200)\ttotal: 5.58s\tremaining: 4m 31s\n",
      "300:\tlearn: 0.3512364\ttest: 0.4156987\tbest: 0.4156987 (300)\ttotal: 8.33s\tremaining: 4m 28s\n",
      "400:\tlearn: 0.3228897\ttest: 0.4064090\tbest: 0.4063496 (391)\ttotal: 11.1s\tremaining: 4m 26s\n",
      "500:\tlearn: 0.2995939\ttest: 0.3993504\tbest: 0.3993504 (500)\ttotal: 13.8s\tremaining: 4m 22s\n",
      "600:\tlearn: 0.2807839\ttest: 0.3963714\tbest: 0.3963714 (600)\ttotal: 16.6s\tremaining: 4m 19s\n",
      "700:\tlearn: 0.2635685\ttest: 0.3926082\tbest: 0.3926082 (700)\ttotal: 19.4s\tremaining: 4m 17s\n",
      "800:\tlearn: 0.2453530\ttest: 0.3884400\tbest: 0.3884400 (800)\ttotal: 22.1s\tremaining: 4m 14s\n",
      "900:\tlearn: 0.2274824\ttest: 0.3853056\tbest: 0.3853019 (897)\ttotal: 24.9s\tremaining: 4m 11s\n",
      "1000:\tlearn: 0.2116380\ttest: 0.3826885\tbest: 0.3826885 (1000)\ttotal: 27.8s\tremaining: 4m 9s\n",
      "1100:\tlearn: 0.1962286\ttest: 0.3817320\tbest: 0.3816143 (1098)\ttotal: 30.6s\tremaining: 4m 7s\n",
      "1200:\tlearn: 0.1828968\ttest: 0.3814005\tbest: 0.3810865 (1146)\ttotal: 33.3s\tremaining: 4m 4s\n",
      "1300:\tlearn: 0.1707276\ttest: 0.3800770\tbest: 0.3800770 (1300)\ttotal: 36s\tremaining: 4m\n",
      "1400:\tlearn: 0.1592005\ttest: 0.3785469\tbest: 0.3781692 (1376)\ttotal: 38.8s\tremaining: 3m 58s\n",
      "1500:\tlearn: 0.1493319\ttest: 0.3778158\tbest: 0.3777871 (1445)\ttotal: 41.6s\tremaining: 3m 55s\n",
      "1600:\tlearn: 0.1402750\ttest: 0.3769675\tbest: 0.3769675 (1600)\ttotal: 44.3s\tremaining: 3m 52s\n",
      "1700:\tlearn: 0.1321305\ttest: 0.3766845\tbest: 0.3764534 (1616)\ttotal: 47.1s\tremaining: 3m 49s\n"
     ]
    },
    {
     "name": "stdout",
     "output_type": "stream",
     "text": [
      "Stopped by overfitting detector  (100 iterations wait)\n",
      "\n",
      "bestTest = 0.3764534016\n",
      "bestIteration = 1616\n",
      "\n",
      "Shrink model to first 1617 iterations.\n",
      "0:\tlearn: 0.6883180\ttest: 0.6885580\tbest: 0.6885580 (0)\ttotal: 39.3ms\tremaining: 6m 33s\n",
      "100:\tlearn: 0.4491532\ttest: 0.4859101\tbest: 0.4859101 (100)\ttotal: 2.78s\tremaining: 4m 32s\n",
      "200:\tlearn: 0.3884458\ttest: 0.4518818\tbest: 0.4518818 (200)\ttotal: 5.54s\tremaining: 4m 30s\n",
      "300:\tlearn: 0.3556593\ttest: 0.4401891\tbest: 0.4401619 (299)\ttotal: 8.28s\tremaining: 4m 26s\n",
      "400:\tlearn: 0.3293234\ttest: 0.4315159\tbest: 0.4315159 (400)\ttotal: 11s\tremaining: 4m 23s\n",
      "500:\tlearn: 0.3064125\ttest: 0.4239739\tbest: 0.4239443 (499)\ttotal: 13.8s\tremaining: 4m 20s\n",
      "600:\tlearn: 0.2852920\ttest: 0.4163919\tbest: 0.4163919 (600)\ttotal: 16.5s\tremaining: 4m 18s\n",
      "700:\tlearn: 0.2668955\ttest: 0.4128495\tbest: 0.4127409 (694)\ttotal: 19.3s\tremaining: 4m 16s\n",
      "800:\tlearn: 0.2485649\ttest: 0.4072890\tbest: 0.4072146 (799)\ttotal: 22.2s\tremaining: 4m 14s\n",
      "900:\tlearn: 0.2297202\ttest: 0.4023747\tbest: 0.4023747 (900)\ttotal: 24.9s\tremaining: 4m 11s\n",
      "1000:\tlearn: 0.2123324\ttest: 0.3973657\tbest: 0.3973657 (1000)\ttotal: 27.6s\tremaining: 4m 8s\n",
      "1100:\tlearn: 0.1960368\ttest: 0.3934496\tbest: 0.3933835 (1090)\ttotal: 30.4s\tremaining: 4m 5s\n",
      "1200:\tlearn: 0.1831288\ttest: 0.3917758\tbest: 0.3917423 (1198)\ttotal: 33.1s\tremaining: 4m 2s\n",
      "1300:\tlearn: 0.1707805\ttest: 0.3896502\tbest: 0.3895717 (1295)\ttotal: 36.1s\tremaining: 4m 1s\n",
      "1400:\tlearn: 0.1597162\ttest: 0.3873033\tbest: 0.3870697 (1387)\ttotal: 40.5s\tremaining: 4m 8s\n",
      "1500:\tlearn: 0.1496972\ttest: 0.3858116\tbest: 0.3857066 (1497)\ttotal: 44.2s\tremaining: 4m 10s\n",
      "1600:\tlearn: 0.1412810\ttest: 0.3848735\tbest: 0.3847709 (1598)\ttotal: 47.1s\tremaining: 4m 7s\n",
      "1700:\tlearn: 0.1334754\ttest: 0.3835516\tbest: 0.3834828 (1699)\ttotal: 50.1s\tremaining: 4m 4s\n",
      "1800:\tlearn: 0.1259841\ttest: 0.3836048\tbest: 0.3830762 (1717)\ttotal: 53s\tremaining: 4m 1s\n",
      "Stopped by overfitting detector  (100 iterations wait)\n",
      "\n",
      "bestTest = 0.3830761707\n",
      "bestIteration = 1717\n",
      "\n",
      "Shrink model to first 1718 iterations.\n"
     ]
    }
   ],
   "source": [
    "FOLDS = 5\n",
    "folds = StratifiedKFold(n_splits=FOLDS, shuffle=True, random_state=2023)\n",
    "\n",
    "oof_pred = np.zeros((len(new_train),))\n",
    "y_pred = np.zeros((len(new_test),))\n",
    "\n",
    "for fold, (tr_ind, val_ind) in enumerate(folds.split(new_train, new_train[target])):\n",
    "    x_train, x_val = new_train.iloc[tr_ind][features], new_train.iloc[val_ind][features]\n",
    "    y_train, y_val = new_train.iloc[tr_ind][target], new_train.iloc[val_ind][target]\n",
    "    \n",
    "    classes = np.unique(y_train)\n",
    "    weights = compute_class_weight(class_weight='balanced', classes=classes, y=y_train)\n",
    "    class_weights = dict(zip(classes, weights))\n",
    "    \n",
    "    params = {\n",
    "        'task_type': 'CPU',\n",
    "        'bootstrap_type': 'Bayesian',\n",
    "        'boosting_type': 'Plain',\n",
    "        'learning_rate': 0.01,\n",
    "        'eval_metric': 'Logloss',\n",
    "        'loss_function': 'Logloss',\n",
    "        'iterations': 10000,\n",
    "        'random_state': 42,\n",
    "        'depth': 6,\n",
    "        'leaf_estimation_iterations': 8,\n",
    "        'reg_lambda': 5,\n",
    "        'early_stopping_rounds': 100,\n",
    "        'class_weights': class_weights,\n",
    "        'cat_features': ['khjgdh', 'xb', '年龄'] + [f'most_{c}' for c in cat_cols] + \\\n",
    "                        [f'most_jyje_{c}' for c in cat_cols],\n",
    "    }\n",
    "    model = CatBoostClassifier(**params)\n",
    "    model.fit(x_train,\n",
    "               y_train,\n",
    "               eval_set=(x_val, y_val),\n",
    "               verbose=100)\n",
    "    oof_pred[val_ind] = model.predict_proba(x_val)[:, 1]\n",
    "    y_pred += model.predict_proba(new_test[features])[:, 1] / FOLDS"
   ]
  },
  {
   "cell_type": "code",
   "execution_count": 88,
   "id": "6c3273c9",
   "metadata": {},
   "outputs": [
    {
     "ename": "NameError",
     "evalue": "name 'new_train' is not defined",
     "output_type": "error",
     "traceback": [
      "\u001b[0;31m---------------------------------------------------------------------------\u001b[0m",
      "\u001b[0;31mNameError\u001b[0m                                 Traceback (most recent call last)",
      "\u001b[0;32m/var/folders/x7/8m8k0gp95nd2hb_gn8p75s3c0000gn/T/ipykernel_11107/211011919.py\u001b[0m in \u001b[0;36m<module>\u001b[0;34m\u001b[0m\n\u001b[1;32m      1\u001b[0m \u001b[0;32mfrom\u001b[0m \u001b[0msklearn\u001b[0m\u001b[0;34m.\u001b[0m\u001b[0mmetrics\u001b[0m \u001b[0;32mimport\u001b[0m \u001b[0mf1_score\u001b[0m\u001b[0;34m\u001b[0m\u001b[0;34m\u001b[0m\u001b[0m\n\u001b[0;32m----> 2\u001b[0;31m \u001b[0mf1_score\u001b[0m\u001b[0;34m(\u001b[0m\u001b[0mnew_train\u001b[0m\u001b[0;34m[\u001b[0m\u001b[0mtarget\u001b[0m\u001b[0;34m]\u001b[0m\u001b[0;34m.\u001b[0m\u001b[0mvalues\u001b[0m\u001b[0;34m,\u001b[0m \u001b[0;34m(\u001b[0m\u001b[0moof_pred\u001b[0m \u001b[0;34m>\u001b[0m \u001b[0;36m0.5\u001b[0m\u001b[0;34m)\u001b[0m \u001b[0;34m+\u001b[0m \u001b[0;36m0\u001b[0m\u001b[0;34m)\u001b[0m\u001b[0;34m\u001b[0m\u001b[0;34m\u001b[0m\u001b[0m\n\u001b[0m",
      "\u001b[0;31mNameError\u001b[0m: name 'new_train' is not defined"
     ]
    }
   ],
   "source": [
    "from sklearn.metrics import f1_score\n",
    "f1_score(new_train[target].values, (oof_pred > 0.5) + 0)"
   ]
  },
  {
   "cell_type": "code",
   "execution_count": 88,
   "id": "d937703e",
   "metadata": {},
   "outputs": [],
   "source": [
    "new_test_result = new_test[['zhdh', 'black_flag']].copy()\n",
    "new_test_result['black_flag'] = y_pred\n",
    "new_test_result['black_flag'] = new_test_result['black_flag'].apply(lambda x: (x > 0.52)+0)"
   ]
  },
  {
   "cell_type": "code",
   "execution_count": 89,
   "id": "715fc588",
   "metadata": {},
   "outputs": [
    {
     "data": {
      "text/html": [
       "<div>\n",
       "<style scoped>\n",
       "    .dataframe tbody tr th:only-of-type {\n",
       "        vertical-align: middle;\n",
       "    }\n",
       "\n",
       "    .dataframe tbody tr th {\n",
       "        vertical-align: top;\n",
       "    }\n",
       "\n",
       "    .dataframe thead th {\n",
       "        text-align: right;\n",
       "    }\n",
       "</style>\n",
       "<table border=\"1\" class=\"dataframe\">\n",
       "  <thead>\n",
       "    <tr style=\"text-align: right;\">\n",
       "      <th></th>\n",
       "      <th>zhdh</th>\n",
       "      <th>black_flag</th>\n",
       "    </tr>\n",
       "  </thead>\n",
       "  <tbody>\n",
       "    <tr>\n",
       "      <th>0</th>\n",
       "      <td>DDF394282B1E1508</td>\n",
       "      <td>0</td>\n",
       "    </tr>\n",
       "    <tr>\n",
       "      <th>2</th>\n",
       "      <td>41E4A8AECE47E5F3</td>\n",
       "      <td>0</td>\n",
       "    </tr>\n",
       "    <tr>\n",
       "      <th>4</th>\n",
       "      <td>6FBFEB03252FDB9F</td>\n",
       "      <td>0</td>\n",
       "    </tr>\n",
       "    <tr>\n",
       "      <th>5</th>\n",
       "      <td>4DEA40CF785FA423</td>\n",
       "      <td>0</td>\n",
       "    </tr>\n",
       "    <tr>\n",
       "      <th>6</th>\n",
       "      <td>8712DEE79BAE5383</td>\n",
       "      <td>1</td>\n",
       "    </tr>\n",
       "    <tr>\n",
       "      <th>...</th>\n",
       "      <td>...</td>\n",
       "      <td>...</td>\n",
       "    </tr>\n",
       "    <tr>\n",
       "      <th>5995</th>\n",
       "      <td>0228778D98151DEF</td>\n",
       "      <td>0</td>\n",
       "    </tr>\n",
       "    <tr>\n",
       "      <th>5996</th>\n",
       "      <td>FF83E6CFE3916793</td>\n",
       "      <td>0</td>\n",
       "    </tr>\n",
       "    <tr>\n",
       "      <th>5997</th>\n",
       "      <td>2947A98F10140EE0</td>\n",
       "      <td>0</td>\n",
       "    </tr>\n",
       "    <tr>\n",
       "      <th>5998</th>\n",
       "      <td>6EF9CDFEB8C86119</td>\n",
       "      <td>0</td>\n",
       "    </tr>\n",
       "    <tr>\n",
       "      <th>5999</th>\n",
       "      <td>FAB9093EDF12B07F</td>\n",
       "      <td>0</td>\n",
       "    </tr>\n",
       "  </tbody>\n",
       "</table>\n",
       "<p>3958 rows × 2 columns</p>\n",
       "</div>"
      ],
      "text/plain": [
       "                  zhdh  black_flag\n",
       "0     DDF394282B1E1508           0\n",
       "2     41E4A8AECE47E5F3           0\n",
       "4     6FBFEB03252FDB9F           0\n",
       "5     4DEA40CF785FA423           0\n",
       "6     8712DEE79BAE5383           1\n",
       "...                ...         ...\n",
       "5995  0228778D98151DEF           0\n",
       "5996  FF83E6CFE3916793           0\n",
       "5997  2947A98F10140EE0           0\n",
       "5998  6EF9CDFEB8C86119           0\n",
       "5999  FAB9093EDF12B07F           0\n",
       "\n",
       "[3958 rows x 2 columns]"
      ]
     },
     "execution_count": 89,
     "metadata": {},
     "output_type": "execute_result"
    }
   ],
   "source": [
    "new_test_result"
   ]
  },
  {
   "cell_type": "code",
   "execution_count": 94,
   "id": "c4d65676",
   "metadata": {},
   "outputs": [],
   "source": [
    "old_test_result = test[(test['black_flag'] > 0.98) | (test['black_flag'] < 0.02)][['zhdh', 'black_flag']].copy()"
   ]
  },
  {
   "cell_type": "code",
   "execution_count": 95,
   "id": "2caa20db",
   "metadata": {},
   "outputs": [],
   "source": [
    "old_test_result['black_flag'] = old_test_result['black_flag'].apply(lambda x: (x > 0.52)+0)"
   ]
  },
  {
   "cell_type": "code",
   "execution_count": 97,
   "id": "2da48be9",
   "metadata": {},
   "outputs": [],
   "source": [
    "new_test_result = pd.concat([new_test_result, old_test_result])\n",
    "result = pd.read_csv('./data/test_dataset.csv')\n",
    "result = result.merge(new_test_result, how='left', on='zhdh')\n",
    "result.to_csv('result.csv', index=False)"
   ]
  },
  {
   "cell_type": "code",
   "execution_count": 98,
   "id": "de990cc2",
   "metadata": {},
   "outputs": [
    {
     "data": {
      "text/html": [
       "<div>\n",
       "<style scoped>\n",
       "    .dataframe tbody tr th:only-of-type {\n",
       "        vertical-align: middle;\n",
       "    }\n",
       "\n",
       "    .dataframe tbody tr th {\n",
       "        vertical-align: top;\n",
       "    }\n",
       "\n",
       "    .dataframe thead th {\n",
       "        text-align: right;\n",
       "    }\n",
       "</style>\n",
       "<table border=\"1\" class=\"dataframe\">\n",
       "  <thead>\n",
       "    <tr style=\"text-align: right;\">\n",
       "      <th></th>\n",
       "      <th>zhdh</th>\n",
       "      <th>black_flag</th>\n",
       "    </tr>\n",
       "  </thead>\n",
       "  <tbody>\n",
       "    <tr>\n",
       "      <th>0</th>\n",
       "      <td>B6751CD225DD4886</td>\n",
       "      <td>0</td>\n",
       "    </tr>\n",
       "    <tr>\n",
       "      <th>1</th>\n",
       "      <td>8265CA869E4AFF16</td>\n",
       "      <td>0</td>\n",
       "    </tr>\n",
       "    <tr>\n",
       "      <th>2</th>\n",
       "      <td>06DD2A17463919FC</td>\n",
       "      <td>0</td>\n",
       "    </tr>\n",
       "    <tr>\n",
       "      <th>3</th>\n",
       "      <td>F36469EA4C5BD7FC</td>\n",
       "      <td>0</td>\n",
       "    </tr>\n",
       "    <tr>\n",
       "      <th>4</th>\n",
       "      <td>A18F7ACD7A3853D1</td>\n",
       "      <td>0</td>\n",
       "    </tr>\n",
       "    <tr>\n",
       "      <th>...</th>\n",
       "      <td>...</td>\n",
       "      <td>...</td>\n",
       "    </tr>\n",
       "    <tr>\n",
       "      <th>4795</th>\n",
       "      <td>5E1C4461BC135745</td>\n",
       "      <td>0</td>\n",
       "    </tr>\n",
       "    <tr>\n",
       "      <th>4796</th>\n",
       "      <td>0507C0E6649E637C</td>\n",
       "      <td>0</td>\n",
       "    </tr>\n",
       "    <tr>\n",
       "      <th>4797</th>\n",
       "      <td>2CB5C631D0BE5241</td>\n",
       "      <td>0</td>\n",
       "    </tr>\n",
       "    <tr>\n",
       "      <th>4798</th>\n",
       "      <td>193FE069CEA9AD06</td>\n",
       "      <td>0</td>\n",
       "    </tr>\n",
       "    <tr>\n",
       "      <th>4799</th>\n",
       "      <td>0241065EA111174C</td>\n",
       "      <td>0</td>\n",
       "    </tr>\n",
       "  </tbody>\n",
       "</table>\n",
       "<p>4800 rows × 2 columns</p>\n",
       "</div>"
      ],
      "text/plain": [
       "                  zhdh  black_flag\n",
       "0     B6751CD225DD4886           0\n",
       "1     8265CA869E4AFF16           0\n",
       "2     06DD2A17463919FC           0\n",
       "3     F36469EA4C5BD7FC           0\n",
       "4     A18F7ACD7A3853D1           0\n",
       "...                ...         ...\n",
       "4795  5E1C4461BC135745           0\n",
       "4796  0507C0E6649E637C           0\n",
       "4797  2CB5C631D0BE5241           0\n",
       "4798  193FE069CEA9AD06           0\n",
       "4799  0241065EA111174C           0\n",
       "\n",
       "[4800 rows x 2 columns]"
      ]
     },
     "execution_count": 98,
     "metadata": {},
     "output_type": "execute_result"
    }
   ],
   "source": [
    "result"
   ]
  },
  {
   "cell_type": "code",
   "execution_count": null,
   "id": "98d38f52",
   "metadata": {},
   "outputs": [],
   "source": []
  },
  {
   "cell_type": "code",
   "execution_count": null,
   "id": "030d7736",
   "metadata": {},
   "outputs": [],
   "source": []
  },
  {
   "cell_type": "code",
   "execution_count": 52,
   "id": "51bd46b9",
   "metadata": {},
   "outputs": [],
   "source": [
    "import lightgbm as lgb\n",
    "from lightgbm import early_stopping\n",
    "from lightgbm import log_evaluation"
   ]
  },
  {
   "cell_type": "code",
   "execution_count": 60,
   "id": "dd91c29d",
   "metadata": {},
   "outputs": [
    {
     "name": "stderr",
     "output_type": "stream",
     "text": [
      "/Users/yitinglin/Projects/dcic2023/env/lib/python3.7/site-packages/lightgbm/basic.py:1487: UserWarning: silent keyword has been found in `params` and will be ignored.\n",
      "Please use silent argument of the Dataset constructor to pass this parameter.\n",
      "  _log_warning(f'{key} keyword has been found in `params` and will be ignored.\\n'\n"
     ]
    },
    {
     "name": "stdout",
     "output_type": "stream",
     "text": [
      "[LightGBM] [Warning] num_threads is set with n_jobs=8, nthread=32 will be ignored. Current value: num_threads=8\n",
      "[LightGBM] [Warning] Unknown parameter: silent\n",
      "Training until validation scores don't improve for 100 rounds\n",
      "[100]\tvalid_0's auc: 0.977778\n",
      "[200]\tvalid_0's auc: 0.976852\n",
      "Early stopping, best iteration is:\n",
      "[144]\tvalid_0's auc: 0.979167\n",
      "[LightGBM] [Warning] num_threads is set with n_jobs=8, nthread=32 will be ignored. Current value: num_threads=8\n",
      "[LightGBM] [Warning] Unknown parameter: silent\n",
      "Training until validation scores don't improve for 100 rounds\n",
      "[100]\tvalid_0's auc: 0.959444\n",
      "[200]\tvalid_0's auc: 0.965\n",
      "[300]\tvalid_0's auc: 0.969444\n",
      "[400]\tvalid_0's auc: 0.973148\n",
      "[500]\tvalid_0's auc: 0.973796\n",
      "[600]\tvalid_0's auc: 0.972315\n",
      "Early stopping, best iteration is:\n",
      "[533]\tvalid_0's auc: 0.974722\n",
      "[LightGBM] [Warning] num_threads is set with n_jobs=8, nthread=32 will be ignored. Current value: num_threads=8\n",
      "[LightGBM] [Warning] Unknown parameter: silent\n",
      "Training until validation scores don't improve for 100 rounds\n",
      "[100]\tvalid_0's auc: 0.905741\n",
      "[200]\tvalid_0's auc: 0.921667\n",
      "[300]\tvalid_0's auc: 0.923889\n",
      "Early stopping, best iteration is:\n",
      "[282]\tvalid_0's auc: 0.925278\n",
      "[LightGBM] [Warning] num_threads is set with n_jobs=8, nthread=32 will be ignored. Current value: num_threads=8\n",
      "[LightGBM] [Warning] Unknown parameter: silent\n",
      "Training until validation scores don't improve for 100 rounds\n",
      "[100]\tvalid_0's auc: 0.968519\n",
      "Early stopping, best iteration is:\n",
      "[80]\tvalid_0's auc: 0.97037\n",
      "[LightGBM] [Warning] num_threads is set with n_jobs=8, nthread=32 will be ignored. Current value: num_threads=8\n",
      "[LightGBM] [Warning] Unknown parameter: silent\n",
      "Training until validation scores don't improve for 100 rounds\n",
      "[100]\tvalid_0's auc: 0.964259\n",
      "[200]\tvalid_0's auc: 0.967315\n",
      "[300]\tvalid_0's auc: 0.967963\n",
      "Early stopping, best iteration is:\n",
      "[224]\tvalid_0's auc: 0.968796\n"
     ]
    }
   ],
   "source": [
    "FOLDS = 5\n",
    "folds = StratifiedKFold(n_splits=FOLDS, shuffle=True, random_state=2023)\n",
    "\n",
    "oof_pred = np.zeros((len(train),))\n",
    "y_pred = np.zeros((len(test),))\n",
    "\n",
    "for fold, (tr_ind, val_ind) in enumerate(folds.split(train, train[target])):\n",
    "    x_train, x_val = train.iloc[tr_ind][features], train.iloc[val_ind][features]\n",
    "    y_train, y_val = train.iloc[tr_ind][target], train.iloc[val_ind][target]\n",
    "    \n",
    "    dtrain = lgb.Dataset(x_train, label=y_train)\n",
    "    dval = lgb.Dataset(x_val, label=y_val)\n",
    "\n",
    "    parameters = {\n",
    "        'boosting_type': 'gbdt',\n",
    "        'objective': 'binary',\n",
    "        'tree_learner':'serial',\n",
    "        'metric': 'auc',\n",
    "        'min_child_weight': 4,\n",
    "        'num_leaves': 64,\n",
    "        'feature_fraction': 0.8,\n",
    "        'bagging_fraction': 0.8,\n",
    "        'bagging_freq': 4,\n",
    "        'learning_rate': 0.02,\n",
    "        'seed': 2023,\n",
    "        'nthread': 32,\n",
    "        'n_jobs':8,\n",
    "        'silent': True,\n",
    "        'verbose': -1,\n",
    "    }\n",
    "\n",
    "    model = lgb.train(\n",
    "        parameters,\n",
    "        dtrain,\n",
    "        num_boost_round=8000,\n",
    "        valid_sets=[dval],\n",
    "        callbacks=[early_stopping(100), log_evaluation(100)],\n",
    "\n",
    "    )\n",
    "    oof_pred[val_ind] = model.predict(x_val)\n",
    "    y_pred += model.predict(test[features]) / FOLDS"
   ]
  },
  {
   "cell_type": "code",
   "execution_count": 61,
   "id": "8254bf4f",
   "metadata": {},
   "outputs": [
    {
     "data": {
      "text/plain": [
       "0.8648648648648648"
      ]
     },
     "execution_count": 61,
     "metadata": {},
     "output_type": "execute_result"
    }
   ],
   "source": [
    "from sklearn.metrics import f1_score\n",
    "f1_score(train[target].values, (oof_pred > 0.5) + 0)"
   ]
  },
  {
   "cell_type": "code",
   "execution_count": 62,
   "id": "2dd5e049",
   "metadata": {},
   "outputs": [
    {
     "name": "stdout",
     "output_type": "stream",
     "text": [
      "0.40, 0.9102985412158333\n",
      "0.41, 0.9123638153608021\n",
      "0.42, 0.9133998533874712\n",
      "0.43, 0.916322068335067\n",
      "0.44, 0.9150739850958669\n",
      "0.45, 0.9161207975418415\n",
      "0.46, 0.9157133908906958\n",
      "0.47, 0.9165623696287026\n",
      "0.48, 0.9150898680694286\n",
      "0.49, 0.9136048941659953\n",
      "0.50, 0.9121072291804\n",
      "0.51, 0.9095351339496823\n",
      "0.52, 0.9082439299830604\n",
      "0.53, 0.9043494433668996\n",
      "0.54, 0.9030442528101401\n",
      "0.55, 0.9041033316199533\n",
      "0.56, 0.9041033316199533\n",
      "0.57, 0.8985800208606975\n",
      "0.58, 0.8969809015369012\n",
      "0.59, 0.8956449770149066\n",
      "0.47, 0.9165623696287026\n"
     ]
    }
   ],
   "source": [
    "oof = oof_pred\n",
    "scores = []; thresholds = []\n",
    "best_score = 0; best_threshold = 0\n",
    "\n",
    "for threshold in np.arange(0.4,0.6,0.01):\n",
    "    preds = (oof.reshape((-1))>threshold).astype('int')\n",
    "    m = f1_score(train['black_flag'].values.reshape((-1)), preds, average='macro')   \n",
    "    scores.append(m)\n",
    "    thresholds.append(threshold)\n",
    "    if m>best_score:\n",
    "        best_score = m\n",
    "        best_threshold = threshold\n",
    "    print(f'{threshold:.02f}, {m}')\n",
    "print(f'{best_threshold:.02f}, {best_score}')"
   ]
  },
  {
   "cell_type": "code",
   "execution_count": 63,
   "id": "9412d9a6",
   "metadata": {},
   "outputs": [],
   "source": [
    "test_result = test[['zhdh', 'black_flag']].copy()\n",
    "test_result['black_flag'] = y_pred\n",
    "test_result['black_flag'] = test_result['black_flag'].apply(lambda x: (x > best_threshold)+0)"
   ]
  },
  {
   "cell_type": "code",
   "execution_count": 64,
   "id": "d66bc180",
   "metadata": {},
   "outputs": [],
   "source": [
    "result = pd.read_csv('./data/test_dataset.csv')\n",
    "result = result.merge(test_result, how='left', on='zhdh')\n",
    "result.to_csv('result.csv', index=False)"
   ]
  },
  {
   "cell_type": "code",
   "execution_count": null,
   "id": "999650bc",
   "metadata": {},
   "outputs": [],
   "source": []
  },
  {
   "cell_type": "code",
   "execution_count": null,
   "id": "f1f28a58",
   "metadata": {},
   "outputs": [],
   "source": []
  },
  {
   "cell_type": "code",
   "execution_count": null,
   "id": "a232e418",
   "metadata": {},
   "outputs": [],
   "source": []
  },
  {
   "cell_type": "code",
   "execution_count": 6,
   "id": "d94d3fee",
   "metadata": {},
   "outputs": [],
   "source": [
    "fea = account_trade.groupby('zhdh').size().reset_index().rename(columns={0: 'trade_cnt'})"
   ]
  },
  {
   "cell_type": "code",
   "execution_count": 7,
   "id": "b1286a72",
   "metadata": {},
   "outputs": [],
   "source": [
    "tmp = account_trade.groupby(['zhdh', 'jdbj']).size().reset_index()\\\n",
    "    .pivot_table(index='zhdh', columns=['jdbj'], values=[0])\n",
    "tmp.columns = ['jdbj_0_cnt', 'jdbj_1_cnt']\n",
    "tmp = tmp.reset_index()"
   ]
  },
  {
   "cell_type": "code",
   "execution_count": 8,
   "id": "7d0c5f6f",
   "metadata": {},
   "outputs": [],
   "source": [
    "fea = fea.merge(tmp, how='left', on='zhdh')\n",
    "fea['jdbj_0_pct'] = fea['jdbj_0_cnt'] / fea['trade_cnt']\n",
    "fea['jdbj_1_pct'] = fea['jdbj_1_cnt'] / fea['trade_cnt']"
   ]
  },
  {
   "cell_type": "code",
   "execution_count": 9,
   "id": "b07afaed",
   "metadata": {},
   "outputs": [],
   "source": [
    "tmp = account_trade.groupby('zhdh')['jyje'].mean().reset_index().rename(columns={'jyje': 'jyje_mean'})\n",
    "fea = fea.merge(tmp, how='left', on='zhdh')\n",
    "\n",
    "tmp = account_trade.groupby('zhdh')['jyje'].std().reset_index().rename(columns={'jyje': 'jyje_std'})\n",
    "fea = fea.merge(tmp, how='left', on='zhdh')"
   ]
  },
  {
   "cell_type": "code",
   "execution_count": 10,
   "id": "335a0cd2",
   "metadata": {},
   "outputs": [],
   "source": [
    "tmp = account_trade.groupby('zhdh')['jyqd'].nunique().reset_index().rename(columns={'jyqd': 'jyqd_nunique'})\n",
    "fea = fea.merge(tmp, how='left', on='zhdh')"
   ]
  },
  {
   "cell_type": "code",
   "execution_count": 11,
   "id": "e8af6e5f",
   "metadata": {},
   "outputs": [],
   "source": [
    "tmp = account_trade.groupby('zhdh')['dfzh'].nunique().reset_index().rename(columns={'dfzh': 'dfzh_nunique'})\n",
    "fea = fea.merge(tmp, how='left', on='zhdh')"
   ]
  },
  {
   "cell_type": "code",
   "execution_count": 12,
   "id": "de7bd009",
   "metadata": {},
   "outputs": [],
   "source": [
    "tmp = account_trade.groupby(['zhdh', 'jdbj'])['jyje'].mean().reset_index()\\\n",
    "    .pivot_table(index='zhdh', columns=['jdbj'], values=['jyje'])\n",
    "tmp.columns = ['jdbj_0_jyje', 'jdbj_1_jyje']\n",
    "tmp = tmp.reset_index()\n",
    "fea = fea.merge(tmp, how='left', on='zhdh')"
   ]
  },
  {
   "cell_type": "code",
   "execution_count": 13,
   "id": "94ae72f5",
   "metadata": {},
   "outputs": [],
   "source": [
    "tmp = account_trade.groupby('zhdh')['dfhh'].nunique().reset_index().rename(columns={'dfhh': 'dfhh_unique_nunique'})\n",
    "fea = fea.merge(tmp, how='left', on='zhdh')"
   ]
  },
  {
   "cell_type": "code",
   "execution_count": 14,
   "id": "d44faa67",
   "metadata": {},
   "outputs": [],
   "source": [
    "tmp = account_trade.groupby('zhdh')['dfmccd'].mean().reset_index().rename(columns={'dfmccd': 'dfmccd_mean'})\n",
    "fea = fea.merge(tmp, how='left', on='zhdh')\n",
    "\n",
    "tmp = account_trade.groupby('zhdh')['dfmccd'].std().reset_index().rename(columns={'dfmccd': 'dfmccd_std'})\n",
    "fea = fea.merge(tmp, how='left', on='zhdh')"
   ]
  },
  {
   "cell_type": "code",
   "execution_count": 15,
   "id": "86f13c10",
   "metadata": {},
   "outputs": [],
   "source": [
    "account_trade['jyrq'] = pd.to_datetime(account_trade['jyrq'])"
   ]
  },
  {
   "cell_type": "code",
   "execution_count": 16,
   "id": "b3dc3c01",
   "metadata": {},
   "outputs": [],
   "source": [
    "account_trade['dayofweek'] = account_trade['jyrq'].dt.dayofweek\n",
    "account_trade['is_wknd'] = account_trade['jyrq'].dt.dayofweek // 6\n",
    "account_trade['is_month_start'] = account_trade['jyrq'].dt.is_month_start.astype(int)\n",
    "account_trade['is_month_end'] = account_trade['jyrq'].dt.is_month_end.astype(int)"
   ]
  },
  {
   "cell_type": "code",
   "execution_count": 17,
   "id": "bf2b0680",
   "metadata": {},
   "outputs": [],
   "source": [
    "for col in ['dayofweek', 'is_wknd', 'is_month_start', 'is_month_end']:\n",
    "    tmp = account_trade.groupby('zhdh')[col].mean().reset_index().rename(columns={col: f'{col}_std'})\n",
    "    fea = fea.merge(tmp, how='left', on='zhdh')"
   ]
  },
  {
   "cell_type": "code",
   "execution_count": 18,
   "id": "9eab976f",
   "metadata": {},
   "outputs": [],
   "source": [
    "account_trade['jy_hour'] = account_trade['jysj'].str[:2].astype(int)\n",
    "tmp = account_trade.groupby('zhdh')['jy_hour'].mean().reset_index().rename(columns={'jy_hour': 'jy_hour_mean'})\n",
    "fea = fea.merge(tmp, how='left', on='zhdh')"
   ]
  },
  {
   "cell_type": "code",
   "execution_count": 19,
   "id": "b8a3d4f5",
   "metadata": {},
   "outputs": [],
   "source": [
    "account_trade['jyje_is_int'] = (account_trade['jyje'] == account_trade['jyje'].astype(int)) + 0\n",
    "tmp = account_trade.groupby('zhdh')['jyje_is_int'].sum() / account_trade.groupby('zhdh').size()\n",
    "tmp = tmp.reset_index().rename(columns={0: 'jyje_int_pct'})\n",
    "fea = fea.merge(tmp, how='left', on='zhdh')"
   ]
  },
  {
   "cell_type": "code",
   "execution_count": 20,
   "id": "6a8e3117",
   "metadata": {},
   "outputs": [],
   "source": [
    "tmp = account_trade.groupby('zhdh')['zydh'].nunique().reset_index().rename(columns={'zydh': 'zydh_nunique'})\n",
    "fea = fea.merge(tmp, how='left', on='zhdh')"
   ]
  },
  {
   "cell_type": "code",
   "execution_count": 21,
   "id": "85294fb4",
   "metadata": {},
   "outputs": [],
   "source": [
    "for col in ['dfhh', 'jyqd', 'zydh']:\n",
    "    tmp = account_trade.groupby(['zhdh', col]).size().reset_index().groupby('zhdh')\\\n",
    "        .apply(lambda x: x.sort_values(by=0).iloc[0][col])\\\n",
    "        .reset_index().rename(columns={0: f'most_{col}'})\n",
    "    fea = fea.merge(tmp, how='left', on='zhdh')"
   ]
  },
  {
   "cell_type": "code",
   "execution_count": 22,
   "id": "c375293d",
   "metadata": {},
   "outputs": [],
   "source": [
    "df = account_static.merge(fea, how='left', on='zhdh')"
   ]
  },
  {
   "cell_type": "code",
   "execution_count": 23,
   "id": "69227c6f",
   "metadata": {},
   "outputs": [],
   "source": [
    "y_train = pd.read_csv('./data/训练集标签.csv')"
   ]
  },
  {
   "cell_type": "code",
   "execution_count": 24,
   "id": "a7ab2526",
   "metadata": {},
   "outputs": [],
   "source": [
    "df = df.merge(y_train, how='left', on='zhdh')"
   ]
  },
  {
   "cell_type": "code",
   "execution_count": 25,
   "id": "585e6954",
   "metadata": {},
   "outputs": [],
   "source": [
    "train = df[df['zhdh'].isin(y_train['zhdh'].values)]"
   ]
  },
  {
   "cell_type": "code",
   "execution_count": 26,
   "id": "52382a7c",
   "metadata": {},
   "outputs": [],
   "source": [
    "test_ids = pd.read_csv('./data/test_dataset.csv')['zhdh'].values"
   ]
  },
  {
   "cell_type": "code",
   "execution_count": 27,
   "id": "7d17aa49",
   "metadata": {},
   "outputs": [],
   "source": [
    "test = df[df['zhdh'].isin(test_ids)]"
   ]
  },
  {
   "cell_type": "code",
   "execution_count": 28,
   "id": "3f0134ab",
   "metadata": {},
   "outputs": [],
   "source": [
    "target = 'black_flag'\n",
    "features = [c for c in train.columns if c not in [target, 'zhdh', 'khrq']]"
   ]
  },
  {
   "cell_type": "code",
   "execution_count": 33,
   "id": "de1aa8e7",
   "metadata": {},
   "outputs": [],
   "source": [
    "from sklearn.model_selection import KFold\n",
    "from sklearn.utils.class_weight import compute_class_weight\n",
    "from catboost import CatBoostClassifier"
   ]
  },
  {
   "cell_type": "code",
   "execution_count": 34,
   "id": "832e3817",
   "metadata": {},
   "outputs": [
    {
     "name": "stdout",
     "output_type": "stream",
     "text": [
      "0:\tlearn: 0.6878285\ttest: 0.6880691\tbest: 0.6880691 (0)\ttotal: 68.7ms\tremaining: 11m 27s\n",
      "100:\tlearn: 0.4164203\ttest: 0.4695984\tbest: 0.4695984 (100)\ttotal: 443ms\tremaining: 43.4s\n",
      "200:\tlearn: 0.3238651\ttest: 0.4059339\tbest: 0.4059339 (200)\ttotal: 811ms\tremaining: 39.5s\n",
      "300:\tlearn: 0.2726680\ttest: 0.3751292\tbest: 0.3751292 (300)\ttotal: 1.25s\tremaining: 40.3s\n",
      "400:\tlearn: 0.2361264\ttest: 0.3582961\tbest: 0.3582961 (400)\ttotal: 1.6s\tremaining: 38.4s\n",
      "500:\tlearn: 0.2070088\ttest: 0.3449625\tbest: 0.3449625 (500)\ttotal: 1.95s\tremaining: 37s\n",
      "600:\tlearn: 0.1836315\ttest: 0.3390327\tbest: 0.3390327 (600)\ttotal: 2.3s\tremaining: 36s\n",
      "700:\tlearn: 0.1630827\ttest: 0.3338649\tbest: 0.3338649 (700)\ttotal: 2.65s\tremaining: 35.2s\n",
      "800:\tlearn: 0.1452078\ttest: 0.3311609\tbest: 0.3310738 (796)\ttotal: 3.02s\tremaining: 34.7s\n",
      "900:\tlearn: 0.1272554\ttest: 0.3299845\tbest: 0.3293977 (877)\ttotal: 3.39s\tremaining: 34.3s\n",
      "1000:\tlearn: 0.1140597\ttest: 0.3289071\tbest: 0.3286708 (970)\ttotal: 3.75s\tremaining: 33.7s\n",
      "Stopped by overfitting detector  (100 iterations wait)\n",
      "\n",
      "bestTest = 0.3286708027\n",
      "bestIteration = 970\n",
      "\n",
      "Shrink model to first 971 iterations.\n",
      "0:\tlearn: 0.6876133\ttest: 0.6887374\tbest: 0.6887374 (0)\ttotal: 4.45ms\tremaining: 44.5s\n",
      "100:\tlearn: 0.4165766\ttest: 0.4775397\tbest: 0.4775397 (100)\ttotal: 375ms\tremaining: 36.8s\n",
      "200:\tlearn: 0.3247837\ttest: 0.4134327\tbest: 0.4134327 (200)\ttotal: 732ms\tremaining: 35.7s\n",
      "300:\tlearn: 0.2732360\ttest: 0.3867409\tbest: 0.3867409 (300)\ttotal: 1.11s\tremaining: 35.6s\n",
      "400:\tlearn: 0.2401353\ttest: 0.3710989\tbest: 0.3709479 (399)\ttotal: 1.47s\tremaining: 35.1s\n",
      "500:\tlearn: 0.2138741\ttest: 0.3625718\tbest: 0.3625718 (500)\ttotal: 1.83s\tremaining: 34.6s\n",
      "600:\tlearn: 0.1923950\ttest: 0.3570581\tbest: 0.3570581 (600)\ttotal: 2.2s\tremaining: 34.5s\n",
      "700:\tlearn: 0.1736653\ttest: 0.3557089\tbest: 0.3554786 (637)\ttotal: 2.58s\tremaining: 34.2s\n",
      "800:\tlearn: 0.1548940\ttest: 0.3524404\tbest: 0.3515802 (786)\ttotal: 2.94s\tremaining: 33.7s\n",
      "Stopped by overfitting detector  (100 iterations wait)\n",
      "\n",
      "bestTest = 0.3515802307\n",
      "bestIteration = 786\n",
      "\n",
      "Shrink model to first 787 iterations.\n",
      "0:\tlearn: 0.6882448\ttest: 0.6880485\tbest: 0.6880485 (0)\ttotal: 4.21ms\tremaining: 42.1s\n",
      "100:\tlearn: 0.4214525\ttest: 0.4533068\tbest: 0.4533068 (100)\ttotal: 379ms\tremaining: 37.2s\n",
      "200:\tlearn: 0.3301378\ttest: 0.3961656\tbest: 0.3961656 (200)\ttotal: 741ms\tremaining: 36.1s\n",
      "300:\tlearn: 0.2770295\ttest: 0.3708105\tbest: 0.3708105 (300)\ttotal: 1.12s\tremaining: 36s\n",
      "400:\tlearn: 0.2417121\ttest: 0.3582872\tbest: 0.3582872 (400)\ttotal: 1.48s\tremaining: 35.5s\n",
      "500:\tlearn: 0.2142138\ttest: 0.3524138\tbest: 0.3520353 (498)\ttotal: 1.84s\tremaining: 34.9s\n",
      "600:\tlearn: 0.1903190\ttest: 0.3477628\tbest: 0.3477628 (600)\ttotal: 2.22s\tremaining: 34.7s\n",
      "700:\tlearn: 0.1707428\ttest: 0.3472558\tbest: 0.3464029 (659)\ttotal: 2.57s\tremaining: 34.1s\n",
      "800:\tlearn: 0.1533089\ttest: 0.3451373\tbest: 0.3447869 (796)\ttotal: 2.94s\tremaining: 33.7s\n",
      "900:\tlearn: 0.1370815\ttest: 0.3457016\tbest: 0.3444719 (832)\ttotal: 3.3s\tremaining: 33.3s\n",
      "Stopped by overfitting detector  (100 iterations wait)\n",
      "\n",
      "bestTest = 0.3444718923\n",
      "bestIteration = 832\n",
      "\n",
      "Shrink model to first 833 iterations.\n",
      "0:\tlearn: 0.6872141\ttest: 0.6874018\tbest: 0.6874018 (0)\ttotal: 3.78ms\tremaining: 37.8s\n",
      "100:\tlearn: 0.4272925\ttest: 0.4398250\tbest: 0.4398250 (100)\ttotal: 367ms\tremaining: 35.9s\n",
      "200:\tlearn: 0.3323703\ttest: 0.3775381\tbest: 0.3775381 (200)\ttotal: 730ms\tremaining: 35.6s\n",
      "300:\tlearn: 0.2813828\ttest: 0.3538023\tbest: 0.3538023 (300)\ttotal: 1.08s\tremaining: 34.9s\n",
      "400:\tlearn: 0.2447791\ttest: 0.3406746\tbest: 0.3406746 (400)\ttotal: 1.45s\tremaining: 34.8s\n",
      "500:\tlearn: 0.2170163\ttest: 0.3331174\tbest: 0.3330496 (499)\ttotal: 1.81s\tremaining: 34.3s\n",
      "600:\tlearn: 0.1933163\ttest: 0.3283838\tbest: 0.3279862 (594)\ttotal: 2.18s\tremaining: 34.1s\n",
      "700:\tlearn: 0.1727928\ttest: 0.3249730\tbest: 0.3249730 (700)\ttotal: 2.54s\tremaining: 33.7s\n",
      "800:\tlearn: 0.1540690\ttest: 0.3235689\tbest: 0.3235689 (800)\ttotal: 2.91s\tremaining: 33.4s\n",
      "900:\tlearn: 0.1379953\ttest: 0.3234945\tbest: 0.3227817 (833)\ttotal: 3.26s\tremaining: 32.9s\n",
      "Stopped by overfitting detector  (100 iterations wait)\n",
      "\n",
      "bestTest = 0.322781686\n",
      "bestIteration = 833\n",
      "\n",
      "Shrink model to first 834 iterations.\n",
      "0:\tlearn: 0.6860148\ttest: 0.6881487\tbest: 0.6881487 (0)\ttotal: 4.37ms\tremaining: 43.7s\n",
      "100:\tlearn: 0.4083661\ttest: 0.4861940\tbest: 0.4861940 (100)\ttotal: 361ms\tremaining: 35.4s\n",
      "200:\tlearn: 0.3198178\ttest: 0.4324534\tbest: 0.4324534 (200)\ttotal: 737ms\tremaining: 35.9s\n",
      "300:\tlearn: 0.2707642\ttest: 0.4133056\tbest: 0.4133056 (300)\ttotal: 1.09s\tremaining: 35.1s\n",
      "400:\tlearn: 0.2369206\ttest: 0.4011078\tbest: 0.4011078 (400)\ttotal: 1.47s\tremaining: 35.3s\n",
      "500:\tlearn: 0.2101775\ttest: 0.3949372\tbest: 0.3949372 (500)\ttotal: 1.83s\tremaining: 34.7s\n",
      "600:\tlearn: 0.1874567\ttest: 0.3952494\tbest: 0.3940596 (545)\ttotal: 2.19s\tremaining: 34.3s\n",
      "Stopped by overfitting detector  (100 iterations wait)\n",
      "\n",
      "bestTest = 0.3940596177\n",
      "bestIteration = 545\n",
      "\n",
      "Shrink model to first 546 iterations.\n"
     ]
    }
   ],
   "source": [
    "FOLDS = 5\n",
    "folds = KFold(n_splits=FOLDS, shuffle=True, random_state=42)\n",
    "\n",
    "oof_pred = np.zeros((len(train),))\n",
    "y_pred = np.zeros((len(test),))\n",
    "\n",
    "for fold, (tr_ind, val_ind) in enumerate(folds.split(train)):\n",
    "    x_train, x_val = train.iloc[tr_ind][features], train.iloc[val_ind][features]\n",
    "    y_train, y_val = train.iloc[tr_ind][target], train.iloc[val_ind][target]\n",
    "    \n",
    "    classes = np.unique(y_train)\n",
    "    weights = compute_class_weight(class_weight='balanced', classes=classes, y=y_train)\n",
    "    class_weights = dict(zip(classes, weights))\n",
    "    \n",
    "    params = {\n",
    "        'task_type': 'CPU',\n",
    "        'bootstrap_type': 'Bayesian',\n",
    "        'boosting_type': 'Plain',\n",
    "        'learning_rate': 0.01,\n",
    "        'eval_metric': 'Logloss',\n",
    "        'loss_function': 'Logloss',\n",
    "        'iterations': 10000,\n",
    "        'random_state': 42,\n",
    "        'depth': 6,\n",
    "        'leaf_estimation_iterations': 8,\n",
    "        'reg_lambda': 5,\n",
    "        'early_stopping_rounds': 100,\n",
    "        'class_weights': class_weights,\n",
    "        'cat_features': ['khjgdh', 'xb', '年龄', 'most_dfhh', 'most_jyqd', 'most_zydh'],\n",
    "    }\n",
    "    model = CatBoostClassifier(**params)\n",
    "    model.fit(x_train,\n",
    "               y_train,\n",
    "               eval_set=(x_val, y_val),\n",
    "               verbose=100)\n",
    "    oof_pred[val_ind] = model.predict_proba(x_val)[:, 1]\n",
    "    y_pred += model.predict_proba(test[features])[:, 1] / FOLDS"
   ]
  },
  {
   "cell_type": "code",
   "execution_count": 42,
   "id": "3a12e8b4",
   "metadata": {},
   "outputs": [
    {
     "data": {
      "text/plain": [
       "0.7824620573355818"
      ]
     },
     "execution_count": 42,
     "metadata": {},
     "output_type": "execute_result"
    }
   ],
   "source": [
    "from sklearn.metrics import f1_score\n",
    "f1_score(train[target].values, (oof_pred > 0.5) + 0)"
   ]
  },
  {
   "cell_type": "code",
   "execution_count": 43,
   "id": "43524556",
   "metadata": {},
   "outputs": [],
   "source": [
    "test_result = test[['zhdh', 'black_flag']].copy()\n",
    "test_result['black_flag'] = y_pred\n",
    "test_result['black_flag'] = test_result['black_flag'].apply(lambda x: (x > 0.5)+0)"
   ]
  },
  {
   "cell_type": "code",
   "execution_count": 44,
   "id": "1f3d82b0",
   "metadata": {},
   "outputs": [],
   "source": [
    "result = pd.read_csv('./data/test_dataset.csv')\n",
    "result = result.merge(test_result, how='left', on='zhdh')\n",
    "result.to_csv('result.csv', index=False)"
   ]
  },
  {
   "cell_type": "code",
   "execution_count": 45,
   "id": "55387efd",
   "metadata": {},
   "outputs": [
    {
     "data": {
      "text/plain": [
       "((3595, 2), (1205, 2))"
      ]
     },
     "execution_count": 45,
     "metadata": {},
     "output_type": "execute_result"
    }
   ],
   "source": [
    "result[result['black_flag'] == 0].shape, result[result['black_flag'] == 1].shape"
   ]
  },
  {
   "cell_type": "code",
   "execution_count": 46,
   "id": "e8e61373",
   "metadata": {},
   "outputs": [
    {
     "data": {
      "text/plain": [
       "((900, 30), (300, 30))"
      ]
     },
     "execution_count": 46,
     "metadata": {},
     "output_type": "execute_result"
    }
   ],
   "source": [
    "train[train['black_flag'] == 0].shape, train[train['black_flag'] == 1].shape,"
   ]
  },
  {
   "cell_type": "code",
   "execution_count": 42,
   "id": "a53d8562",
   "metadata": {},
   "outputs": [
    {
     "data": {
      "text/plain": [
       "0    0.271546\n",
       "Name: last_day_trade_cnt, dtype: float64"
      ]
     },
     "execution_count": 42,
     "metadata": {},
     "output_type": "execute_result"
    }
   ],
   "source": [
    "pd.DataFrame(model.feature_importances_, features).sort_values(by=0, ascending=False).loc['last_day_trade_cnt']"
   ]
  },
  {
   "cell_type": "code",
   "execution_count": null,
   "id": "52c4cf02",
   "metadata": {},
   "outputs": [],
   "source": []
  }
 ],
 "metadata": {
  "kernelspec": {
   "display_name": "Python 3 (ipykernel)",
   "language": "python",
   "name": "python3"
  },
  "language_info": {
   "codemirror_mode": {
    "name": "ipython",
    "version": 3
   },
   "file_extension": ".py",
   "mimetype": "text/x-python",
   "name": "python",
   "nbconvert_exporter": "python",
   "pygments_lexer": "ipython3",
   "version": "3.7.13"
  }
 },
 "nbformat": 4,
 "nbformat_minor": 5
}
