{
 "cells": [
  {
   "cell_type": "code",
   "execution_count": 1,
   "id": "7e669a5d",
   "metadata": {},
   "outputs": [],
   "source": [
    "import numpy as np\n",
    "import pandas as pd"
   ]
  },
  {
   "cell_type": "code",
   "execution_count": 2,
   "id": "e1bc23b5",
   "metadata": {},
   "outputs": [],
   "source": [
    "account_static = pd.read_csv('./data/账户静态信息.csv')\n",
    "account_trade = pd.read_csv('./data/账户交易信息.csv')\n",
    "y_train = pd.read_csv('./data/训练集标签.csv')\n",
    "y_test = pd.read_csv('./data/test_dataset.csv')"
   ]
  },
  {
   "cell_type": "code",
   "execution_count": 5,
   "id": "7742d7fe",
   "metadata": {},
   "outputs": [
    {
     "data": {
      "text/plain": [
       "Index(['jylsxh', 'zhdh', 'dfzh', 'jdbj', 'jyje', 'zhye', 'dfhh', 'jyrq',\n",
       "       'jysj', 'jyqd', 'zydh', 'dfmccd'],\n",
       "      dtype='object')"
      ]
     },
     "execution_count": 5,
     "metadata": {},
     "output_type": "execute_result"
    }
   ],
   "source": [
    "account_trade.columns"
   ]
  },
  {
   "cell_type": "code",
   "execution_count": 18,
   "id": "e65030a3",
   "metadata": {},
   "outputs": [
    {
     "data": {
      "text/plain": [
       "array(['0', '99', '98', '96', '94', '95', '76', '91', '63', '9', '88',\n",
       "       '42', '77', '11', '21', '81', '46', '51', '5', '01', '62', '7',\n",
       "       '3', '86', '35', '89', '06', '1', '44', '43', '36', '55', '97',\n",
       "       '48', '6', '69', '37', '25', '82', '22', '24', '52', '58', '33',\n",
       "       '45', '49', '56', '65', '41', '75', '02', '61', '47', '87', '4',\n",
       "       '73', '08', '84', '13', '59', '57', '83', '93', '26', '05', '72',\n",
       "       '85', '17', '78', '67', '66', '38', '39', '8', '64', '53', '12',\n",
       "       '92', '15', '04', '03', '2', '74', '23', '14', '19', '07', '16',\n",
       "       '79', '68', '09', '18', '32', '31', '34', '71', '28', '29', '27',\n",
       "       '54'], dtype=object)"
      ]
     },
     "execution_count": 18,
     "metadata": {},
     "output_type": "execute_result"
    }
   ],
   "source": [
    "account_trade['jyje'].astype(str).str.split('.').str[1].unique()"
   ]
  },
  {
   "cell_type": "code",
   "execution_count": 23,
   "id": "1a3ffe98",
   "metadata": {},
   "outputs": [
    {
     "data": {
      "text/plain": [
       "Index(['jylsxh', 'zhdh', 'dfzh', 'jdbj', 'jyje', 'zhye', 'dfhh', 'jyrq',\n",
       "       'jysj', 'jyqd', 'zydh', 'dfmccd'],\n",
       "      dtype='object')"
      ]
     },
     "execution_count": 23,
     "metadata": {},
     "output_type": "execute_result"
    }
   ],
   "source": [
    "account_trade.columns"
   ]
  },
  {
   "cell_type": "code",
   "execution_count": 31,
   "id": "6707f24f",
   "metadata": {},
   "outputs": [
    {
     "data": {
      "text/html": [
       "<div>\n",
       "<style scoped>\n",
       "    .dataframe tbody tr th:only-of-type {\n",
       "        vertical-align: middle;\n",
       "    }\n",
       "\n",
       "    .dataframe tbody tr th {\n",
       "        vertical-align: top;\n",
       "    }\n",
       "\n",
       "    .dataframe thead th {\n",
       "        text-align: right;\n",
       "    }\n",
       "</style>\n",
       "<table border=\"1\" class=\"dataframe\">\n",
       "  <thead>\n",
       "    <tr style=\"text-align: right;\">\n",
       "      <th></th>\n",
       "      <th>zhdh</th>\n",
       "      <th>most_jyqd</th>\n",
       "    </tr>\n",
       "  </thead>\n",
       "  <tbody>\n",
       "    <tr>\n",
       "      <th>0</th>\n",
       "      <td>00037295453A928A</td>\n",
       "      <td>E96ED478</td>\n",
       "    </tr>\n",
       "    <tr>\n",
       "      <th>1</th>\n",
       "      <td>0004CC075464D54B</td>\n",
       "      <td>E96ED478</td>\n",
       "    </tr>\n",
       "    <tr>\n",
       "      <th>2</th>\n",
       "      <td>000AA77144DC1BCC</td>\n",
       "      <td>E96ED478</td>\n",
       "    </tr>\n",
       "    <tr>\n",
       "      <th>3</th>\n",
       "      <td>001ABBF3373AFC5B</td>\n",
       "      <td>757B505C</td>\n",
       "    </tr>\n",
       "    <tr>\n",
       "      <th>4</th>\n",
       "      <td>00310769938BC172</td>\n",
       "      <td>091D584F</td>\n",
       "    </tr>\n",
       "    <tr>\n",
       "      <th>...</th>\n",
       "      <td>...</td>\n",
       "      <td>...</td>\n",
       "    </tr>\n",
       "    <tr>\n",
       "      <th>5992</th>\n",
       "      <td>FFC065BECA5E133C</td>\n",
       "      <td>091D584F</td>\n",
       "    </tr>\n",
       "    <tr>\n",
       "      <th>5993</th>\n",
       "      <td>FFD2E9065F19B38D</td>\n",
       "      <td>E96ED478</td>\n",
       "    </tr>\n",
       "    <tr>\n",
       "      <th>5994</th>\n",
       "      <td>FFD48BA98FA2D299</td>\n",
       "      <td>757B505C</td>\n",
       "    </tr>\n",
       "    <tr>\n",
       "      <th>5995</th>\n",
       "      <td>FFD8F2A4DB42AC6D</td>\n",
       "      <td>091D584F</td>\n",
       "    </tr>\n",
       "    <tr>\n",
       "      <th>5996</th>\n",
       "      <td>FFEC4454D961DEB1</td>\n",
       "      <td>757B505C</td>\n",
       "    </tr>\n",
       "  </tbody>\n",
       "</table>\n",
       "<p>5997 rows × 2 columns</p>\n",
       "</div>"
      ],
      "text/plain": [
       "                  zhdh most_jyqd\n",
       "0     00037295453A928A  E96ED478\n",
       "1     0004CC075464D54B  E96ED478\n",
       "2     000AA77144DC1BCC  E96ED478\n",
       "3     001ABBF3373AFC5B  757B505C\n",
       "4     00310769938BC172  091D584F\n",
       "...                ...       ...\n",
       "5992  FFC065BECA5E133C  091D584F\n",
       "5993  FFD2E9065F19B38D  E96ED478\n",
       "5994  FFD48BA98FA2D299  757B505C\n",
       "5995  FFD8F2A4DB42AC6D  091D584F\n",
       "5996  FFEC4454D961DEB1  757B505C\n",
       "\n",
       "[5997 rows x 2 columns]"
      ]
     },
     "execution_count": 31,
     "metadata": {},
     "output_type": "execute_result"
    }
   ],
   "source": [
    "account_trade[account_trade['jdbj'] == 0].groupby(['zhdh', 'jyqd']).size().reset_index().groupby('zhdh')\\\n",
    "        .apply(lambda x: x.sort_values(by=0).iloc[-1]['jyqd'])\\\n",
    "        .reset_index().rename(columns={0: f'most_jyqd'})"
   ]
  },
  {
   "cell_type": "code",
   "execution_count": 32,
   "id": "544ea207",
   "metadata": {},
   "outputs": [
    {
     "data": {
      "text/html": [
       "<div>\n",
       "<style scoped>\n",
       "    .dataframe tbody tr th:only-of-type {\n",
       "        vertical-align: middle;\n",
       "    }\n",
       "\n",
       "    .dataframe tbody tr th {\n",
       "        vertical-align: top;\n",
       "    }\n",
       "\n",
       "    .dataframe thead th {\n",
       "        text-align: right;\n",
       "    }\n",
       "</style>\n",
       "<table border=\"1\" class=\"dataframe\">\n",
       "  <thead>\n",
       "    <tr style=\"text-align: right;\">\n",
       "      <th></th>\n",
       "      <th>zhdh</th>\n",
       "      <th>most_jyqd</th>\n",
       "    </tr>\n",
       "  </thead>\n",
       "  <tbody>\n",
       "    <tr>\n",
       "      <th>0</th>\n",
       "      <td>00037295453A928A</td>\n",
       "      <td>757B505C</td>\n",
       "    </tr>\n",
       "    <tr>\n",
       "      <th>1</th>\n",
       "      <td>0004CC075464D54B</td>\n",
       "      <td>621461AF</td>\n",
       "    </tr>\n",
       "    <tr>\n",
       "      <th>2</th>\n",
       "      <td>000AA77144DC1BCC</td>\n",
       "      <td>E96ED478</td>\n",
       "    </tr>\n",
       "    <tr>\n",
       "      <th>3</th>\n",
       "      <td>001ABBF3373AFC5B</td>\n",
       "      <td>621461AF</td>\n",
       "    </tr>\n",
       "    <tr>\n",
       "      <th>4</th>\n",
       "      <td>00310769938BC172</td>\n",
       "      <td>621461AF</td>\n",
       "    </tr>\n",
       "    <tr>\n",
       "      <th>...</th>\n",
       "      <td>...</td>\n",
       "      <td>...</td>\n",
       "    </tr>\n",
       "    <tr>\n",
       "      <th>5993</th>\n",
       "      <td>FFC065BECA5E133C</td>\n",
       "      <td>274AD478</td>\n",
       "    </tr>\n",
       "    <tr>\n",
       "      <th>5994</th>\n",
       "      <td>FFD2E9065F19B38D</td>\n",
       "      <td>E96ED478</td>\n",
       "    </tr>\n",
       "    <tr>\n",
       "      <th>5995</th>\n",
       "      <td>FFD48BA98FA2D299</td>\n",
       "      <td>621461AF</td>\n",
       "    </tr>\n",
       "    <tr>\n",
       "      <th>5996</th>\n",
       "      <td>FFD8F2A4DB42AC6D</td>\n",
       "      <td>621461AF</td>\n",
       "    </tr>\n",
       "    <tr>\n",
       "      <th>5997</th>\n",
       "      <td>FFEC4454D961DEB1</td>\n",
       "      <td>621461AF</td>\n",
       "    </tr>\n",
       "  </tbody>\n",
       "</table>\n",
       "<p>5998 rows × 2 columns</p>\n",
       "</div>"
      ],
      "text/plain": [
       "                  zhdh most_jyqd\n",
       "0     00037295453A928A  757B505C\n",
       "1     0004CC075464D54B  621461AF\n",
       "2     000AA77144DC1BCC  E96ED478\n",
       "3     001ABBF3373AFC5B  621461AF\n",
       "4     00310769938BC172  621461AF\n",
       "...                ...       ...\n",
       "5993  FFC065BECA5E133C  274AD478\n",
       "5994  FFD2E9065F19B38D  E96ED478\n",
       "5995  FFD48BA98FA2D299  621461AF\n",
       "5996  FFD8F2A4DB42AC6D  621461AF\n",
       "5997  FFEC4454D961DEB1  621461AF\n",
       "\n",
       "[5998 rows x 2 columns]"
      ]
     },
     "execution_count": 32,
     "metadata": {},
     "output_type": "execute_result"
    }
   ],
   "source": [
    "account_trade[account_trade['jdbj'] == 1].groupby(['zhdh', 'jyqd']).size().reset_index().groupby('zhdh')\\\n",
    "        .apply(lambda x: x.sort_values(by=0).iloc[-1]['jyqd'])\\\n",
    "        .reset_index().rename(columns={0: f'most_jyqd'})"
   ]
  },
  {
   "cell_type": "code",
   "execution_count": null,
   "id": "3dfa66d8",
   "metadata": {},
   "outputs": [],
   "source": []
  }
 ],
 "metadata": {
  "kernelspec": {
   "display_name": "Python 3 (ipykernel)",
   "language": "python",
   "name": "python3"
  },
  "language_info": {
   "codemirror_mode": {
    "name": "ipython",
    "version": 3
   },
   "file_extension": ".py",
   "mimetype": "text/x-python",
   "name": "python",
   "nbconvert_exporter": "python",
   "pygments_lexer": "ipython3",
   "version": "3.7.13"
  }
 },
 "nbformat": 4,
 "nbformat_minor": 5
}
